{
  "nbformat": 4,
  "nbformat_minor": 0,
  "metadata": {
    "colab": {
      "provenance": [],
      "machine_shape": "hm",
      "include_colab_link": true
    },
    "kernelspec": {
      "name": "python3",
      "display_name": "Python 3"
    },
    "language_info": {
      "name": "python"
    },
    "accelerator": "GPU",
    "gpuClass": "premium",
    "widgets": {
      "application/vnd.jupyter.widget-state+json": {
        "c5c45cfc24124055acbab0b89aa0c190": {
          "model_module": "@jupyter-widgets/controls",
          "model_name": "HBoxModel",
          "model_module_version": "1.5.0",
          "state": {
            "_dom_classes": [],
            "_model_module": "@jupyter-widgets/controls",
            "_model_module_version": "1.5.0",
            "_model_name": "HBoxModel",
            "_view_count": null,
            "_view_module": "@jupyter-widgets/controls",
            "_view_module_version": "1.5.0",
            "_view_name": "HBoxView",
            "box_style": "",
            "children": [
              "IPY_MODEL_b72b37bbad83427e9dc0228a780aead7",
              "IPY_MODEL_f8fee6ef7d914e4993c20cf8599a7198",
              "IPY_MODEL_212d2a4c8ddb4c518c67aaf6fa29e9d1"
            ],
            "layout": "IPY_MODEL_d6bae11cdee64c8387d384973909919f"
          }
        },
        "b72b37bbad83427e9dc0228a780aead7": {
          "model_module": "@jupyter-widgets/controls",
          "model_name": "HTMLModel",
          "model_module_version": "1.5.0",
          "state": {
            "_dom_classes": [],
            "_model_module": "@jupyter-widgets/controls",
            "_model_module_version": "1.5.0",
            "_model_name": "HTMLModel",
            "_view_count": null,
            "_view_module": "@jupyter-widgets/controls",
            "_view_module_version": "1.5.0",
            "_view_name": "HTMLView",
            "description": "",
            "description_tooltip": null,
            "layout": "IPY_MODEL_2692284ec13b4b7ca78a37e373c2042a",
            "placeholder": "​",
            "style": "IPY_MODEL_662f03085bd44c92a6b1865b8b63988b",
            "value": "100%"
          }
        },
        "f8fee6ef7d914e4993c20cf8599a7198": {
          "model_module": "@jupyter-widgets/controls",
          "model_name": "FloatProgressModel",
          "model_module_version": "1.5.0",
          "state": {
            "_dom_classes": [],
            "_model_module": "@jupyter-widgets/controls",
            "_model_module_version": "1.5.0",
            "_model_name": "FloatProgressModel",
            "_view_count": null,
            "_view_module": "@jupyter-widgets/controls",
            "_view_module_version": "1.5.0",
            "_view_name": "ProgressView",
            "bar_style": "success",
            "description": "",
            "description_tooltip": null,
            "layout": "IPY_MODEL_55a29f0d0a214b049364901d7029df4a",
            "max": 91,
            "min": 0,
            "orientation": "horizontal",
            "style": "IPY_MODEL_3620c6cfa622451d893b1abeb7d2d839",
            "value": 91
          }
        },
        "212d2a4c8ddb4c518c67aaf6fa29e9d1": {
          "model_module": "@jupyter-widgets/controls",
          "model_name": "HTMLModel",
          "model_module_version": "1.5.0",
          "state": {
            "_dom_classes": [],
            "_model_module": "@jupyter-widgets/controls",
            "_model_module_version": "1.5.0",
            "_model_name": "HTMLModel",
            "_view_count": null,
            "_view_module": "@jupyter-widgets/controls",
            "_view_module_version": "1.5.0",
            "_view_name": "HTMLView",
            "description": "",
            "description_tooltip": null,
            "layout": "IPY_MODEL_9705004e3b09408c911f1598fd3bd251",
            "placeholder": "​",
            "style": "IPY_MODEL_d1f4043be5bd4ace9e299aaf10758d4a",
            "value": " 91/91 [01:18&lt;00:00,  1.42ba/s]"
          }
        },
        "d6bae11cdee64c8387d384973909919f": {
          "model_module": "@jupyter-widgets/base",
          "model_name": "LayoutModel",
          "model_module_version": "1.2.0",
          "state": {
            "_model_module": "@jupyter-widgets/base",
            "_model_module_version": "1.2.0",
            "_model_name": "LayoutModel",
            "_view_count": null,
            "_view_module": "@jupyter-widgets/base",
            "_view_module_version": "1.2.0",
            "_view_name": "LayoutView",
            "align_content": null,
            "align_items": null,
            "align_self": null,
            "border": null,
            "bottom": null,
            "display": null,
            "flex": null,
            "flex_flow": null,
            "grid_area": null,
            "grid_auto_columns": null,
            "grid_auto_flow": null,
            "grid_auto_rows": null,
            "grid_column": null,
            "grid_gap": null,
            "grid_row": null,
            "grid_template_areas": null,
            "grid_template_columns": null,
            "grid_template_rows": null,
            "height": null,
            "justify_content": null,
            "justify_items": null,
            "left": null,
            "margin": null,
            "max_height": null,
            "max_width": null,
            "min_height": null,
            "min_width": null,
            "object_fit": null,
            "object_position": null,
            "order": null,
            "overflow": null,
            "overflow_x": null,
            "overflow_y": null,
            "padding": null,
            "right": null,
            "top": null,
            "visibility": null,
            "width": null
          }
        },
        "2692284ec13b4b7ca78a37e373c2042a": {
          "model_module": "@jupyter-widgets/base",
          "model_name": "LayoutModel",
          "model_module_version": "1.2.0",
          "state": {
            "_model_module": "@jupyter-widgets/base",
            "_model_module_version": "1.2.0",
            "_model_name": "LayoutModel",
            "_view_count": null,
            "_view_module": "@jupyter-widgets/base",
            "_view_module_version": "1.2.0",
            "_view_name": "LayoutView",
            "align_content": null,
            "align_items": null,
            "align_self": null,
            "border": null,
            "bottom": null,
            "display": null,
            "flex": null,
            "flex_flow": null,
            "grid_area": null,
            "grid_auto_columns": null,
            "grid_auto_flow": null,
            "grid_auto_rows": null,
            "grid_column": null,
            "grid_gap": null,
            "grid_row": null,
            "grid_template_areas": null,
            "grid_template_columns": null,
            "grid_template_rows": null,
            "height": null,
            "justify_content": null,
            "justify_items": null,
            "left": null,
            "margin": null,
            "max_height": null,
            "max_width": null,
            "min_height": null,
            "min_width": null,
            "object_fit": null,
            "object_position": null,
            "order": null,
            "overflow": null,
            "overflow_x": null,
            "overflow_y": null,
            "padding": null,
            "right": null,
            "top": null,
            "visibility": null,
            "width": null
          }
        },
        "662f03085bd44c92a6b1865b8b63988b": {
          "model_module": "@jupyter-widgets/controls",
          "model_name": "DescriptionStyleModel",
          "model_module_version": "1.5.0",
          "state": {
            "_model_module": "@jupyter-widgets/controls",
            "_model_module_version": "1.5.0",
            "_model_name": "DescriptionStyleModel",
            "_view_count": null,
            "_view_module": "@jupyter-widgets/base",
            "_view_module_version": "1.2.0",
            "_view_name": "StyleView",
            "description_width": ""
          }
        },
        "55a29f0d0a214b049364901d7029df4a": {
          "model_module": "@jupyter-widgets/base",
          "model_name": "LayoutModel",
          "model_module_version": "1.2.0",
          "state": {
            "_model_module": "@jupyter-widgets/base",
            "_model_module_version": "1.2.0",
            "_model_name": "LayoutModel",
            "_view_count": null,
            "_view_module": "@jupyter-widgets/base",
            "_view_module_version": "1.2.0",
            "_view_name": "LayoutView",
            "align_content": null,
            "align_items": null,
            "align_self": null,
            "border": null,
            "bottom": null,
            "display": null,
            "flex": null,
            "flex_flow": null,
            "grid_area": null,
            "grid_auto_columns": null,
            "grid_auto_flow": null,
            "grid_auto_rows": null,
            "grid_column": null,
            "grid_gap": null,
            "grid_row": null,
            "grid_template_areas": null,
            "grid_template_columns": null,
            "grid_template_rows": null,
            "height": null,
            "justify_content": null,
            "justify_items": null,
            "left": null,
            "margin": null,
            "max_height": null,
            "max_width": null,
            "min_height": null,
            "min_width": null,
            "object_fit": null,
            "object_position": null,
            "order": null,
            "overflow": null,
            "overflow_x": null,
            "overflow_y": null,
            "padding": null,
            "right": null,
            "top": null,
            "visibility": null,
            "width": null
          }
        },
        "3620c6cfa622451d893b1abeb7d2d839": {
          "model_module": "@jupyter-widgets/controls",
          "model_name": "ProgressStyleModel",
          "model_module_version": "1.5.0",
          "state": {
            "_model_module": "@jupyter-widgets/controls",
            "_model_module_version": "1.5.0",
            "_model_name": "ProgressStyleModel",
            "_view_count": null,
            "_view_module": "@jupyter-widgets/base",
            "_view_module_version": "1.2.0",
            "_view_name": "StyleView",
            "bar_color": null,
            "description_width": ""
          }
        },
        "9705004e3b09408c911f1598fd3bd251": {
          "model_module": "@jupyter-widgets/base",
          "model_name": "LayoutModel",
          "model_module_version": "1.2.0",
          "state": {
            "_model_module": "@jupyter-widgets/base",
            "_model_module_version": "1.2.0",
            "_model_name": "LayoutModel",
            "_view_count": null,
            "_view_module": "@jupyter-widgets/base",
            "_view_module_version": "1.2.0",
            "_view_name": "LayoutView",
            "align_content": null,
            "align_items": null,
            "align_self": null,
            "border": null,
            "bottom": null,
            "display": null,
            "flex": null,
            "flex_flow": null,
            "grid_area": null,
            "grid_auto_columns": null,
            "grid_auto_flow": null,
            "grid_auto_rows": null,
            "grid_column": null,
            "grid_gap": null,
            "grid_row": null,
            "grid_template_areas": null,
            "grid_template_columns": null,
            "grid_template_rows": null,
            "height": null,
            "justify_content": null,
            "justify_items": null,
            "left": null,
            "margin": null,
            "max_height": null,
            "max_width": null,
            "min_height": null,
            "min_width": null,
            "object_fit": null,
            "object_position": null,
            "order": null,
            "overflow": null,
            "overflow_x": null,
            "overflow_y": null,
            "padding": null,
            "right": null,
            "top": null,
            "visibility": null,
            "width": null
          }
        },
        "d1f4043be5bd4ace9e299aaf10758d4a": {
          "model_module": "@jupyter-widgets/controls",
          "model_name": "DescriptionStyleModel",
          "model_module_version": "1.5.0",
          "state": {
            "_model_module": "@jupyter-widgets/controls",
            "_model_module_version": "1.5.0",
            "_model_name": "DescriptionStyleModel",
            "_view_count": null,
            "_view_module": "@jupyter-widgets/base",
            "_view_module_version": "1.2.0",
            "_view_name": "StyleView",
            "description_width": ""
          }
        },
        "1ca789fa5aa5443a9f3d0168e2335797": {
          "model_module": "@jupyter-widgets/controls",
          "model_name": "HBoxModel",
          "model_module_version": "1.5.0",
          "state": {
            "_dom_classes": [],
            "_model_module": "@jupyter-widgets/controls",
            "_model_module_version": "1.5.0",
            "_model_name": "HBoxModel",
            "_view_count": null,
            "_view_module": "@jupyter-widgets/controls",
            "_view_module_version": "1.5.0",
            "_view_name": "HBoxView",
            "box_style": "",
            "children": [
              "IPY_MODEL_04e032aaf8364cb381610ea5d1e39f2c",
              "IPY_MODEL_d4535ebf7f9c4635a3c94618e9b2541f",
              "IPY_MODEL_d6eedfa119e945ec8561291d9da4b7e8"
            ],
            "layout": "IPY_MODEL_e31e4a0bbc464f7ca4da36eb141ba313"
          }
        },
        "04e032aaf8364cb381610ea5d1e39f2c": {
          "model_module": "@jupyter-widgets/controls",
          "model_name": "HTMLModel",
          "model_module_version": "1.5.0",
          "state": {
            "_dom_classes": [],
            "_model_module": "@jupyter-widgets/controls",
            "_model_module_version": "1.5.0",
            "_model_name": "HTMLModel",
            "_view_count": null,
            "_view_module": "@jupyter-widgets/controls",
            "_view_module_version": "1.5.0",
            "_view_name": "HTMLView",
            "description": "",
            "description_tooltip": null,
            "layout": "IPY_MODEL_a7f67f57344e46a29e1ac76e62c839f2",
            "placeholder": "​",
            "style": "IPY_MODEL_e1b328cac1c34698a0d7947897de5b8f",
            "value": "100%"
          }
        },
        "d4535ebf7f9c4635a3c94618e9b2541f": {
          "model_module": "@jupyter-widgets/controls",
          "model_name": "FloatProgressModel",
          "model_module_version": "1.5.0",
          "state": {
            "_dom_classes": [],
            "_model_module": "@jupyter-widgets/controls",
            "_model_module_version": "1.5.0",
            "_model_name": "FloatProgressModel",
            "_view_count": null,
            "_view_module": "@jupyter-widgets/controls",
            "_view_module_version": "1.5.0",
            "_view_name": "ProgressView",
            "bar_style": "success",
            "description": "",
            "description_tooltip": null,
            "layout": "IPY_MODEL_5b11284bb8a24381be4b5dcb04afb022",
            "max": 3,
            "min": 0,
            "orientation": "horizontal",
            "style": "IPY_MODEL_ca2a0b30c4664f1fbb82637adc152aa0",
            "value": 3
          }
        },
        "d6eedfa119e945ec8561291d9da4b7e8": {
          "model_module": "@jupyter-widgets/controls",
          "model_name": "HTMLModel",
          "model_module_version": "1.5.0",
          "state": {
            "_dom_classes": [],
            "_model_module": "@jupyter-widgets/controls",
            "_model_module_version": "1.5.0",
            "_model_name": "HTMLModel",
            "_view_count": null,
            "_view_module": "@jupyter-widgets/controls",
            "_view_module_version": "1.5.0",
            "_view_name": "HTMLView",
            "description": "",
            "description_tooltip": null,
            "layout": "IPY_MODEL_a586dbada7754d358bc50a1e29ec3387",
            "placeholder": "​",
            "style": "IPY_MODEL_493081fa27c34a749bdfea20a7029b7c",
            "value": " 3/3 [00:02&lt;00:00,  1.50ba/s]"
          }
        },
        "e31e4a0bbc464f7ca4da36eb141ba313": {
          "model_module": "@jupyter-widgets/base",
          "model_name": "LayoutModel",
          "model_module_version": "1.2.0",
          "state": {
            "_model_module": "@jupyter-widgets/base",
            "_model_module_version": "1.2.0",
            "_model_name": "LayoutModel",
            "_view_count": null,
            "_view_module": "@jupyter-widgets/base",
            "_view_module_version": "1.2.0",
            "_view_name": "LayoutView",
            "align_content": null,
            "align_items": null,
            "align_self": null,
            "border": null,
            "bottom": null,
            "display": null,
            "flex": null,
            "flex_flow": null,
            "grid_area": null,
            "grid_auto_columns": null,
            "grid_auto_flow": null,
            "grid_auto_rows": null,
            "grid_column": null,
            "grid_gap": null,
            "grid_row": null,
            "grid_template_areas": null,
            "grid_template_columns": null,
            "grid_template_rows": null,
            "height": null,
            "justify_content": null,
            "justify_items": null,
            "left": null,
            "margin": null,
            "max_height": null,
            "max_width": null,
            "min_height": null,
            "min_width": null,
            "object_fit": null,
            "object_position": null,
            "order": null,
            "overflow": null,
            "overflow_x": null,
            "overflow_y": null,
            "padding": null,
            "right": null,
            "top": null,
            "visibility": null,
            "width": null
          }
        },
        "a7f67f57344e46a29e1ac76e62c839f2": {
          "model_module": "@jupyter-widgets/base",
          "model_name": "LayoutModel",
          "model_module_version": "1.2.0",
          "state": {
            "_model_module": "@jupyter-widgets/base",
            "_model_module_version": "1.2.0",
            "_model_name": "LayoutModel",
            "_view_count": null,
            "_view_module": "@jupyter-widgets/base",
            "_view_module_version": "1.2.0",
            "_view_name": "LayoutView",
            "align_content": null,
            "align_items": null,
            "align_self": null,
            "border": null,
            "bottom": null,
            "display": null,
            "flex": null,
            "flex_flow": null,
            "grid_area": null,
            "grid_auto_columns": null,
            "grid_auto_flow": null,
            "grid_auto_rows": null,
            "grid_column": null,
            "grid_gap": null,
            "grid_row": null,
            "grid_template_areas": null,
            "grid_template_columns": null,
            "grid_template_rows": null,
            "height": null,
            "justify_content": null,
            "justify_items": null,
            "left": null,
            "margin": null,
            "max_height": null,
            "max_width": null,
            "min_height": null,
            "min_width": null,
            "object_fit": null,
            "object_position": null,
            "order": null,
            "overflow": null,
            "overflow_x": null,
            "overflow_y": null,
            "padding": null,
            "right": null,
            "top": null,
            "visibility": null,
            "width": null
          }
        },
        "e1b328cac1c34698a0d7947897de5b8f": {
          "model_module": "@jupyter-widgets/controls",
          "model_name": "DescriptionStyleModel",
          "model_module_version": "1.5.0",
          "state": {
            "_model_module": "@jupyter-widgets/controls",
            "_model_module_version": "1.5.0",
            "_model_name": "DescriptionStyleModel",
            "_view_count": null,
            "_view_module": "@jupyter-widgets/base",
            "_view_module_version": "1.2.0",
            "_view_name": "StyleView",
            "description_width": ""
          }
        },
        "5b11284bb8a24381be4b5dcb04afb022": {
          "model_module": "@jupyter-widgets/base",
          "model_name": "LayoutModel",
          "model_module_version": "1.2.0",
          "state": {
            "_model_module": "@jupyter-widgets/base",
            "_model_module_version": "1.2.0",
            "_model_name": "LayoutModel",
            "_view_count": null,
            "_view_module": "@jupyter-widgets/base",
            "_view_module_version": "1.2.0",
            "_view_name": "LayoutView",
            "align_content": null,
            "align_items": null,
            "align_self": null,
            "border": null,
            "bottom": null,
            "display": null,
            "flex": null,
            "flex_flow": null,
            "grid_area": null,
            "grid_auto_columns": null,
            "grid_auto_flow": null,
            "grid_auto_rows": null,
            "grid_column": null,
            "grid_gap": null,
            "grid_row": null,
            "grid_template_areas": null,
            "grid_template_columns": null,
            "grid_template_rows": null,
            "height": null,
            "justify_content": null,
            "justify_items": null,
            "left": null,
            "margin": null,
            "max_height": null,
            "max_width": null,
            "min_height": null,
            "min_width": null,
            "object_fit": null,
            "object_position": null,
            "order": null,
            "overflow": null,
            "overflow_x": null,
            "overflow_y": null,
            "padding": null,
            "right": null,
            "top": null,
            "visibility": null,
            "width": null
          }
        },
        "ca2a0b30c4664f1fbb82637adc152aa0": {
          "model_module": "@jupyter-widgets/controls",
          "model_name": "ProgressStyleModel",
          "model_module_version": "1.5.0",
          "state": {
            "_model_module": "@jupyter-widgets/controls",
            "_model_module_version": "1.5.0",
            "_model_name": "ProgressStyleModel",
            "_view_count": null,
            "_view_module": "@jupyter-widgets/base",
            "_view_module_version": "1.2.0",
            "_view_name": "StyleView",
            "bar_color": null,
            "description_width": ""
          }
        },
        "a586dbada7754d358bc50a1e29ec3387": {
          "model_module": "@jupyter-widgets/base",
          "model_name": "LayoutModel",
          "model_module_version": "1.2.0",
          "state": {
            "_model_module": "@jupyter-widgets/base",
            "_model_module_version": "1.2.0",
            "_model_name": "LayoutModel",
            "_view_count": null,
            "_view_module": "@jupyter-widgets/base",
            "_view_module_version": "1.2.0",
            "_view_name": "LayoutView",
            "align_content": null,
            "align_items": null,
            "align_self": null,
            "border": null,
            "bottom": null,
            "display": null,
            "flex": null,
            "flex_flow": null,
            "grid_area": null,
            "grid_auto_columns": null,
            "grid_auto_flow": null,
            "grid_auto_rows": null,
            "grid_column": null,
            "grid_gap": null,
            "grid_row": null,
            "grid_template_areas": null,
            "grid_template_columns": null,
            "grid_template_rows": null,
            "height": null,
            "justify_content": null,
            "justify_items": null,
            "left": null,
            "margin": null,
            "max_height": null,
            "max_width": null,
            "min_height": null,
            "min_width": null,
            "object_fit": null,
            "object_position": null,
            "order": null,
            "overflow": null,
            "overflow_x": null,
            "overflow_y": null,
            "padding": null,
            "right": null,
            "top": null,
            "visibility": null,
            "width": null
          }
        },
        "493081fa27c34a749bdfea20a7029b7c": {
          "model_module": "@jupyter-widgets/controls",
          "model_name": "DescriptionStyleModel",
          "model_module_version": "1.5.0",
          "state": {
            "_model_module": "@jupyter-widgets/controls",
            "_model_module_version": "1.5.0",
            "_model_name": "DescriptionStyleModel",
            "_view_count": null,
            "_view_module": "@jupyter-widgets/base",
            "_view_module_version": "1.2.0",
            "_view_name": "StyleView",
            "description_width": ""
          }
        },
        "1a54e683dc8a4090a46688cfc5a48d6d": {
          "model_module": "@jupyter-widgets/controls",
          "model_name": "HBoxModel",
          "model_module_version": "1.5.0",
          "state": {
            "_dom_classes": [],
            "_model_module": "@jupyter-widgets/controls",
            "_model_module_version": "1.5.0",
            "_model_name": "HBoxModel",
            "_view_count": null,
            "_view_module": "@jupyter-widgets/controls",
            "_view_module_version": "1.5.0",
            "_view_name": "HBoxView",
            "box_style": "",
            "children": [
              "IPY_MODEL_9591082a493542a39698ed993c8caade",
              "IPY_MODEL_f736681bf3954568aed6afbf9b1b98ad",
              "IPY_MODEL_9ba2e06b36334a96b7bee5b236c062a3"
            ],
            "layout": "IPY_MODEL_c9c21778a8424721a22e72f3130c128b"
          }
        },
        "9591082a493542a39698ed993c8caade": {
          "model_module": "@jupyter-widgets/controls",
          "model_name": "HTMLModel",
          "model_module_version": "1.5.0",
          "state": {
            "_dom_classes": [],
            "_model_module": "@jupyter-widgets/controls",
            "_model_module_version": "1.5.0",
            "_model_name": "HTMLModel",
            "_view_count": null,
            "_view_module": "@jupyter-widgets/controls",
            "_view_module_version": "1.5.0",
            "_view_name": "HTMLView",
            "description": "",
            "description_tooltip": null,
            "layout": "IPY_MODEL_1eff2f5330a6428c8afab90e6d9880fc",
            "placeholder": "​",
            "style": "IPY_MODEL_68835cd181ad4809a20d9253f9da0fe8",
            "value": "100%"
          }
        },
        "f736681bf3954568aed6afbf9b1b98ad": {
          "model_module": "@jupyter-widgets/controls",
          "model_name": "FloatProgressModel",
          "model_module_version": "1.5.0",
          "state": {
            "_dom_classes": [],
            "_model_module": "@jupyter-widgets/controls",
            "_model_module_version": "1.5.0",
            "_model_name": "FloatProgressModel",
            "_view_count": null,
            "_view_module": "@jupyter-widgets/controls",
            "_view_module_version": "1.5.0",
            "_view_name": "ProgressView",
            "bar_style": "success",
            "description": "",
            "description_tooltip": null,
            "layout": "IPY_MODEL_3c6d6efb85cf4db7b7772ca298705ce2",
            "max": 3,
            "min": 0,
            "orientation": "horizontal",
            "style": "IPY_MODEL_86e0ec84887e4a978905d33f4deaab71",
            "value": 3
          }
        },
        "9ba2e06b36334a96b7bee5b236c062a3": {
          "model_module": "@jupyter-widgets/controls",
          "model_name": "HTMLModel",
          "model_module_version": "1.5.0",
          "state": {
            "_dom_classes": [],
            "_model_module": "@jupyter-widgets/controls",
            "_model_module_version": "1.5.0",
            "_model_name": "HTMLModel",
            "_view_count": null,
            "_view_module": "@jupyter-widgets/controls",
            "_view_module_version": "1.5.0",
            "_view_name": "HTMLView",
            "description": "",
            "description_tooltip": null,
            "layout": "IPY_MODEL_d2ad8575d0024418ba468a426fc24266",
            "placeholder": "​",
            "style": "IPY_MODEL_fcd06347ac70455bafaa4f16414edc18",
            "value": " 3/3 [00:02&lt;00:00,  1.11ba/s]"
          }
        },
        "c9c21778a8424721a22e72f3130c128b": {
          "model_module": "@jupyter-widgets/base",
          "model_name": "LayoutModel",
          "model_module_version": "1.2.0",
          "state": {
            "_model_module": "@jupyter-widgets/base",
            "_model_module_version": "1.2.0",
            "_model_name": "LayoutModel",
            "_view_count": null,
            "_view_module": "@jupyter-widgets/base",
            "_view_module_version": "1.2.0",
            "_view_name": "LayoutView",
            "align_content": null,
            "align_items": null,
            "align_self": null,
            "border": null,
            "bottom": null,
            "display": null,
            "flex": null,
            "flex_flow": null,
            "grid_area": null,
            "grid_auto_columns": null,
            "grid_auto_flow": null,
            "grid_auto_rows": null,
            "grid_column": null,
            "grid_gap": null,
            "grid_row": null,
            "grid_template_areas": null,
            "grid_template_columns": null,
            "grid_template_rows": null,
            "height": null,
            "justify_content": null,
            "justify_items": null,
            "left": null,
            "margin": null,
            "max_height": null,
            "max_width": null,
            "min_height": null,
            "min_width": null,
            "object_fit": null,
            "object_position": null,
            "order": null,
            "overflow": null,
            "overflow_x": null,
            "overflow_y": null,
            "padding": null,
            "right": null,
            "top": null,
            "visibility": null,
            "width": null
          }
        },
        "1eff2f5330a6428c8afab90e6d9880fc": {
          "model_module": "@jupyter-widgets/base",
          "model_name": "LayoutModel",
          "model_module_version": "1.2.0",
          "state": {
            "_model_module": "@jupyter-widgets/base",
            "_model_module_version": "1.2.0",
            "_model_name": "LayoutModel",
            "_view_count": null,
            "_view_module": "@jupyter-widgets/base",
            "_view_module_version": "1.2.0",
            "_view_name": "LayoutView",
            "align_content": null,
            "align_items": null,
            "align_self": null,
            "border": null,
            "bottom": null,
            "display": null,
            "flex": null,
            "flex_flow": null,
            "grid_area": null,
            "grid_auto_columns": null,
            "grid_auto_flow": null,
            "grid_auto_rows": null,
            "grid_column": null,
            "grid_gap": null,
            "grid_row": null,
            "grid_template_areas": null,
            "grid_template_columns": null,
            "grid_template_rows": null,
            "height": null,
            "justify_content": null,
            "justify_items": null,
            "left": null,
            "margin": null,
            "max_height": null,
            "max_width": null,
            "min_height": null,
            "min_width": null,
            "object_fit": null,
            "object_position": null,
            "order": null,
            "overflow": null,
            "overflow_x": null,
            "overflow_y": null,
            "padding": null,
            "right": null,
            "top": null,
            "visibility": null,
            "width": null
          }
        },
        "68835cd181ad4809a20d9253f9da0fe8": {
          "model_module": "@jupyter-widgets/controls",
          "model_name": "DescriptionStyleModel",
          "model_module_version": "1.5.0",
          "state": {
            "_model_module": "@jupyter-widgets/controls",
            "_model_module_version": "1.5.0",
            "_model_name": "DescriptionStyleModel",
            "_view_count": null,
            "_view_module": "@jupyter-widgets/base",
            "_view_module_version": "1.2.0",
            "_view_name": "StyleView",
            "description_width": ""
          }
        },
        "3c6d6efb85cf4db7b7772ca298705ce2": {
          "model_module": "@jupyter-widgets/base",
          "model_name": "LayoutModel",
          "model_module_version": "1.2.0",
          "state": {
            "_model_module": "@jupyter-widgets/base",
            "_model_module_version": "1.2.0",
            "_model_name": "LayoutModel",
            "_view_count": null,
            "_view_module": "@jupyter-widgets/base",
            "_view_module_version": "1.2.0",
            "_view_name": "LayoutView",
            "align_content": null,
            "align_items": null,
            "align_self": null,
            "border": null,
            "bottom": null,
            "display": null,
            "flex": null,
            "flex_flow": null,
            "grid_area": null,
            "grid_auto_columns": null,
            "grid_auto_flow": null,
            "grid_auto_rows": null,
            "grid_column": null,
            "grid_gap": null,
            "grid_row": null,
            "grid_template_areas": null,
            "grid_template_columns": null,
            "grid_template_rows": null,
            "height": null,
            "justify_content": null,
            "justify_items": null,
            "left": null,
            "margin": null,
            "max_height": null,
            "max_width": null,
            "min_height": null,
            "min_width": null,
            "object_fit": null,
            "object_position": null,
            "order": null,
            "overflow": null,
            "overflow_x": null,
            "overflow_y": null,
            "padding": null,
            "right": null,
            "top": null,
            "visibility": null,
            "width": null
          }
        },
        "86e0ec84887e4a978905d33f4deaab71": {
          "model_module": "@jupyter-widgets/controls",
          "model_name": "ProgressStyleModel",
          "model_module_version": "1.5.0",
          "state": {
            "_model_module": "@jupyter-widgets/controls",
            "_model_module_version": "1.5.0",
            "_model_name": "ProgressStyleModel",
            "_view_count": null,
            "_view_module": "@jupyter-widgets/base",
            "_view_module_version": "1.2.0",
            "_view_name": "StyleView",
            "bar_color": null,
            "description_width": ""
          }
        },
        "d2ad8575d0024418ba468a426fc24266": {
          "model_module": "@jupyter-widgets/base",
          "model_name": "LayoutModel",
          "model_module_version": "1.2.0",
          "state": {
            "_model_module": "@jupyter-widgets/base",
            "_model_module_version": "1.2.0",
            "_model_name": "LayoutModel",
            "_view_count": null,
            "_view_module": "@jupyter-widgets/base",
            "_view_module_version": "1.2.0",
            "_view_name": "LayoutView",
            "align_content": null,
            "align_items": null,
            "align_self": null,
            "border": null,
            "bottom": null,
            "display": null,
            "flex": null,
            "flex_flow": null,
            "grid_area": null,
            "grid_auto_columns": null,
            "grid_auto_flow": null,
            "grid_auto_rows": null,
            "grid_column": null,
            "grid_gap": null,
            "grid_row": null,
            "grid_template_areas": null,
            "grid_template_columns": null,
            "grid_template_rows": null,
            "height": null,
            "justify_content": null,
            "justify_items": null,
            "left": null,
            "margin": null,
            "max_height": null,
            "max_width": null,
            "min_height": null,
            "min_width": null,
            "object_fit": null,
            "object_position": null,
            "order": null,
            "overflow": null,
            "overflow_x": null,
            "overflow_y": null,
            "padding": null,
            "right": null,
            "top": null,
            "visibility": null,
            "width": null
          }
        },
        "fcd06347ac70455bafaa4f16414edc18": {
          "model_module": "@jupyter-widgets/controls",
          "model_name": "DescriptionStyleModel",
          "model_module_version": "1.5.0",
          "state": {
            "_model_module": "@jupyter-widgets/controls",
            "_model_module_version": "1.5.0",
            "_model_name": "DescriptionStyleModel",
            "_view_count": null,
            "_view_module": "@jupyter-widgets/base",
            "_view_module_version": "1.2.0",
            "_view_name": "StyleView",
            "description_width": ""
          }
        },
        "b75a6e2230294b91a461ab08035a495c": {
          "model_module": "@jupyter-widgets/controls",
          "model_name": "HBoxModel",
          "model_module_version": "1.5.0",
          "state": {
            "_dom_classes": [],
            "_model_module": "@jupyter-widgets/controls",
            "_model_module_version": "1.5.0",
            "_model_name": "HBoxModel",
            "_view_count": null,
            "_view_module": "@jupyter-widgets/controls",
            "_view_module_version": "1.5.0",
            "_view_name": "HBoxView",
            "box_style": "",
            "children": [
              "IPY_MODEL_2d950ab68f7c453ea93cb69129009886",
              "IPY_MODEL_371f365e4f2b465bb02fca269e5a8e2c",
              "IPY_MODEL_49b87f4b324846a7919f13e6ec218346"
            ],
            "layout": "IPY_MODEL_d20d71cbb68e4260bd85fb2a297ba77f"
          }
        },
        "2d950ab68f7c453ea93cb69129009886": {
          "model_module": "@jupyter-widgets/controls",
          "model_name": "HTMLModel",
          "model_module_version": "1.5.0",
          "state": {
            "_dom_classes": [],
            "_model_module": "@jupyter-widgets/controls",
            "_model_module_version": "1.5.0",
            "_model_name": "HTMLModel",
            "_view_count": null,
            "_view_module": "@jupyter-widgets/controls",
            "_view_module_version": "1.5.0",
            "_view_name": "HTMLView",
            "description": "",
            "description_tooltip": null,
            "layout": "IPY_MODEL_9ad301db8e234ed1a50f16039e4b515a",
            "placeholder": "​",
            "style": "IPY_MODEL_630cedd0fe37427fb4aeeee70cfdf4e3",
            "value": "100%"
          }
        },
        "371f365e4f2b465bb02fca269e5a8e2c": {
          "model_module": "@jupyter-widgets/controls",
          "model_name": "FloatProgressModel",
          "model_module_version": "1.5.0",
          "state": {
            "_dom_classes": [],
            "_model_module": "@jupyter-widgets/controls",
            "_model_module_version": "1.5.0",
            "_model_name": "FloatProgressModel",
            "_view_count": null,
            "_view_module": "@jupyter-widgets/controls",
            "_view_module_version": "1.5.0",
            "_view_name": "ProgressView",
            "bar_style": "success",
            "description": "",
            "description_tooltip": null,
            "layout": "IPY_MODEL_60822ba6f8364299b7c9da0e12d2f17d",
            "max": 5,
            "min": 0,
            "orientation": "horizontal",
            "style": "IPY_MODEL_a6f963c2950f421a8284c3a2768aa7ed",
            "value": 5
          }
        },
        "49b87f4b324846a7919f13e6ec218346": {
          "model_module": "@jupyter-widgets/controls",
          "model_name": "HTMLModel",
          "model_module_version": "1.5.0",
          "state": {
            "_dom_classes": [],
            "_model_module": "@jupyter-widgets/controls",
            "_model_module_version": "1.5.0",
            "_model_name": "HTMLModel",
            "_view_count": null,
            "_view_module": "@jupyter-widgets/controls",
            "_view_module_version": "1.5.0",
            "_view_name": "HTMLView",
            "description": "",
            "description_tooltip": null,
            "layout": "IPY_MODEL_c6cc5e36468e420492a1e4411841e483",
            "placeholder": "​",
            "style": "IPY_MODEL_4f9921b8ccbb4efaac58667f2abc7a5a",
            "value": " 5/5 [00:04&lt;00:00,  1.20s/ba]"
          }
        },
        "d20d71cbb68e4260bd85fb2a297ba77f": {
          "model_module": "@jupyter-widgets/base",
          "model_name": "LayoutModel",
          "model_module_version": "1.2.0",
          "state": {
            "_model_module": "@jupyter-widgets/base",
            "_model_module_version": "1.2.0",
            "_model_name": "LayoutModel",
            "_view_count": null,
            "_view_module": "@jupyter-widgets/base",
            "_view_module_version": "1.2.0",
            "_view_name": "LayoutView",
            "align_content": null,
            "align_items": null,
            "align_self": null,
            "border": null,
            "bottom": null,
            "display": null,
            "flex": null,
            "flex_flow": null,
            "grid_area": null,
            "grid_auto_columns": null,
            "grid_auto_flow": null,
            "grid_auto_rows": null,
            "grid_column": null,
            "grid_gap": null,
            "grid_row": null,
            "grid_template_areas": null,
            "grid_template_columns": null,
            "grid_template_rows": null,
            "height": null,
            "justify_content": null,
            "justify_items": null,
            "left": null,
            "margin": null,
            "max_height": null,
            "max_width": null,
            "min_height": null,
            "min_width": null,
            "object_fit": null,
            "object_position": null,
            "order": null,
            "overflow": null,
            "overflow_x": null,
            "overflow_y": null,
            "padding": null,
            "right": null,
            "top": null,
            "visibility": null,
            "width": null
          }
        },
        "9ad301db8e234ed1a50f16039e4b515a": {
          "model_module": "@jupyter-widgets/base",
          "model_name": "LayoutModel",
          "model_module_version": "1.2.0",
          "state": {
            "_model_module": "@jupyter-widgets/base",
            "_model_module_version": "1.2.0",
            "_model_name": "LayoutModel",
            "_view_count": null,
            "_view_module": "@jupyter-widgets/base",
            "_view_module_version": "1.2.0",
            "_view_name": "LayoutView",
            "align_content": null,
            "align_items": null,
            "align_self": null,
            "border": null,
            "bottom": null,
            "display": null,
            "flex": null,
            "flex_flow": null,
            "grid_area": null,
            "grid_auto_columns": null,
            "grid_auto_flow": null,
            "grid_auto_rows": null,
            "grid_column": null,
            "grid_gap": null,
            "grid_row": null,
            "grid_template_areas": null,
            "grid_template_columns": null,
            "grid_template_rows": null,
            "height": null,
            "justify_content": null,
            "justify_items": null,
            "left": null,
            "margin": null,
            "max_height": null,
            "max_width": null,
            "min_height": null,
            "min_width": null,
            "object_fit": null,
            "object_position": null,
            "order": null,
            "overflow": null,
            "overflow_x": null,
            "overflow_y": null,
            "padding": null,
            "right": null,
            "top": null,
            "visibility": null,
            "width": null
          }
        },
        "630cedd0fe37427fb4aeeee70cfdf4e3": {
          "model_module": "@jupyter-widgets/controls",
          "model_name": "DescriptionStyleModel",
          "model_module_version": "1.5.0",
          "state": {
            "_model_module": "@jupyter-widgets/controls",
            "_model_module_version": "1.5.0",
            "_model_name": "DescriptionStyleModel",
            "_view_count": null,
            "_view_module": "@jupyter-widgets/base",
            "_view_module_version": "1.2.0",
            "_view_name": "StyleView",
            "description_width": ""
          }
        },
        "60822ba6f8364299b7c9da0e12d2f17d": {
          "model_module": "@jupyter-widgets/base",
          "model_name": "LayoutModel",
          "model_module_version": "1.2.0",
          "state": {
            "_model_module": "@jupyter-widgets/base",
            "_model_module_version": "1.2.0",
            "_model_name": "LayoutModel",
            "_view_count": null,
            "_view_module": "@jupyter-widgets/base",
            "_view_module_version": "1.2.0",
            "_view_name": "LayoutView",
            "align_content": null,
            "align_items": null,
            "align_self": null,
            "border": null,
            "bottom": null,
            "display": null,
            "flex": null,
            "flex_flow": null,
            "grid_area": null,
            "grid_auto_columns": null,
            "grid_auto_flow": null,
            "grid_auto_rows": null,
            "grid_column": null,
            "grid_gap": null,
            "grid_row": null,
            "grid_template_areas": null,
            "grid_template_columns": null,
            "grid_template_rows": null,
            "height": null,
            "justify_content": null,
            "justify_items": null,
            "left": null,
            "margin": null,
            "max_height": null,
            "max_width": null,
            "min_height": null,
            "min_width": null,
            "object_fit": null,
            "object_position": null,
            "order": null,
            "overflow": null,
            "overflow_x": null,
            "overflow_y": null,
            "padding": null,
            "right": null,
            "top": null,
            "visibility": null,
            "width": null
          }
        },
        "a6f963c2950f421a8284c3a2768aa7ed": {
          "model_module": "@jupyter-widgets/controls",
          "model_name": "ProgressStyleModel",
          "model_module_version": "1.5.0",
          "state": {
            "_model_module": "@jupyter-widgets/controls",
            "_model_module_version": "1.5.0",
            "_model_name": "ProgressStyleModel",
            "_view_count": null,
            "_view_module": "@jupyter-widgets/base",
            "_view_module_version": "1.2.0",
            "_view_name": "StyleView",
            "bar_color": null,
            "description_width": ""
          }
        },
        "c6cc5e36468e420492a1e4411841e483": {
          "model_module": "@jupyter-widgets/base",
          "model_name": "LayoutModel",
          "model_module_version": "1.2.0",
          "state": {
            "_model_module": "@jupyter-widgets/base",
            "_model_module_version": "1.2.0",
            "_model_name": "LayoutModel",
            "_view_count": null,
            "_view_module": "@jupyter-widgets/base",
            "_view_module_version": "1.2.0",
            "_view_name": "LayoutView",
            "align_content": null,
            "align_items": null,
            "align_self": null,
            "border": null,
            "bottom": null,
            "display": null,
            "flex": null,
            "flex_flow": null,
            "grid_area": null,
            "grid_auto_columns": null,
            "grid_auto_flow": null,
            "grid_auto_rows": null,
            "grid_column": null,
            "grid_gap": null,
            "grid_row": null,
            "grid_template_areas": null,
            "grid_template_columns": null,
            "grid_template_rows": null,
            "height": null,
            "justify_content": null,
            "justify_items": null,
            "left": null,
            "margin": null,
            "max_height": null,
            "max_width": null,
            "min_height": null,
            "min_width": null,
            "object_fit": null,
            "object_position": null,
            "order": null,
            "overflow": null,
            "overflow_x": null,
            "overflow_y": null,
            "padding": null,
            "right": null,
            "top": null,
            "visibility": null,
            "width": null
          }
        },
        "4f9921b8ccbb4efaac58667f2abc7a5a": {
          "model_module": "@jupyter-widgets/controls",
          "model_name": "DescriptionStyleModel",
          "model_module_version": "1.5.0",
          "state": {
            "_model_module": "@jupyter-widgets/controls",
            "_model_module_version": "1.5.0",
            "_model_name": "DescriptionStyleModel",
            "_view_count": null,
            "_view_module": "@jupyter-widgets/base",
            "_view_module_version": "1.2.0",
            "_view_name": "StyleView",
            "description_width": ""
          }
        }
      }
    }
  },
  "cells": [
    {
      "cell_type": "markdown",
      "metadata": {
        "id": "view-in-github",
        "colab_type": "text"
      },
      "source": [
        "<a href=\"https://colab.research.google.com/github/yongjulee0213/KLUE/blob/main/proj2_klue_dataset_kobigbird_Question%26Answering.ipynb\" target=\"_parent\"><img src=\"https://colab.research.google.com/assets/colab-badge.svg\" alt=\"Open In Colab\"/></a>"
      ]
    },
    {
      "cell_type": "markdown",
      "source": [
        "# 0️⃣ Prerequisite"
      ],
      "metadata": {
        "id": "WElKKp0Oxdpz"
      }
    },
    {
      "cell_type": "code",
      "source": [
        "!sudo apt-get install -y fonts-nanum\n",
        "!sudo fc-cache -fv\n",
        "!rm ~/.cache/matplotlib -rf"
      ],
      "metadata": {
        "colab": {
          "base_uri": "https://localhost:8080/"
        },
        "id": "ZGeLeh3PgsXI",
        "outputId": "5e60b1e9-fcce-48da-ae4e-9898365fca46"
      },
      "execution_count": null,
      "outputs": [
        {
          "output_type": "stream",
          "name": "stdout",
          "text": [
            "Reading package lists... Done\n",
            "Building dependency tree       \n",
            "Reading state information... Done\n",
            "The following package was automatically installed and is no longer required:\n",
            "  libnvidia-common-460\n",
            "Use 'sudo apt autoremove' to remove it.\n",
            "The following NEW packages will be installed:\n",
            "  fonts-nanum\n",
            "0 upgraded, 1 newly installed, 0 to remove and 21 not upgraded.\n",
            "Need to get 9,604 kB of archives.\n",
            "After this operation, 29.5 MB of additional disk space will be used.\n",
            "Get:1 http://archive.ubuntu.com/ubuntu bionic/universe amd64 fonts-nanum all 20170925-1 [9,604 kB]\n",
            "Fetched 9,604 kB in 2s (4,324 kB/s)\n",
            "debconf: unable to initialize frontend: Dialog\n",
            "debconf: (No usable dialog-like program is installed, so the dialog based frontend cannot be used. at /usr/share/perl5/Debconf/FrontEnd/Dialog.pm line 76, <> line 1.)\n",
            "debconf: falling back to frontend: Readline\n",
            "debconf: unable to initialize frontend: Readline\n",
            "debconf: (This frontend requires a controlling tty.)\n",
            "debconf: falling back to frontend: Teletype\n",
            "dpkg-preconfigure: unable to re-open stdin: \n",
            "Selecting previously unselected package fonts-nanum.\n",
            "(Reading database ... 124016 files and directories currently installed.)\n",
            "Preparing to unpack .../fonts-nanum_20170925-1_all.deb ...\n",
            "Unpacking fonts-nanum (20170925-1) ...\n",
            "Setting up fonts-nanum (20170925-1) ...\n",
            "Processing triggers for fontconfig (2.12.6-0ubuntu2) ...\n",
            "/usr/share/fonts: caching, new cache contents: 0 fonts, 1 dirs\n",
            "/usr/share/fonts/truetype: caching, new cache contents: 0 fonts, 3 dirs\n",
            "/usr/share/fonts/truetype/humor-sans: caching, new cache contents: 1 fonts, 0 dirs\n",
            "/usr/share/fonts/truetype/liberation: caching, new cache contents: 16 fonts, 0 dirs\n",
            "/usr/share/fonts/truetype/nanum: caching, new cache contents: 10 fonts, 0 dirs\n",
            "/usr/local/share/fonts: caching, new cache contents: 0 fonts, 0 dirs\n",
            "/root/.local/share/fonts: skipping, no such directory\n",
            "/root/.fonts: skipping, no such directory\n",
            "/var/cache/fontconfig: cleaning cache directory\n",
            "/root/.cache/fontconfig: not cleaning non-existent cache directory\n",
            "/root/.fontconfig: not cleaning non-existent cache directory\n",
            "fc-cache: succeeded\n"
          ]
        }
      ]
    },
    {
      "cell_type": "markdown",
      "source": [
        "⚠️⚠️⚠️⚠️⚠️ [런타임] - [런타임 다시 시작] ⚠️⚠️⚠️⚠️⚠️"
      ],
      "metadata": {
        "id": "cebjaT-wgy-z"
      }
    },
    {
      "cell_type": "markdown",
      "source": [
        "## Mount Google Drive"
      ],
      "metadata": {
        "id": "TQ27ufcOxyyv"
      }
    },
    {
      "cell_type": "code",
      "execution_count": null,
      "metadata": {
        "colab": {
          "base_uri": "https://localhost:8080/"
        },
        "id": "ng1Qc28Lwi-V",
        "outputId": "1c9200bc-5fb8-4fef-a7e1-5ac11407d937"
      },
      "outputs": [
        {
          "output_type": "stream",
          "name": "stdout",
          "text": [
            "Drive already mounted at /content/drive; to attempt to forcibly remount, call drive.mount(\"/content/drive\", force_remount=True).\n"
          ]
        }
      ],
      "source": [
        "from google.colab import drive\n",
        "drive.mount('/content/drive')"
      ]
    },
    {
      "cell_type": "code",
      "source": [
        "import os\n",
        "os.chdir('/content/drive/MyDrive/Colab Notebooks/구름/goorm_proj2')"
      ],
      "metadata": {
        "id": "7uLdhK23wnLJ"
      },
      "execution_count": null,
      "outputs": []
    },
    {
      "cell_type": "markdown",
      "source": [
        "## Import libraries"
      ],
      "metadata": {
        "id": "hsBoyfB0x1a8"
      }
    },
    {
      "cell_type": "code",
      "source": [
        "!pip install datasets\n",
        "!pip install levenshtein\n",
        "!pip install torchinfo\n",
        "!pip install transformers\n",
        "!pip install wandb"
      ],
      "metadata": {
        "id": "rYTiSdFlyCJx"
      },
      "execution_count": null,
      "outputs": []
    },
    {
      "cell_type": "code",
      "source": [
        "# Log in to your W&B account\n",
        "import wandb\n",
        "wandb.login(key='eeef6909a6674c953c756358e614461bdced83c4')"
      ],
      "metadata": {
        "colab": {
          "base_uri": "https://localhost:8080/"
        },
        "id": "6A-CdTbzbKr9",
        "outputId": "8ffc1357-c98b-4386-e0e2-93f9f6f490be"
      },
      "execution_count": null,
      "outputs": [
        {
          "output_type": "stream",
          "name": "stderr",
          "text": [
            "ERROR:wandb.jupyter:Failed to detect the name of this notebook, you can set it manually with the WANDB_NOTEBOOK_NAME environment variable to enable code saving.\n",
            "\u001b[34m\u001b[1mwandb\u001b[0m: Currently logged in as: \u001b[33myangdk02\u001b[0m. Use \u001b[1m`wandb login --relogin`\u001b[0m to force relogin\n",
            "\u001b[34m\u001b[1mwandb\u001b[0m: \u001b[33mWARNING\u001b[0m If you're specifying your api key in code, ensure this code is not shared publicly.\n",
            "\u001b[34m\u001b[1mwandb\u001b[0m: \u001b[33mWARNING\u001b[0m Consider setting the WANDB_API_KEY environment variable, or running `wandb login` from the command line.\n",
            "\u001b[34m\u001b[1mwandb\u001b[0m: Appending key for api.wandb.ai to your netrc file: /root/.netrc\n"
          ]
        },
        {
          "output_type": "execute_result",
          "data": {
            "text/plain": [
              "True"
            ]
          },
          "metadata": {},
          "execution_count": 4
        }
      ]
    },
    {
      "cell_type": "code",
      "source": [
        "import csv\n",
        "import json\n",
        "import math\n",
        "import numpy as np\n",
        "import pandas as pd\n",
        "import pickle\n",
        "import random\n",
        "import warnings\n",
        "\n",
        "from collections import defaultdict, OrderedDict\n",
        "from datasets import Dataset, load_metric\n",
        "from easydict import EasyDict as edict\n",
        "from Levenshtein import distance\n",
        "from pathlib import Path\n",
        "from tqdm.auto import tqdm\n",
        "\n",
        "import torch\n",
        "from torchinfo import summary\n",
        "\n",
        "from transformers import (\n",
        "    AutoConfig,\n",
        "    AutoTokenizer,\n",
        "    AutoModelForQuestionAnswering,\n",
        "    default_data_collator,\n",
        "    EarlyStoppingCallback,\n",
        "    get_cosine_schedule_with_warmup,\n",
        "    PreTrainedTokenizerFast,\n",
        "    Trainer,\n",
        "    TrainingArguments\n",
        ")\n",
        "\n",
        "import matplotlib.pyplot as plt"
      ],
      "metadata": {
        "id": "HQMbaIqixW0D"
      },
      "execution_count": null,
      "outputs": []
    },
    {
      "cell_type": "code",
      "source": [
        "args = edict({\n",
        "       'lr': 1e-5,\n",
        "       'batch_size': {\n",
        "            'train': 512,\n",
        "            'dev': 512,\n",
        "            'test': 512\n",
        "        },\n",
        "        'seed': 42,\n",
        "        'device': torch.device('cuda' if torch.cuda.is_available() else 'cpu'),\n",
        "        'doc_stride': 200, # The authorized overlap between two part of the context when splitting it is needed.\n",
        "        'epochs': 30,\n",
        "        'max_length': 1024, # The maximum length of a feature (question and context)\n",
        "        'model_checkpoint': 'monologg/kobigbird-bert-base',\n",
        "        'n_best_size': 10,\n",
        "        'max_answer_length': 10\n",
        "})\n",
        "args['accumulation'] = int(args.batch_size.train/16)\n",
        "args['model_name'] = args.model_checkpoint.split(\"/\")[-1]\n",
        "args['name'] = f'{args.model_name}_lr{args.lr}_ep{args.epochs}_max{args.max_length}_{random.randrange(0, 1024)}'"
      ],
      "metadata": {
        "id": "bC3Qq7ZsyT6f"
      },
      "execution_count": null,
      "outputs": []
    },
    {
      "cell_type": "code",
      "source": [
        "wandb.init(\n",
        "    project=\"groom_proj2_korean-mrc\",\n",
        "    name = f\"experiment-{args.name}\",\n",
        "    config=dict(args))"
      ],
      "metadata": {
        "colab": {
          "base_uri": "https://localhost:8080/",
          "height": 92
        },
        "id": "wQbJQtXJcM-Q",
        "outputId": "ad799303-e3e0-489f-9449-744b54c86b68"
      },
      "execution_count": null,
      "outputs": [
        {
          "output_type": "display_data",
          "data": {
            "text/plain": [
              "<IPython.core.display.HTML object>"
            ],
            "text/html": [
              "Tracking run with wandb version 0.13.7"
            ]
          },
          "metadata": {}
        },
        {
          "output_type": "display_data",
          "data": {
            "text/plain": [
              "<IPython.core.display.HTML object>"
            ],
            "text/html": [
              "Run data is saved locally in <code>/content/drive/MyDrive/Colab Notebooks/구름/goorm_proj2/wandb/run-20230110_061726-1sc7blib</code>"
            ]
          },
          "metadata": {}
        },
        {
          "output_type": "display_data",
          "data": {
            "text/plain": [
              "<IPython.core.display.HTML object>"
            ],
            "text/html": [
              "Syncing run <strong><a href=\"https://wandb.ai/yangdk02/groom_proj2_korean-mrc/runs/1sc7blib\" target=\"_blank\">experiment-kobigbird-bert-base_lr1e-05_ep30_max1024_317</a></strong> to <a href=\"https://wandb.ai/yangdk02/groom_proj2_korean-mrc\" target=\"_blank\">Weights & Biases</a> (<a href=\"https://wandb.me/run\" target=\"_blank\">docs</a>)<br/>"
            ]
          },
          "metadata": {}
        },
        {
          "output_type": "execute_result",
          "data": {
            "text/html": [
              "<button onClick=\"this.nextSibling.style.display='block';this.style.display='none';\">Display W&B run</button><iframe src=\"https://wandb.ai/yangdk02/groom_proj2_korean-mrc/runs/1sc7blib?jupyter=true\" style=\"border:none;width:100%;height:420px;display:none;\"></iframe>"
            ],
            "text/plain": [
              "<wandb.sdk.wandb_run.Run at 0x7fe7318eb2e0>"
            ]
          },
          "metadata": {},
          "execution_count": 7
        }
      ]
    },
    {
      "cell_type": "code",
      "source": [
        "def seed_everthing(seed):\n",
        "    random.seed(seed)\n",
        "    np.random.seed(seed)\n",
        "    os.environ[\"PYTHONHASHSEED\"] = str(seed)\n",
        "    torch.manual_seed(seed)\n",
        "    torch.cuda.manual_seed(seed)\n",
        "    torch.backends.cudnn.deterministic = True\n",
        "    torch.backends.cudnn.benchmark = True\n",
        "\n",
        "seed_everthing(args.seed)"
      ],
      "metadata": {
        "id": "cXNCAaaHyWsO"
      },
      "execution_count": null,
      "outputs": []
    },
    {
      "cell_type": "markdown",
      "source": [
        "## Loading the model & tokenizer"
      ],
      "metadata": {
        "id": "2VkUa0JYx4JU"
      }
    },
    {
      "cell_type": "code",
      "source": [
        "config = AutoConfig.from_pretrained(args.model_checkpoint)\n",
        "tokenizer = AutoTokenizer.from_pretrained(args.model_checkpoint)"
      ],
      "metadata": {
        "id": "RAtI7az3yOv1"
      },
      "execution_count": null,
      "outputs": []
    },
    {
      "cell_type": "code",
      "source": [
        "model = AutoModelForQuestionAnswering.from_pretrained(args.model_checkpoint)\n",
        "model.to(args.device)\n",
        "\n",
        "summary(model)"
      ],
      "metadata": {
        "colab": {
          "base_uri": "https://localhost:8080/"
        },
        "id": "g7X3QPtXCQOC",
        "outputId": "3ec923b2-57e2-4081-cd77-ab79d7cd3c2c"
      },
      "execution_count": null,
      "outputs": [
        {
          "output_type": "stream",
          "name": "stderr",
          "text": [
            "Some weights of the model checkpoint at monologg/kobigbird-bert-base were not used when initializing BigBirdForQuestionAnswering: ['cls.predictions.bias', 'cls.seq_relationship.weight', 'cls.predictions.transform.dense.bias', 'cls.predictions.transform.dense.weight', 'cls.seq_relationship.bias', 'cls.predictions.transform.LayerNorm.bias', 'cls.predictions.decoder.bias', 'bert.pooler.bias', 'cls.predictions.transform.LayerNorm.weight', 'cls.predictions.decoder.weight', 'bert.pooler.weight']\n",
            "- This IS expected if you are initializing BigBirdForQuestionAnswering from the checkpoint of a model trained on another task or with another architecture (e.g. initializing a BertForSequenceClassification model from a BertForPreTraining model).\n",
            "- This IS NOT expected if you are initializing BigBirdForQuestionAnswering from the checkpoint of a model that you expect to be exactly identical (initializing a BertForSequenceClassification model from a BertForSequenceClassification model).\n",
            "Some weights of BigBirdForQuestionAnswering were not initialized from the model checkpoint at monologg/kobigbird-bert-base and are newly initialized: ['qa_classifier.qa_outputs.bias', 'qa_classifier.output.LayerNorm.weight', 'qa_classifier.output.LayerNorm.bias', 'qa_classifier.output.dense.weight', 'qa_classifier.qa_outputs.weight', 'qa_classifier.output.dense.bias', 'qa_classifier.intermediate.dense.weight', 'qa_classifier.intermediate.dense.bias']\n",
            "You should probably TRAIN this model on a down-stream task to be able to use it for predictions and inference.\n"
          ]
        },
        {
          "output_type": "execute_result",
          "data": {
            "text/plain": [
              "==========================================================================================\n",
              "Layer (type:depth-idx)                                            Param #\n",
              "==========================================================================================\n",
              "BigBirdForQuestionAnswering                                       --\n",
              "├─BigBirdModel: 1-1                                               --\n",
              "│    └─BigBirdEmbeddings: 2-1                                     --\n",
              "│    │    └─Embedding: 3-1                                        24,960,000\n",
              "│    │    └─Embedding: 3-2                                        3,145,728\n",
              "│    │    └─Embedding: 3-3                                        1,536\n",
              "│    │    └─LayerNorm: 3-4                                        1,536\n",
              "│    │    └─Dropout: 3-5                                          --\n",
              "│    └─BigBirdEncoder: 2-2                                        --\n",
              "│    │    └─ModuleList: 3-6                                       85,054,464\n",
              "├─BigBirdForQuestionAnsweringHead: 1-2                            --\n",
              "│    └─Dropout: 2-3                                               --\n",
              "│    └─BigBirdIntermediate: 2-4                                   --\n",
              "│    │    └─Linear: 3-7                                           2,362,368\n",
              "│    │    └─NewGELUActivation: 3-8                                --\n",
              "│    └─BigBirdOutput: 2-5                                         --\n",
              "│    │    └─Linear: 3-9                                           2,360,064\n",
              "│    │    └─LayerNorm: 3-10                                       1,536\n",
              "│    │    └─Dropout: 3-11                                         --\n",
              "│    └─Linear: 2-6                                                1,538\n",
              "==========================================================================================\n",
              "Total params: 117,888,770\n",
              "Trainable params: 117,888,770\n",
              "Non-trainable params: 0\n",
              "=========================================================================================="
            ]
          },
          "metadata": {},
          "execution_count": 10
        }
      ]
    },
    {
      "cell_type": "code",
      "source": [
        "config"
      ],
      "metadata": {
        "colab": {
          "base_uri": "https://localhost:8080/"
        },
        "id": "5flu2Y9ICU_N",
        "outputId": "f207216a-a70d-4041-e2aa-0a0c492cbb96"
      },
      "execution_count": null,
      "outputs": [
        {
          "output_type": "execute_result",
          "data": {
            "text/plain": [
              "BigBirdConfig {\n",
              "  \"_name_or_path\": \"monologg/kobigbird-bert-base\",\n",
              "  \"architectures\": [\n",
              "    \"BigBirdForMaskedLM\"\n",
              "  ],\n",
              "  \"attention_probs_dropout_prob\": 0.1,\n",
              "  \"attention_type\": \"block_sparse\",\n",
              "  \"block_size\": 64,\n",
              "  \"bos_token_id\": 5,\n",
              "  \"classifier_dropout\": null,\n",
              "  \"eos_token_id\": 6,\n",
              "  \"gradient_checkpointing\": false,\n",
              "  \"hidden_act\": \"gelu_new\",\n",
              "  \"hidden_dropout_prob\": 0.1,\n",
              "  \"hidden_size\": 768,\n",
              "  \"initializer_range\": 0.02,\n",
              "  \"intermediate_size\": 3072,\n",
              "  \"layer_norm_eps\": 1e-12,\n",
              "  \"max_position_embeddings\": 4096,\n",
              "  \"model_type\": \"big_bird\",\n",
              "  \"num_attention_heads\": 12,\n",
              "  \"num_hidden_layers\": 12,\n",
              "  \"num_random_blocks\": 3,\n",
              "  \"pad_token_id\": 0,\n",
              "  \"position_embedding_type\": \"absolute\",\n",
              "  \"rescale_embeddings\": false,\n",
              "  \"sep_token_id\": 3,\n",
              "  \"tokenizer_class\": \"BertTokenizer\",\n",
              "  \"torch_dtype\": \"float32\",\n",
              "  \"transformers_version\": \"4.25.1\",\n",
              "  \"type_vocab_size\": 2,\n",
              "  \"use_bias\": true,\n",
              "  \"use_cache\": true,\n",
              "  \"vocab_size\": 32500\n",
              "}"
            ]
          },
          "metadata": {},
          "execution_count": 11
        }
      ]
    },
    {
      "cell_type": "code",
      "source": [
        "for ids, sp_tok in sorted(zip(tokenizer.all_special_ids, tokenizer.all_special_tokens)):\n",
        "  print(ids, sp_tok)"
      ],
      "metadata": {
        "colab": {
          "base_uri": "https://localhost:8080/"
        },
        "id": "zIc-QsT3k6bV",
        "outputId": "4990d751-e9ff-45a2-bbc3-223828c593d7"
      },
      "execution_count": null,
      "outputs": [
        {
          "output_type": "stream",
          "name": "stdout",
          "text": [
            "0 [PAD]\n",
            "1 [UNK]\n",
            "2 [CLS]\n",
            "3 [SEP]\n",
            "4 [MASK]\n",
            "5 <s>\n",
            "6 </s>\n"
          ]
        }
      ]
    },
    {
      "cell_type": "markdown",
      "source": [
        "# 1️⃣ Data Preprocessing & Augmentation"
      ],
      "metadata": {
        "id": "oA3AGW1qxndR"
      }
    },
    {
      "cell_type": "markdown",
      "source": [
        "## Loading the dataset"
      ],
      "metadata": {
        "id": "Lv0w72ZyeoFM"
      }
    },
    {
      "cell_type": "markdown",
      "source": [
        "### KLUE"
      ],
      "metadata": {
        "id": "WqkRICY1Lq-X"
      }
    },
    {
      "cell_type": "code",
      "source": [
        "def read_klue(path):\n",
        "    path = Path(path)\n",
        "    with open(path, 'rb') as f:\n",
        "        data = json.load(f)\n",
        "\n",
        "    news_categories = []\n",
        "    guids = []\n",
        "    contexts = []\n",
        "    questions = []\n",
        "    answers = []\n",
        "    for group in data['data']:\n",
        "        news_category = group['news_category']\n",
        "        for passage in group['paragraphs']:\n",
        "            context = passage['context']\n",
        "            for qa in passage['qas']:\n",
        "                question = qa['question']\n",
        "                for answer in qa['answers']:\n",
        "                    news_categories.append(news_category)\n",
        "                    guids.append(qa[\"guid\"])\n",
        "                    contexts.append(context)\n",
        "                    questions.append(question)\n",
        "                    answers.append({\"answer_start\": [answer[\"answer_start\"]], \"text\": [answer[\"text\"]]})\n",
        "\n",
        "    return news_categories, guids, contexts, questions, answers"
      ],
      "metadata": {
        "id": "P8AGzj1_em6M"
      },
      "execution_count": null,
      "outputs": []
    },
    {
      "cell_type": "code",
      "source": [
        "file_path = 'input/train.json'\n",
        "\n",
        "news_categories, guids, contexts, questions, answers = read_klue(file_path)\n",
        "\n",
        "df = pd.DataFrame(\n",
        "    list(zip(news_categories, guids , answers, contexts, questions)),\n",
        "    columns =['news_categories', 'id', 'answers', 'context','question'])\n",
        "df"
      ],
      "metadata": {
        "colab": {
          "base_uri": "https://localhost:8080/",
          "height": 641
        },
        "id": "ScxBYi-wf--O",
        "outputId": "6f349354-4d2d-4c83-cc1d-e0175846f1f0"
      },
      "execution_count": null,
      "outputs": [
        {
          "output_type": "execute_result",
          "data": {
            "text/plain": [
              "      news_categories                                id  \\\n",
              "0                  종합  798db07f0b9046759deed9d4a35ce31e   \n",
              "1                  종합  798db07f0b9046759deed9d4a35ce31e   \n",
              "2                  경제  67c85e4f86ae43939b807684537c909c   \n",
              "3                None  d2764543b0a84596942b34071541bed4   \n",
              "4                생활경제  435aa49b68e8414d8c5e4f8102782b81   \n",
              "...               ...                               ...   \n",
              "17658           문화/TV  43662d491d8e42b6a92255afd11e0634   \n",
              "17659           문화/TV  43662d491d8e42b6a92255afd11e0634   \n",
              "17660              테크  6e16e6a74b40457883771416d3522dc4   \n",
              "17661            생활경제  ea6f9861cab94491b1df195b75e29558   \n",
              "17662            생활경제  ea6f9861cab94491b1df195b75e29558   \n",
              "\n",
              "                                                 answers  \\\n",
              "0             {'answer_start': [478], 'text': ['한 달가량']}   \n",
              "1               {'answer_start': [478], 'text': ['한 달']}   \n",
              "2          {'answer_start': [1422], 'text': ['삼보테크놀로지']}   \n",
              "3          {'answer_start': [107], 'text': ['와쿠이 히데아키']}   \n",
              "4         {'answer_start': [408], 'text': ['‘교동반점 짬뽕’']}   \n",
              "...                                                  ...   \n",
              "17658  {'answer_start': [170], 'text': ['‘혹성탈출: 반격의 서...   \n",
              "17659  {'answer_start': [171], 'text': ['혹성탈출: 반격의 서막']}   \n",
              "17660        {'answer_start': [197], 'text': ['8시 10분']}   \n",
              "17661           {'answer_start': [276], 'text': ['28개']}   \n",
              "17662            {'answer_start': [276], 'text': ['28']}   \n",
              "\n",
              "                                                 context  \\\n",
              "0      올여름 장마가 17일 제주도에서 시작됐다. 서울 등 중부지방은 예년보다 사나흘 정도...   \n",
              "1      올여름 장마가 17일 제주도에서 시작됐다. 서울 등 중부지방은 예년보다 사나흘 정도...   \n",
              "2      부산시와 (재)부산정보산업진흥원(원장 이인숙)이 ‘2020~2021년 지역SW서비스...   \n",
              "3      시범 경기에서는 16이닝을 던져 15실점을 기록하는 등 성적이 좋지 않았지만 본인으...   \n",
              "4      유명 맛집 이름을 달고 나온 편의점 자체상표(PB) 라면이 인기를 끌고 있다. ‘검...   \n",
              "...                                                  ...   \n",
              "17658  유인원 무리의 리더 시저는 인간 건축가 말콤(제이슨 클락)에게 작별 인사를 한다. ...   \n",
              "17659  유인원 무리의 리더 시저는 인간 건축가 말콤(제이슨 클락)에게 작별 인사를 한다. ...   \n",
              "17660  ASUS(에이수스) 그래픽카드 공식수입사 인텍앤컴퍼니(대표 서정욱)는 10월 16일...   \n",
              "17661  한국인 최초로 쇼팽국제피아노콩쿠르에서 우승을 차지한 ‘21세 쇼팽’ 조성진 마케팅이...   \n",
              "17662  한국인 최초로 쇼팽국제피아노콩쿠르에서 우승을 차지한 ‘21세 쇼팽’ 조성진 마케팅이...   \n",
              "\n",
              "                                       question  \n",
              "0           북태평양 기단과 오호츠크해 기단이 만나 국내에 머무르는 기간은?  \n",
              "1           북태평양 기단과 오호츠크해 기단이 만나 국내에 머무르는 기간은?  \n",
              "2                   지능형 생산자동화 기반기술을 개발중인 스타트업은?  \n",
              "3                   개막전에서 3안타 2실점을 기록해서 패한 선수는?  \n",
              "4                       컵라면 매출에서 불닭볶음면을 이긴 상품은?  \n",
              "...                                         ...  \n",
              "17658                      혹성탈출의 두 번째 프리퀄의 제목은?  \n",
              "17659                      혹성탈출의 두 번째 프리퀄의 제목은?  \n",
              "17660               인택엔컴퍼니가 실시하는 추첨판매 신청 마감시간은?  \n",
              "17661  유니버셜뮤직과 협력하여 만든 메가기프트를 살 수 있는 업체의 매장 수는?  \n",
              "17662  유니버셜뮤직과 협력하여 만든 메가기프트를 살 수 있는 업체의 매장 수는?  \n",
              "\n",
              "[17663 rows x 5 columns]"
            ],
            "text/html": [
              "\n",
              "  <div id=\"df-c1e4e9c3-598e-4d8a-925c-360f05bb0c5d\">\n",
              "    <div class=\"colab-df-container\">\n",
              "      <div>\n",
              "<style scoped>\n",
              "    .dataframe tbody tr th:only-of-type {\n",
              "        vertical-align: middle;\n",
              "    }\n",
              "\n",
              "    .dataframe tbody tr th {\n",
              "        vertical-align: top;\n",
              "    }\n",
              "\n",
              "    .dataframe thead th {\n",
              "        text-align: right;\n",
              "    }\n",
              "</style>\n",
              "<table border=\"1\" class=\"dataframe\">\n",
              "  <thead>\n",
              "    <tr style=\"text-align: right;\">\n",
              "      <th></th>\n",
              "      <th>news_categories</th>\n",
              "      <th>id</th>\n",
              "      <th>answers</th>\n",
              "      <th>context</th>\n",
              "      <th>question</th>\n",
              "    </tr>\n",
              "  </thead>\n",
              "  <tbody>\n",
              "    <tr>\n",
              "      <th>0</th>\n",
              "      <td>종합</td>\n",
              "      <td>798db07f0b9046759deed9d4a35ce31e</td>\n",
              "      <td>{'answer_start': [478], 'text': ['한 달가량']}</td>\n",
              "      <td>올여름 장마가 17일 제주도에서 시작됐다. 서울 등 중부지방은 예년보다 사나흘 정도...</td>\n",
              "      <td>북태평양 기단과 오호츠크해 기단이 만나 국내에 머무르는 기간은?</td>\n",
              "    </tr>\n",
              "    <tr>\n",
              "      <th>1</th>\n",
              "      <td>종합</td>\n",
              "      <td>798db07f0b9046759deed9d4a35ce31e</td>\n",
              "      <td>{'answer_start': [478], 'text': ['한 달']}</td>\n",
              "      <td>올여름 장마가 17일 제주도에서 시작됐다. 서울 등 중부지방은 예년보다 사나흘 정도...</td>\n",
              "      <td>북태평양 기단과 오호츠크해 기단이 만나 국내에 머무르는 기간은?</td>\n",
              "    </tr>\n",
              "    <tr>\n",
              "      <th>2</th>\n",
              "      <td>경제</td>\n",
              "      <td>67c85e4f86ae43939b807684537c909c</td>\n",
              "      <td>{'answer_start': [1422], 'text': ['삼보테크놀로지']}</td>\n",
              "      <td>부산시와 (재)부산정보산업진흥원(원장 이인숙)이 ‘2020~2021년 지역SW서비스...</td>\n",
              "      <td>지능형 생산자동화 기반기술을 개발중인 스타트업은?</td>\n",
              "    </tr>\n",
              "    <tr>\n",
              "      <th>3</th>\n",
              "      <td>None</td>\n",
              "      <td>d2764543b0a84596942b34071541bed4</td>\n",
              "      <td>{'answer_start': [107], 'text': ['와쿠이 히데아키']}</td>\n",
              "      <td>시범 경기에서는 16이닝을 던져 15실점을 기록하는 등 성적이 좋지 않았지만 본인으...</td>\n",
              "      <td>개막전에서 3안타 2실점을 기록해서 패한 선수는?</td>\n",
              "    </tr>\n",
              "    <tr>\n",
              "      <th>4</th>\n",
              "      <td>생활경제</td>\n",
              "      <td>435aa49b68e8414d8c5e4f8102782b81</td>\n",
              "      <td>{'answer_start': [408], 'text': ['‘교동반점 짬뽕’']}</td>\n",
              "      <td>유명 맛집 이름을 달고 나온 편의점 자체상표(PB) 라면이 인기를 끌고 있다. ‘검...</td>\n",
              "      <td>컵라면 매출에서 불닭볶음면을 이긴 상품은?</td>\n",
              "    </tr>\n",
              "    <tr>\n",
              "      <th>...</th>\n",
              "      <td>...</td>\n",
              "      <td>...</td>\n",
              "      <td>...</td>\n",
              "      <td>...</td>\n",
              "      <td>...</td>\n",
              "    </tr>\n",
              "    <tr>\n",
              "      <th>17658</th>\n",
              "      <td>문화/TV</td>\n",
              "      <td>43662d491d8e42b6a92255afd11e0634</td>\n",
              "      <td>{'answer_start': [170], 'text': ['‘혹성탈출: 반격의 서...</td>\n",
              "      <td>유인원 무리의 리더 시저는 인간 건축가 말콤(제이슨 클락)에게 작별 인사를 한다. ...</td>\n",
              "      <td>혹성탈출의 두 번째 프리퀄의 제목은?</td>\n",
              "    </tr>\n",
              "    <tr>\n",
              "      <th>17659</th>\n",
              "      <td>문화/TV</td>\n",
              "      <td>43662d491d8e42b6a92255afd11e0634</td>\n",
              "      <td>{'answer_start': [171], 'text': ['혹성탈출: 반격의 서막']}</td>\n",
              "      <td>유인원 무리의 리더 시저는 인간 건축가 말콤(제이슨 클락)에게 작별 인사를 한다. ...</td>\n",
              "      <td>혹성탈출의 두 번째 프리퀄의 제목은?</td>\n",
              "    </tr>\n",
              "    <tr>\n",
              "      <th>17660</th>\n",
              "      <td>테크</td>\n",
              "      <td>6e16e6a74b40457883771416d3522dc4</td>\n",
              "      <td>{'answer_start': [197], 'text': ['8시 10분']}</td>\n",
              "      <td>ASUS(에이수스) 그래픽카드 공식수입사 인텍앤컴퍼니(대표 서정욱)는 10월 16일...</td>\n",
              "      <td>인택엔컴퍼니가 실시하는 추첨판매 신청 마감시간은?</td>\n",
              "    </tr>\n",
              "    <tr>\n",
              "      <th>17661</th>\n",
              "      <td>생활경제</td>\n",
              "      <td>ea6f9861cab94491b1df195b75e29558</td>\n",
              "      <td>{'answer_start': [276], 'text': ['28개']}</td>\n",
              "      <td>한국인 최초로 쇼팽국제피아노콩쿠르에서 우승을 차지한 ‘21세 쇼팽’ 조성진 마케팅이...</td>\n",
              "      <td>유니버셜뮤직과 협력하여 만든 메가기프트를 살 수 있는 업체의 매장 수는?</td>\n",
              "    </tr>\n",
              "    <tr>\n",
              "      <th>17662</th>\n",
              "      <td>생활경제</td>\n",
              "      <td>ea6f9861cab94491b1df195b75e29558</td>\n",
              "      <td>{'answer_start': [276], 'text': ['28']}</td>\n",
              "      <td>한국인 최초로 쇼팽국제피아노콩쿠르에서 우승을 차지한 ‘21세 쇼팽’ 조성진 마케팅이...</td>\n",
              "      <td>유니버셜뮤직과 협력하여 만든 메가기프트를 살 수 있는 업체의 매장 수는?</td>\n",
              "    </tr>\n",
              "  </tbody>\n",
              "</table>\n",
              "<p>17663 rows × 5 columns</p>\n",
              "</div>\n",
              "      <button class=\"colab-df-convert\" onclick=\"convertToInteractive('df-c1e4e9c3-598e-4d8a-925c-360f05bb0c5d')\"\n",
              "              title=\"Convert this dataframe to an interactive table.\"\n",
              "              style=\"display:none;\">\n",
              "        \n",
              "  <svg xmlns=\"http://www.w3.org/2000/svg\" height=\"24px\"viewBox=\"0 0 24 24\"\n",
              "       width=\"24px\">\n",
              "    <path d=\"M0 0h24v24H0V0z\" fill=\"none\"/>\n",
              "    <path d=\"M18.56 5.44l.94 2.06.94-2.06 2.06-.94-2.06-.94-.94-2.06-.94 2.06-2.06.94zm-11 1L8.5 8.5l.94-2.06 2.06-.94-2.06-.94L8.5 2.5l-.94 2.06-2.06.94zm10 10l.94 2.06.94-2.06 2.06-.94-2.06-.94-.94-2.06-.94 2.06-2.06.94z\"/><path d=\"M17.41 7.96l-1.37-1.37c-.4-.4-.92-.59-1.43-.59-.52 0-1.04.2-1.43.59L10.3 9.45l-7.72 7.72c-.78.78-.78 2.05 0 2.83L4 21.41c.39.39.9.59 1.41.59.51 0 1.02-.2 1.41-.59l7.78-7.78 2.81-2.81c.8-.78.8-2.07 0-2.86zM5.41 20L4 18.59l7.72-7.72 1.47 1.35L5.41 20z\"/>\n",
              "  </svg>\n",
              "      </button>\n",
              "      \n",
              "  <style>\n",
              "    .colab-df-container {\n",
              "      display:flex;\n",
              "      flex-wrap:wrap;\n",
              "      gap: 12px;\n",
              "    }\n",
              "\n",
              "    .colab-df-convert {\n",
              "      background-color: #E8F0FE;\n",
              "      border: none;\n",
              "      border-radius: 50%;\n",
              "      cursor: pointer;\n",
              "      display: none;\n",
              "      fill: #1967D2;\n",
              "      height: 32px;\n",
              "      padding: 0 0 0 0;\n",
              "      width: 32px;\n",
              "    }\n",
              "\n",
              "    .colab-df-convert:hover {\n",
              "      background-color: #E2EBFA;\n",
              "      box-shadow: 0px 1px 2px rgba(60, 64, 67, 0.3), 0px 1px 3px 1px rgba(60, 64, 67, 0.15);\n",
              "      fill: #174EA6;\n",
              "    }\n",
              "\n",
              "    [theme=dark] .colab-df-convert {\n",
              "      background-color: #3B4455;\n",
              "      fill: #D2E3FC;\n",
              "    }\n",
              "\n",
              "    [theme=dark] .colab-df-convert:hover {\n",
              "      background-color: #434B5C;\n",
              "      box-shadow: 0px 1px 3px 1px rgba(0, 0, 0, 0.15);\n",
              "      filter: drop-shadow(0px 1px 2px rgba(0, 0, 0, 0.3));\n",
              "      fill: #FFFFFF;\n",
              "    }\n",
              "  </style>\n",
              "\n",
              "      <script>\n",
              "        const buttonEl =\n",
              "          document.querySelector('#df-c1e4e9c3-598e-4d8a-925c-360f05bb0c5d button.colab-df-convert');\n",
              "        buttonEl.style.display =\n",
              "          google.colab.kernel.accessAllowed ? 'block' : 'none';\n",
              "\n",
              "        async function convertToInteractive(key) {\n",
              "          const element = document.querySelector('#df-c1e4e9c3-598e-4d8a-925c-360f05bb0c5d');\n",
              "          const dataTable =\n",
              "            await google.colab.kernel.invokeFunction('convertToInteractive',\n",
              "                                                     [key], {});\n",
              "          if (!dataTable) return;\n",
              "\n",
              "          const docLinkHtml = 'Like what you see? Visit the ' +\n",
              "            '<a target=\"_blank\" href=https://colab.research.google.com/notebooks/data_table.ipynb>data table notebook</a>'\n",
              "            + ' to learn more about interactive tables.';\n",
              "          element.innerHTML = '';\n",
              "          dataTable['output_type'] = 'display_data';\n",
              "          await google.colab.output.renderOutput(dataTable, element);\n",
              "          const docLink = document.createElement('div');\n",
              "          docLink.innerHTML = docLinkHtml;\n",
              "          element.appendChild(docLink);\n",
              "        }\n",
              "      </script>\n",
              "    </div>\n",
              "  </div>\n",
              "  "
            ]
          },
          "metadata": {},
          "execution_count": 14
        }
      ]
    },
    {
      "cell_type": "code",
      "source": [
        "df = (\n",
        "    df.assign(answer_length=df['answers'].map(lambda x: len(x['text'][0])))\n",
        "    .sort_values('answer_length')\n",
        "    .drop_duplicates(subset=['id'], keep=\"first\")\n",
        ").drop('answer_length', axis=1).sort_index().reset_index(drop=True)\n",
        "df"
      ],
      "metadata": {
        "colab": {
          "base_uri": "https://localhost:8080/",
          "height": 606
        },
        "id": "OGWCyJ4hhz7M",
        "outputId": "c5fcb3e3-fc03-4494-efe5-2e489fbc75a9"
      },
      "execution_count": null,
      "outputs": [
        {
          "output_type": "execute_result",
          "data": {
            "text/plain": [
              "      news_categories                                id  \\\n",
              "0                  종합  798db07f0b9046759deed9d4a35ce31e   \n",
              "1                  경제  67c85e4f86ae43939b807684537c909c   \n",
              "2                None  d2764543b0a84596942b34071541bed4   \n",
              "3                생활경제  435aa49b68e8414d8c5e4f8102782b81   \n",
              "4                생활경제  4fa200ce1e3a4a279c43c1de40fb27b3   \n",
              "...               ...                               ...   \n",
              "12032           중기 의료  b04093b7ee9449d98215c467526cecac   \n",
              "12033              산업  ab75ad70e2804f5abeafebdd23a0deaa   \n",
              "12034           문화/TV  43662d491d8e42b6a92255afd11e0634   \n",
              "12035              테크  6e16e6a74b40457883771416d3522dc4   \n",
              "12036            생활경제  ea6f9861cab94491b1df195b75e29558   \n",
              "\n",
              "                                                 answers  \\\n",
              "0               {'answer_start': [478], 'text': ['한 달']}   \n",
              "1          {'answer_start': [1422], 'text': ['삼보테크놀로지']}   \n",
              "2          {'answer_start': [107], 'text': ['와쿠이 히데아키']}   \n",
              "3           {'answer_start': [409], 'text': ['교동반점 짬뽕']}   \n",
              "4             {'answer_start': [617], 'text': ['불닭볶음면']}   \n",
              "...                                                  ...   \n",
              "12032     {'answer_start': [229], 'text': ['전문 경영인 체제']}   \n",
              "12033     {'answer_start': [134], 'text': ['롯데백화점 잠실점']}   \n",
              "12034  {'answer_start': [171], 'text': ['혹성탈출: 반격의 서막']}   \n",
              "12035        {'answer_start': [197], 'text': ['8시 10분']}   \n",
              "12036            {'answer_start': [276], 'text': ['28']}   \n",
              "\n",
              "                                                 context  \\\n",
              "0      올여름 장마가 17일 제주도에서 시작됐다. 서울 등 중부지방은 예년보다 사나흘 정도...   \n",
              "1      부산시와 (재)부산정보산업진흥원(원장 이인숙)이 ‘2020~2021년 지역SW서비스...   \n",
              "2      시범 경기에서는 16이닝을 던져 15실점을 기록하는 등 성적이 좋지 않았지만 본인으...   \n",
              "3      유명 맛집 이름을 달고 나온 편의점 자체상표(PB) 라면이 인기를 끌고 있다. ‘검...   \n",
              "4      유명 맛집 이름을 달고 나온 편의점 자체상표(PB) 라면이 인기를 끌고 있다. ‘검...   \n",
              "...                                                  ...   \n",
              "12032  “오너 경영은 중견기업이 글로벌 전문기업이나 대기업으로 성장하는 밑거름이 될 것입니...   \n",
              "12033  홈 뷰티 디바이스 브랜드 ‘엘리닉(L.linic)’이 고객 감사의 달을 맞아 전국 ...   \n",
              "12034  유인원 무리의 리더 시저는 인간 건축가 말콤(제이슨 클락)에게 작별 인사를 한다. ...   \n",
              "12035  ASUS(에이수스) 그래픽카드 공식수입사 인텍앤컴퍼니(대표 서정욱)는 10월 16일...   \n",
              "12036  한국인 최초로 쇼팽국제피아노콩쿠르에서 우승을 차지한 ‘21세 쇼팽’ 조성진 마케팅이...   \n",
              "\n",
              "                                       question  \n",
              "0           북태평양 기단과 오호츠크해 기단이 만나 국내에 머무르는 기간은?  \n",
              "1                   지능형 생산자동화 기반기술을 개발중인 스타트업은?  \n",
              "2                   개막전에서 3안타 2실점을 기록해서 패한 선수는?  \n",
              "3                       컵라면 매출에서 불닭볶음면을 이긴 상품은?  \n",
              "4                 재작년 세븐일레븐 컵라면 중 제일 많이 팔린 제품은?  \n",
              "...                                         ...  \n",
              "12032                이동기 학회장은 오너 경영을 무엇과 비교했는가?  \n",
              "12033          팝업스토어 앵콜 행사를 가장 먼저 시작하는 곳은 어디인가?  \n",
              "12034                      혹성탈출의 두 번째 프리퀄의 제목은?  \n",
              "12035               인택엔컴퍼니가 실시하는 추첨판매 신청 마감시간은?  \n",
              "12036  유니버셜뮤직과 협력하여 만든 메가기프트를 살 수 있는 업체의 매장 수는?  \n",
              "\n",
              "[12037 rows x 5 columns]"
            ],
            "text/html": [
              "\n",
              "  <div id=\"df-7bbc3528-3c45-4c98-a23f-bf717ef53e90\">\n",
              "    <div class=\"colab-df-container\">\n",
              "      <div>\n",
              "<style scoped>\n",
              "    .dataframe tbody tr th:only-of-type {\n",
              "        vertical-align: middle;\n",
              "    }\n",
              "\n",
              "    .dataframe tbody tr th {\n",
              "        vertical-align: top;\n",
              "    }\n",
              "\n",
              "    .dataframe thead th {\n",
              "        text-align: right;\n",
              "    }\n",
              "</style>\n",
              "<table border=\"1\" class=\"dataframe\">\n",
              "  <thead>\n",
              "    <tr style=\"text-align: right;\">\n",
              "      <th></th>\n",
              "      <th>news_categories</th>\n",
              "      <th>id</th>\n",
              "      <th>answers</th>\n",
              "      <th>context</th>\n",
              "      <th>question</th>\n",
              "    </tr>\n",
              "  </thead>\n",
              "  <tbody>\n",
              "    <tr>\n",
              "      <th>0</th>\n",
              "      <td>종합</td>\n",
              "      <td>798db07f0b9046759deed9d4a35ce31e</td>\n",
              "      <td>{'answer_start': [478], 'text': ['한 달']}</td>\n",
              "      <td>올여름 장마가 17일 제주도에서 시작됐다. 서울 등 중부지방은 예년보다 사나흘 정도...</td>\n",
              "      <td>북태평양 기단과 오호츠크해 기단이 만나 국내에 머무르는 기간은?</td>\n",
              "    </tr>\n",
              "    <tr>\n",
              "      <th>1</th>\n",
              "      <td>경제</td>\n",
              "      <td>67c85e4f86ae43939b807684537c909c</td>\n",
              "      <td>{'answer_start': [1422], 'text': ['삼보테크놀로지']}</td>\n",
              "      <td>부산시와 (재)부산정보산업진흥원(원장 이인숙)이 ‘2020~2021년 지역SW서비스...</td>\n",
              "      <td>지능형 생산자동화 기반기술을 개발중인 스타트업은?</td>\n",
              "    </tr>\n",
              "    <tr>\n",
              "      <th>2</th>\n",
              "      <td>None</td>\n",
              "      <td>d2764543b0a84596942b34071541bed4</td>\n",
              "      <td>{'answer_start': [107], 'text': ['와쿠이 히데아키']}</td>\n",
              "      <td>시범 경기에서는 16이닝을 던져 15실점을 기록하는 등 성적이 좋지 않았지만 본인으...</td>\n",
              "      <td>개막전에서 3안타 2실점을 기록해서 패한 선수는?</td>\n",
              "    </tr>\n",
              "    <tr>\n",
              "      <th>3</th>\n",
              "      <td>생활경제</td>\n",
              "      <td>435aa49b68e8414d8c5e4f8102782b81</td>\n",
              "      <td>{'answer_start': [409], 'text': ['교동반점 짬뽕']}</td>\n",
              "      <td>유명 맛집 이름을 달고 나온 편의점 자체상표(PB) 라면이 인기를 끌고 있다. ‘검...</td>\n",
              "      <td>컵라면 매출에서 불닭볶음면을 이긴 상품은?</td>\n",
              "    </tr>\n",
              "    <tr>\n",
              "      <th>4</th>\n",
              "      <td>생활경제</td>\n",
              "      <td>4fa200ce1e3a4a279c43c1de40fb27b3</td>\n",
              "      <td>{'answer_start': [617], 'text': ['불닭볶음면']}</td>\n",
              "      <td>유명 맛집 이름을 달고 나온 편의점 자체상표(PB) 라면이 인기를 끌고 있다. ‘검...</td>\n",
              "      <td>재작년 세븐일레븐 컵라면 중 제일 많이 팔린 제품은?</td>\n",
              "    </tr>\n",
              "    <tr>\n",
              "      <th>...</th>\n",
              "      <td>...</td>\n",
              "      <td>...</td>\n",
              "      <td>...</td>\n",
              "      <td>...</td>\n",
              "      <td>...</td>\n",
              "    </tr>\n",
              "    <tr>\n",
              "      <th>12032</th>\n",
              "      <td>중기 의료</td>\n",
              "      <td>b04093b7ee9449d98215c467526cecac</td>\n",
              "      <td>{'answer_start': [229], 'text': ['전문 경영인 체제']}</td>\n",
              "      <td>“오너 경영은 중견기업이 글로벌 전문기업이나 대기업으로 성장하는 밑거름이 될 것입니...</td>\n",
              "      <td>이동기 학회장은 오너 경영을 무엇과 비교했는가?</td>\n",
              "    </tr>\n",
              "    <tr>\n",
              "      <th>12033</th>\n",
              "      <td>산업</td>\n",
              "      <td>ab75ad70e2804f5abeafebdd23a0deaa</td>\n",
              "      <td>{'answer_start': [134], 'text': ['롯데백화점 잠실점']}</td>\n",
              "      <td>홈 뷰티 디바이스 브랜드 ‘엘리닉(L.linic)’이 고객 감사의 달을 맞아 전국 ...</td>\n",
              "      <td>팝업스토어 앵콜 행사를 가장 먼저 시작하는 곳은 어디인가?</td>\n",
              "    </tr>\n",
              "    <tr>\n",
              "      <th>12034</th>\n",
              "      <td>문화/TV</td>\n",
              "      <td>43662d491d8e42b6a92255afd11e0634</td>\n",
              "      <td>{'answer_start': [171], 'text': ['혹성탈출: 반격의 서막']}</td>\n",
              "      <td>유인원 무리의 리더 시저는 인간 건축가 말콤(제이슨 클락)에게 작별 인사를 한다. ...</td>\n",
              "      <td>혹성탈출의 두 번째 프리퀄의 제목은?</td>\n",
              "    </tr>\n",
              "    <tr>\n",
              "      <th>12035</th>\n",
              "      <td>테크</td>\n",
              "      <td>6e16e6a74b40457883771416d3522dc4</td>\n",
              "      <td>{'answer_start': [197], 'text': ['8시 10분']}</td>\n",
              "      <td>ASUS(에이수스) 그래픽카드 공식수입사 인텍앤컴퍼니(대표 서정욱)는 10월 16일...</td>\n",
              "      <td>인택엔컴퍼니가 실시하는 추첨판매 신청 마감시간은?</td>\n",
              "    </tr>\n",
              "    <tr>\n",
              "      <th>12036</th>\n",
              "      <td>생활경제</td>\n",
              "      <td>ea6f9861cab94491b1df195b75e29558</td>\n",
              "      <td>{'answer_start': [276], 'text': ['28']}</td>\n",
              "      <td>한국인 최초로 쇼팽국제피아노콩쿠르에서 우승을 차지한 ‘21세 쇼팽’ 조성진 마케팅이...</td>\n",
              "      <td>유니버셜뮤직과 협력하여 만든 메가기프트를 살 수 있는 업체의 매장 수는?</td>\n",
              "    </tr>\n",
              "  </tbody>\n",
              "</table>\n",
              "<p>12037 rows × 5 columns</p>\n",
              "</div>\n",
              "      <button class=\"colab-df-convert\" onclick=\"convertToInteractive('df-7bbc3528-3c45-4c98-a23f-bf717ef53e90')\"\n",
              "              title=\"Convert this dataframe to an interactive table.\"\n",
              "              style=\"display:none;\">\n",
              "        \n",
              "  <svg xmlns=\"http://www.w3.org/2000/svg\" height=\"24px\"viewBox=\"0 0 24 24\"\n",
              "       width=\"24px\">\n",
              "    <path d=\"M0 0h24v24H0V0z\" fill=\"none\"/>\n",
              "    <path d=\"M18.56 5.44l.94 2.06.94-2.06 2.06-.94-2.06-.94-.94-2.06-.94 2.06-2.06.94zm-11 1L8.5 8.5l.94-2.06 2.06-.94-2.06-.94L8.5 2.5l-.94 2.06-2.06.94zm10 10l.94 2.06.94-2.06 2.06-.94-2.06-.94-.94-2.06-.94 2.06-2.06.94z\"/><path d=\"M17.41 7.96l-1.37-1.37c-.4-.4-.92-.59-1.43-.59-.52 0-1.04.2-1.43.59L10.3 9.45l-7.72 7.72c-.78.78-.78 2.05 0 2.83L4 21.41c.39.39.9.59 1.41.59.51 0 1.02-.2 1.41-.59l7.78-7.78 2.81-2.81c.8-.78.8-2.07 0-2.86zM5.41 20L4 18.59l7.72-7.72 1.47 1.35L5.41 20z\"/>\n",
              "  </svg>\n",
              "      </button>\n",
              "      \n",
              "  <style>\n",
              "    .colab-df-container {\n",
              "      display:flex;\n",
              "      flex-wrap:wrap;\n",
              "      gap: 12px;\n",
              "    }\n",
              "\n",
              "    .colab-df-convert {\n",
              "      background-color: #E8F0FE;\n",
              "      border: none;\n",
              "      border-radius: 50%;\n",
              "      cursor: pointer;\n",
              "      display: none;\n",
              "      fill: #1967D2;\n",
              "      height: 32px;\n",
              "      padding: 0 0 0 0;\n",
              "      width: 32px;\n",
              "    }\n",
              "\n",
              "    .colab-df-convert:hover {\n",
              "      background-color: #E2EBFA;\n",
              "      box-shadow: 0px 1px 2px rgba(60, 64, 67, 0.3), 0px 1px 3px 1px rgba(60, 64, 67, 0.15);\n",
              "      fill: #174EA6;\n",
              "    }\n",
              "\n",
              "    [theme=dark] .colab-df-convert {\n",
              "      background-color: #3B4455;\n",
              "      fill: #D2E3FC;\n",
              "    }\n",
              "\n",
              "    [theme=dark] .colab-df-convert:hover {\n",
              "      background-color: #434B5C;\n",
              "      box-shadow: 0px 1px 3px 1px rgba(0, 0, 0, 0.15);\n",
              "      filter: drop-shadow(0px 1px 2px rgba(0, 0, 0, 0.3));\n",
              "      fill: #FFFFFF;\n",
              "    }\n",
              "  </style>\n",
              "\n",
              "      <script>\n",
              "        const buttonEl =\n",
              "          document.querySelector('#df-7bbc3528-3c45-4c98-a23f-bf717ef53e90 button.colab-df-convert');\n",
              "        buttonEl.style.display =\n",
              "          google.colab.kernel.accessAllowed ? 'block' : 'none';\n",
              "\n",
              "        async function convertToInteractive(key) {\n",
              "          const element = document.querySelector('#df-7bbc3528-3c45-4c98-a23f-bf717ef53e90');\n",
              "          const dataTable =\n",
              "            await google.colab.kernel.invokeFunction('convertToInteractive',\n",
              "                                                     [key], {});\n",
              "          if (!dataTable) return;\n",
              "\n",
              "          const docLinkHtml = 'Like what you see? Visit the ' +\n",
              "            '<a target=\"_blank\" href=https://colab.research.google.com/notebooks/data_table.ipynb>data table notebook</a>'\n",
              "            + ' to learn more about interactive tables.';\n",
              "          element.innerHTML = '';\n",
              "          dataTable['output_type'] = 'display_data';\n",
              "          await google.colab.output.renderOutput(dataTable, element);\n",
              "          const docLink = document.createElement('div');\n",
              "          docLink.innerHTML = docLinkHtml;\n",
              "          element.appendChild(docLink);\n",
              "        }\n",
              "      </script>\n",
              "    </div>\n",
              "  </div>\n",
              "  "
            ]
          },
          "metadata": {},
          "execution_count": 15
        }
      ]
    },
    {
      "cell_type": "code",
      "source": [
        "def draw_pie(df):\n",
        "    ratio = df['news_categories'].value_counts().values.tolist()\n",
        "    labels = df['news_categories'].value_counts().index.tolist()\n",
        "\n",
        "    plt.figure(figsize=(15, 15))\n",
        "    plt.rc('font', family='NanumBarunGothic') \n",
        "    plt.pie(ratio, labels=labels, autopct='%.1f%%')\n",
        "    plt.show()"
      ],
      "metadata": {
        "id": "UAqjPuOEiScz"
      },
      "execution_count": null,
      "outputs": []
    },
    {
      "cell_type": "code",
      "source": [
        "draw_pie(df)"
      ],
      "metadata": {
        "colab": {
          "base_uri": "https://localhost:8080/",
          "height": 846
        },
        "id": "pgEEHctjmK2a",
        "outputId": "6182f6ee-61bd-4a22-eaf7-d84fe88c2809"
      },
      "execution_count": null,
      "outputs": [
        {
          "output_type": "display_data",
          "data": {
            "text/plain": [
              "<Figure size 1080x1080 with 1 Axes>"
            ],
            "image/png": "[encoded data removed]"
          },
          "metadata": {}
        }
      ]
    },
    {
      "cell_type": "code",
      "source": [
        "weight = df['answers'].map(lambda x: len(x['text'][0]))\n",
        "\n",
        "print(weight.describe())\n",
        "\n",
        "plt.hist(weight, bins=len(set(weight)), histtype='bar')\n",
        "plt.xlabel('length of answer')\n",
        "plt.show()\n",
        "\n",
        "q3 = weight.quantile(0.75)\n",
        "q1 = weight.quantile(0.25)\n",
        "iqr = q3 - q1\n",
        "\n",
        "print(q3 + 1.5 * iqr)"
      ],
      "metadata": {
        "colab": {
          "base_uri": "https://localhost:8080/",
          "height": 473
        },
        "id": "XvsHOVL42RPr",
        "outputId": "8e76ecd2-7f36-460f-93d1-6a519d5369e7"
      },
      "execution_count": null,
      "outputs": [
        {
          "output_type": "stream",
          "name": "stdout",
          "text": [
            "count    12037.000000\n",
            "mean         4.774113\n",
            "std          3.738334\n",
            "min          1.000000\n",
            "25%          3.000000\n",
            "50%          4.000000\n",
            "75%          6.000000\n",
            "max         81.000000\n",
            "Name: answers, dtype: float64\n"
          ]
        },
        {
          "output_type": "display_data",
          "data": {
            "text/plain": [
              "<Figure size 432x288 with 1 Axes>"
            ],
            "image/png": "[encoded data removed]"
          },
          "metadata": {
            "needs_background": "light"
          }
        },
        {
          "output_type": "stream",
          "name": "stdout",
          "text": [
            "10.5\n"
          ]
        }
      ]
    },
    {
      "cell_type": "markdown",
      "source": [
        "### AI-Hub 뉴스 기사 기계독해 데이터\n",
        "\n",
        "- [뉴스 기사 기계독해 데이터](https://aihub.or.kr/aihubdata/data/view.do?currMenu=115&topMenu=100&aihubDataSe=realm&dataSetSn=577)"
      ],
      "metadata": {
        "id": "eYgeCyZ5LSFK"
      }
    },
    {
      "cell_type": "code",
      "source": [
        "def read_news(path):\n",
        "    path = Path(path)\n",
        "    with open(path, 'rb') as f:\n",
        "        data = json.load(f)\n",
        "\n",
        "    news_categories = []\n",
        "    guids = []\n",
        "    contexts = []\n",
        "    questions = []\n",
        "    answers = []\n",
        "    for group in data['data']:\n",
        "        news_category = group['doc_class']['code']\n",
        "        for passage in group['paragraphs']:\n",
        "            context = passage['context']\n",
        "            for qa in passage['qas']:\n",
        "                news_categories.append(news_category)\n",
        "                guids.append(qa[\"question_id\"])\n",
        "                contexts.append(context)\n",
        "                questions.append(qa['question'])\n",
        "                answers.append({\"answer_start\": [qa['answers']['answer_start']], \"text\": [qa['answers']['text']]})\n",
        "                \n",
        "    return news_categories, guids, contexts, questions, answers"
      ],
      "metadata": {
        "id": "Kini23kOXzIs"
      },
      "execution_count": null,
      "outputs": []
    },
    {
      "cell_type": "code",
      "source": [
        "file_path = 'input/TL_span_extraction.json'\n",
        "\n",
        "news_categories, guids, contexts, questions, answers = read_news(file_path)\n",
        "\n",
        "news_df = pd.DataFrame(\n",
        "    list(zip(news_categories, guids , answers, contexts, questions)),\n",
        "    columns =['news_categories', 'id', 'answers', 'context', 'question'])\n",
        "news_df"
      ],
      "metadata": {
        "colab": {
          "base_uri": "https://localhost:8080/",
          "height": 467
        },
        "id": "fn8thieiZsxF",
        "outputId": "3bec7a40-0b54-4c5a-f505-354fd1a54d77"
      },
      "execution_count": null,
      "outputs": [
        {
          "output_type": "execute_result",
          "data": {
            "text/plain": [
              "       news_categories       id  \\\n",
              "0                  스포츠  4559297   \n",
              "1                  스포츠  4690367   \n",
              "2                   지역  4559299   \n",
              "3                   지역  4690369   \n",
              "4                   문화  4559300   \n",
              "...                ...      ...   \n",
              "223931              기타  4961427   \n",
              "223932              기타  4830355   \n",
              "223933              기타  4961425   \n",
              "223934              기타  4830354   \n",
              "223935              기타  4961424   \n",
              "\n",
              "                                                answers  \\\n",
              "0       {'answer_start': [4], 'text': ['서부권역 다목적 체육관']}   \n",
              "1       {'answer_start': [4], 'text': ['서부권역 다목적 체육관']}   \n",
              "2             {'answer_start': [104], 'text': ['총 5회']}   \n",
              "3             {'answer_start': [104], 'text': ['총 5회']}   \n",
              "4            {'answer_start': [713], 'text': ['악동뮤지션']}   \n",
              "...                                                 ...   \n",
              "223931          {'answer_start': [68], 'text': ['여수시']}   \n",
              "223932         {'answer_start': [580], 'text': ['하철경']}   \n",
              "223933         {'answer_start': [580], 'text': ['하철경']}   \n",
              "223934          {'answer_start': [202], 'text': ['6명']}   \n",
              "223935          {'answer_start': [202], 'text': ['6명']}   \n",
              "\n",
              "                                                  context  \\\n",
              "0       익산시 서부권역 다목적 체육관이 내달 개관을 앞두고 막바지 개관 준비가 한창이다. ...   \n",
              "1       익산시 서부권역 다목적 체육관이 내달 개관을 앞두고 막바지 개관 준비가 한창이다. ...   \n",
              "2       무주군건강가정ㆍ다문화가족지원센터(센터장 장진원)가 아버지와 자녀를 대상으로 ‘아빠하...   \n",
              "3       무주군건강가정ㆍ다문화가족지원센터(센터장 장진원)가 아버지와 자녀를 대상으로 ‘아빠하...   \n",
              "4       양희은의 노래 <엄마가 딸에게>는 엄마와 딸이 차마 말하지 못하는 속마음을 서로에게...   \n",
              "...                                                   ...   \n",
              "223931  권오봉 여수시장이 지난 6일 자산공원 현충탑에서 개최된 제66회 현충일 추념식에서 ...   \n",
              "223932  임농 하철경 화백(61)은 한국화를 현대적 점묘화법 형태로 선보이는 작업으로 알려져...   \n",
              "223933  임농 하철경 화백(61)은 한국화를 현대적 점묘화법 형태로 선보이는 작업으로 알려져...   \n",
              "223934  광주대학교(총장 김혁종)는 지난 9일 학교 행정관 회의실에서 장기근속자 공로패 수여...   \n",
              "223935  광주대학교(총장 김혁종)는 지난 9일 학교 행정관 회의실에서 장기근속자 공로패 수여...   \n",
              "\n",
              "                                         question  \n",
              "0              익산시에서 시민들의 건강을 위해 운영을 준비 중인 시설은 뭐야  \n",
              "1                 거주민들의 건강을 위하여 익산지역은 어떤 걸 만들고 있어  \n",
              "2           무주군에서 진행되는 부자 부녀 대상 행사 횟수는 전부 몇 번이나 돼  \n",
              "3                   전체 몇 번의 부자 부녀 대상 활동을 무주군이 실시해  \n",
              "4       가수 양희은의 콜라보 프로젝트 중 여덟 번째 곡 나무는 어떤 후배와 불렀지  \n",
              "...                                           ...  \n",
              "223931                   어느 지역에서 현충탑을 새롭게 만들기로 했어  \n",
              "223932           전통수묵화의 거장으로 진도에 미술품을 기증한 사람은 누구야  \n",
              "223933               전통수묵화의 거장으로 진도에 미술품을 누가 기증했어  \n",
              "223934             광주대학교로부터 공로패를 전달받게 된 교원은 몇 명이야  \n",
              "223935         광주대학교로부터 얼마나 되는 교원이 공로패를 전달받게 된 거야  \n",
              "\n",
              "[223936 rows x 5 columns]"
            ],
            "text/html": [
              "\n",
              "  <div id=\"df-183aaf63-9437-49de-9b2b-3e93dcba4734\">\n",
              "    <div class=\"colab-df-container\">\n",
              "      <div>\n",
              "<style scoped>\n",
              "    .dataframe tbody tr th:only-of-type {\n",
              "        vertical-align: middle;\n",
              "    }\n",
              "\n",
              "    .dataframe tbody tr th {\n",
              "        vertical-align: top;\n",
              "    }\n",
              "\n",
              "    .dataframe thead th {\n",
              "        text-align: right;\n",
              "    }\n",
              "</style>\n",
              "<table border=\"1\" class=\"dataframe\">\n",
              "  <thead>\n",
              "    <tr style=\"text-align: right;\">\n",
              "      <th></th>\n",
              "      <th>news_categories</th>\n",
              "      <th>id</th>\n",
              "      <th>answers</th>\n",
              "      <th>context</th>\n",
              "      <th>question</th>\n",
              "    </tr>\n",
              "  </thead>\n",
              "  <tbody>\n",
              "    <tr>\n",
              "      <th>0</th>\n",
              "      <td>스포츠</td>\n",
              "      <td>4559297</td>\n",
              "      <td>{'answer_start': [4], 'text': ['서부권역 다목적 체육관']}</td>\n",
              "      <td>익산시 서부권역 다목적 체육관이 내달 개관을 앞두고 막바지 개관 준비가 한창이다. ...</td>\n",
              "      <td>익산시에서 시민들의 건강을 위해 운영을 준비 중인 시설은 뭐야</td>\n",
              "    </tr>\n",
              "    <tr>\n",
              "      <th>1</th>\n",
              "      <td>스포츠</td>\n",
              "      <td>4690367</td>\n",
              "      <td>{'answer_start': [4], 'text': ['서부권역 다목적 체육관']}</td>\n",
              "      <td>익산시 서부권역 다목적 체육관이 내달 개관을 앞두고 막바지 개관 준비가 한창이다. ...</td>\n",
              "      <td>거주민들의 건강을 위하여 익산지역은 어떤 걸 만들고 있어</td>\n",
              "    </tr>\n",
              "    <tr>\n",
              "      <th>2</th>\n",
              "      <td>지역</td>\n",
              "      <td>4559299</td>\n",
              "      <td>{'answer_start': [104], 'text': ['총 5회']}</td>\n",
              "      <td>무주군건강가정ㆍ다문화가족지원센터(센터장 장진원)가 아버지와 자녀를 대상으로 ‘아빠하...</td>\n",
              "      <td>무주군에서 진행되는 부자 부녀 대상 행사 횟수는 전부 몇 번이나 돼</td>\n",
              "    </tr>\n",
              "    <tr>\n",
              "      <th>3</th>\n",
              "      <td>지역</td>\n",
              "      <td>4690369</td>\n",
              "      <td>{'answer_start': [104], 'text': ['총 5회']}</td>\n",
              "      <td>무주군건강가정ㆍ다문화가족지원센터(센터장 장진원)가 아버지와 자녀를 대상으로 ‘아빠하...</td>\n",
              "      <td>전체 몇 번의 부자 부녀 대상 활동을 무주군이 실시해</td>\n",
              "    </tr>\n",
              "    <tr>\n",
              "      <th>4</th>\n",
              "      <td>문화</td>\n",
              "      <td>4559300</td>\n",
              "      <td>{'answer_start': [713], 'text': ['악동뮤지션']}</td>\n",
              "      <td>양희은의 노래 &lt;엄마가 딸에게&gt;는 엄마와 딸이 차마 말하지 못하는 속마음을 서로에게...</td>\n",
              "      <td>가수 양희은의 콜라보 프로젝트 중 여덟 번째 곡 나무는 어떤 후배와 불렀지</td>\n",
              "    </tr>\n",
              "    <tr>\n",
              "      <th>...</th>\n",
              "      <td>...</td>\n",
              "      <td>...</td>\n",
              "      <td>...</td>\n",
              "      <td>...</td>\n",
              "      <td>...</td>\n",
              "    </tr>\n",
              "    <tr>\n",
              "      <th>223931</th>\n",
              "      <td>기타</td>\n",
              "      <td>4961427</td>\n",
              "      <td>{'answer_start': [68], 'text': ['여수시']}</td>\n",
              "      <td>권오봉 여수시장이 지난 6일 자산공원 현충탑에서 개최된 제66회 현충일 추념식에서 ...</td>\n",
              "      <td>어느 지역에서 현충탑을 새롭게 만들기로 했어</td>\n",
              "    </tr>\n",
              "    <tr>\n",
              "      <th>223932</th>\n",
              "      <td>기타</td>\n",
              "      <td>4830355</td>\n",
              "      <td>{'answer_start': [580], 'text': ['하철경']}</td>\n",
              "      <td>임농 하철경 화백(61)은 한국화를 현대적 점묘화법 형태로 선보이는 작업으로 알려져...</td>\n",
              "      <td>전통수묵화의 거장으로 진도에 미술품을 기증한 사람은 누구야</td>\n",
              "    </tr>\n",
              "    <tr>\n",
              "      <th>223933</th>\n",
              "      <td>기타</td>\n",
              "      <td>4961425</td>\n",
              "      <td>{'answer_start': [580], 'text': ['하철경']}</td>\n",
              "      <td>임농 하철경 화백(61)은 한국화를 현대적 점묘화법 형태로 선보이는 작업으로 알려져...</td>\n",
              "      <td>전통수묵화의 거장으로 진도에 미술품을 누가 기증했어</td>\n",
              "    </tr>\n",
              "    <tr>\n",
              "      <th>223934</th>\n",
              "      <td>기타</td>\n",
              "      <td>4830354</td>\n",
              "      <td>{'answer_start': [202], 'text': ['6명']}</td>\n",
              "      <td>광주대학교(총장 김혁종)는 지난 9일 학교 행정관 회의실에서 장기근속자 공로패 수여...</td>\n",
              "      <td>광주대학교로부터 공로패를 전달받게 된 교원은 몇 명이야</td>\n",
              "    </tr>\n",
              "    <tr>\n",
              "      <th>223935</th>\n",
              "      <td>기타</td>\n",
              "      <td>4961424</td>\n",
              "      <td>{'answer_start': [202], 'text': ['6명']}</td>\n",
              "      <td>광주대학교(총장 김혁종)는 지난 9일 학교 행정관 회의실에서 장기근속자 공로패 수여...</td>\n",
              "      <td>광주대학교로부터 얼마나 되는 교원이 공로패를 전달받게 된 거야</td>\n",
              "    </tr>\n",
              "  </tbody>\n",
              "</table>\n",
              "<p>223936 rows × 5 columns</p>\n",
              "</div>\n",
              "      <button class=\"colab-df-convert\" onclick=\"convertToInteractive('df-183aaf63-9437-49de-9b2b-3e93dcba4734')\"\n",
              "              title=\"Convert this dataframe to an interactive table.\"\n",
              "              style=\"display:none;\">\n",
              "        \n",
              "  <svg xmlns=\"http://www.w3.org/2000/svg\" height=\"24px\"viewBox=\"0 0 24 24\"\n",
              "       width=\"24px\">\n",
              "    <path d=\"M0 0h24v24H0V0z\" fill=\"none\"/>\n",
              "    <path d=\"M18.56 5.44l.94 2.06.94-2.06 2.06-.94-2.06-.94-.94-2.06-.94 2.06-2.06.94zm-11 1L8.5 8.5l.94-2.06 2.06-.94-2.06-.94L8.5 2.5l-.94 2.06-2.06.94zm10 10l.94 2.06.94-2.06 2.06-.94-2.06-.94-.94-2.06-.94 2.06-2.06.94z\"/><path d=\"M17.41 7.96l-1.37-1.37c-.4-.4-.92-.59-1.43-.59-.52 0-1.04.2-1.43.59L10.3 9.45l-7.72 7.72c-.78.78-.78 2.05 0 2.83L4 21.41c.39.39.9.59 1.41.59.51 0 1.02-.2 1.41-.59l7.78-7.78 2.81-2.81c.8-.78.8-2.07 0-2.86zM5.41 20L4 18.59l7.72-7.72 1.47 1.35L5.41 20z\"/>\n",
              "  </svg>\n",
              "      </button>\n",
              "      \n",
              "  <style>\n",
              "    .colab-df-container {\n",
              "      display:flex;\n",
              "      flex-wrap:wrap;\n",
              "      gap: 12px;\n",
              "    }\n",
              "\n",
              "    .colab-df-convert {\n",
              "      background-color: #E8F0FE;\n",
              "      border: none;\n",
              "      border-radius: 50%;\n",
              "      cursor: pointer;\n",
              "      display: none;\n",
              "      fill: #1967D2;\n",
              "      height: 32px;\n",
              "      padding: 0 0 0 0;\n",
              "      width: 32px;\n",
              "    }\n",
              "\n",
              "    .colab-df-convert:hover {\n",
              "      background-color: #E2EBFA;\n",
              "      box-shadow: 0px 1px 2px rgba(60, 64, 67, 0.3), 0px 1px 3px 1px rgba(60, 64, 67, 0.15);\n",
              "      fill: #174EA6;\n",
              "    }\n",
              "\n",
              "    [theme=dark] .colab-df-convert {\n",
              "      background-color: #3B4455;\n",
              "      fill: #D2E3FC;\n",
              "    }\n",
              "\n",
              "    [theme=dark] .colab-df-convert:hover {\n",
              "      background-color: #434B5C;\n",
              "      box-shadow: 0px 1px 3px 1px rgba(0, 0, 0, 0.15);\n",
              "      filter: drop-shadow(0px 1px 2px rgba(0, 0, 0, 0.3));\n",
              "      fill: #FFFFFF;\n",
              "    }\n",
              "  </style>\n",
              "\n",
              "      <script>\n",
              "        const buttonEl =\n",
              "          document.querySelector('#df-183aaf63-9437-49de-9b2b-3e93dcba4734 button.colab-df-convert');\n",
              "        buttonEl.style.display =\n",
              "          google.colab.kernel.accessAllowed ? 'block' : 'none';\n",
              "\n",
              "        async function convertToInteractive(key) {\n",
              "          const element = document.querySelector('#df-183aaf63-9437-49de-9b2b-3e93dcba4734');\n",
              "          const dataTable =\n",
              "            await google.colab.kernel.invokeFunction('convertToInteractive',\n",
              "                                                     [key], {});\n",
              "          if (!dataTable) return;\n",
              "\n",
              "          const docLinkHtml = 'Like what you see? Visit the ' +\n",
              "            '<a target=\"_blank\" href=https://colab.research.google.com/notebooks/data_table.ipynb>data table notebook</a>'\n",
              "            + ' to learn more about interactive tables.';\n",
              "          element.innerHTML = '';\n",
              "          dataTable['output_type'] = 'display_data';\n",
              "          await google.colab.output.renderOutput(dataTable, element);\n",
              "          const docLink = document.createElement('div');\n",
              "          docLink.innerHTML = docLinkHtml;\n",
              "          element.appendChild(docLink);\n",
              "        }\n",
              "      </script>\n",
              "    </div>\n",
              "  </div>\n",
              "  "
            ]
          },
          "metadata": {},
          "execution_count": 20
        }
      ]
    },
    {
      "cell_type": "code",
      "source": [
        "news_df.loc[news_df.duplicated(['id']), :]"
      ],
      "metadata": {
        "colab": {
          "base_uri": "https://localhost:8080/",
          "height": 49
        },
        "id": "VlcLpfSKpjt3",
        "outputId": "36b4cf69-ecb7-4093-a7ee-e0b7cf3fc785"
      },
      "execution_count": null,
      "outputs": [
        {
          "output_type": "execute_result",
          "data": {
            "text/plain": [
              "Empty DataFrame\n",
              "Columns: [news_categories, id, answers, context, question]\n",
              "Index: []"
            ],
            "text/html": [
              "\n",
              "  <div id=\"df-b774cc65-d8f5-4e0f-aa00-00a354965b97\">\n",
              "    <div class=\"colab-df-container\">\n",
              "      <div>\n",
              "<style scoped>\n",
              "    .dataframe tbody tr th:only-of-type {\n",
              "        vertical-align: middle;\n",
              "    }\n",
              "\n",
              "    .dataframe tbody tr th {\n",
              "        vertical-align: top;\n",
              "    }\n",
              "\n",
              "    .dataframe thead th {\n",
              "        text-align: right;\n",
              "    }\n",
              "</style>\n",
              "<table border=\"1\" class=\"dataframe\">\n",
              "  <thead>\n",
              "    <tr style=\"text-align: right;\">\n",
              "      <th></th>\n",
              "      <th>news_categories</th>\n",
              "      <th>id</th>\n",
              "      <th>answers</th>\n",
              "      <th>context</th>\n",
              "      <th>question</th>\n",
              "    </tr>\n",
              "  </thead>\n",
              "  <tbody>\n",
              "  </tbody>\n",
              "</table>\n",
              "</div>\n",
              "      <button class=\"colab-df-convert\" onclick=\"convertToInteractive('df-b774cc65-d8f5-4e0f-aa00-00a354965b97')\"\n",
              "              title=\"Convert this dataframe to an interactive table.\"\n",
              "              style=\"display:none;\">\n",
              "        \n",
              "  <svg xmlns=\"http://www.w3.org/2000/svg\" height=\"24px\"viewBox=\"0 0 24 24\"\n",
              "       width=\"24px\">\n",
              "    <path d=\"M0 0h24v24H0V0z\" fill=\"none\"/>\n",
              "    <path d=\"M18.56 5.44l.94 2.06.94-2.06 2.06-.94-2.06-.94-.94-2.06-.94 2.06-2.06.94zm-11 1L8.5 8.5l.94-2.06 2.06-.94-2.06-.94L8.5 2.5l-.94 2.06-2.06.94zm10 10l.94 2.06.94-2.06 2.06-.94-2.06-.94-.94-2.06-.94 2.06-2.06.94z\"/><path d=\"M17.41 7.96l-1.37-1.37c-.4-.4-.92-.59-1.43-.59-.52 0-1.04.2-1.43.59L10.3 9.45l-7.72 7.72c-.78.78-.78 2.05 0 2.83L4 21.41c.39.39.9.59 1.41.59.51 0 1.02-.2 1.41-.59l7.78-7.78 2.81-2.81c.8-.78.8-2.07 0-2.86zM5.41 20L4 18.59l7.72-7.72 1.47 1.35L5.41 20z\"/>\n",
              "  </svg>\n",
              "      </button>\n",
              "      \n",
              "  <style>\n",
              "    .colab-df-container {\n",
              "      display:flex;\n",
              "      flex-wrap:wrap;\n",
              "      gap: 12px;\n",
              "    }\n",
              "\n",
              "    .colab-df-convert {\n",
              "      background-color: #E8F0FE;\n",
              "      border: none;\n",
              "      border-radius: 50%;\n",
              "      cursor: pointer;\n",
              "      display: none;\n",
              "      fill: #1967D2;\n",
              "      height: 32px;\n",
              "      padding: 0 0 0 0;\n",
              "      width: 32px;\n",
              "    }\n",
              "\n",
              "    .colab-df-convert:hover {\n",
              "      background-color: #E2EBFA;\n",
              "      box-shadow: 0px 1px 2px rgba(60, 64, 67, 0.3), 0px 1px 3px 1px rgba(60, 64, 67, 0.15);\n",
              "      fill: #174EA6;\n",
              "    }\n",
              "\n",
              "    [theme=dark] .colab-df-convert {\n",
              "      background-color: #3B4455;\n",
              "      fill: #D2E3FC;\n",
              "    }\n",
              "\n",
              "    [theme=dark] .colab-df-convert:hover {\n",
              "      background-color: #434B5C;\n",
              "      box-shadow: 0px 1px 3px 1px rgba(0, 0, 0, 0.15);\n",
              "      filter: drop-shadow(0px 1px 2px rgba(0, 0, 0, 0.3));\n",
              "      fill: #FFFFFF;\n",
              "    }\n",
              "  </style>\n",
              "\n",
              "      <script>\n",
              "        const buttonEl =\n",
              "          document.querySelector('#df-b774cc65-d8f5-4e0f-aa00-00a354965b97 button.colab-df-convert');\n",
              "        buttonEl.style.display =\n",
              "          google.colab.kernel.accessAllowed ? 'block' : 'none';\n",
              "\n",
              "        async function convertToInteractive(key) {\n",
              "          const element = document.querySelector('#df-b774cc65-d8f5-4e0f-aa00-00a354965b97');\n",
              "          const dataTable =\n",
              "            await google.colab.kernel.invokeFunction('convertToInteractive',\n",
              "                                                     [key], {});\n",
              "          if (!dataTable) return;\n",
              "\n",
              "          const docLinkHtml = 'Like what you see? Visit the ' +\n",
              "            '<a target=\"_blank\" href=https://colab.research.google.com/notebooks/data_table.ipynb>data table notebook</a>'\n",
              "            + ' to learn more about interactive tables.';\n",
              "          element.innerHTML = '';\n",
              "          dataTable['output_type'] = 'display_data';\n",
              "          await google.colab.output.renderOutput(dataTable, element);\n",
              "          const docLink = document.createElement('div');\n",
              "          docLink.innerHTML = docLinkHtml;\n",
              "          element.appendChild(docLink);\n",
              "        }\n",
              "      </script>\n",
              "    </div>\n",
              "  </div>\n",
              "  "
            ]
          },
          "metadata": {},
          "execution_count": 21
        }
      ]
    },
    {
      "cell_type": "code",
      "source": [
        "draw_pie(news_df)"
      ],
      "metadata": {
        "colab": {
          "base_uri": "https://localhost:8080/",
          "height": 846
        },
        "id": "lEsNG7yAiktQ",
        "outputId": "2fec37cf-7145-453e-fce3-6daf38684f95"
      },
      "execution_count": null,
      "outputs": [
        {
          "output_type": "display_data",
          "data": {
            "text/plain": [
              "<Figure size 1080x1080 with 1 Axes>"
            ],
            "image/png": "[encoded data removed]"
          },
          "metadata": {}
        }
      ]
    },
    {
      "cell_type": "code",
      "source": [
        "my_list = ['스포츠', '정치', '지역']\n",
        "news_df = news_df[~news_df['news_categories'].isin(my_list)]\n",
        "print(news_df.shape)"
      ],
      "metadata": {
        "colab": {
          "base_uri": "https://localhost:8080/"
        },
        "id": "lEsXzQE7iWQW",
        "outputId": "3921c98d-f20a-4322-b24b-933705ea529a"
      },
      "execution_count": null,
      "outputs": [
        {
          "output_type": "stream",
          "name": "stdout",
          "text": [
            "(134432, 5)\n"
          ]
        }
      ]
    },
    {
      "cell_type": "code",
      "source": [
        "draw_pie(news_df)"
      ],
      "metadata": {
        "colab": {
          "base_uri": "https://localhost:8080/",
          "height": 846
        },
        "id": "9ir8BYJmDgMc",
        "outputId": "7dd84c0a-7eec-4e48-925a-6c478041b4cd"
      },
      "execution_count": null,
      "outputs": [
        {
          "output_type": "display_data",
          "data": {
            "text/plain": [
              "<Figure size 1080x1080 with 1 Axes>"
            ],
            "image/png": "[encoded data removed]"
          },
          "metadata": {}
        }
      ]
    },
    {
      "cell_type": "code",
      "source": [
        "news_df = news_df.sample(frac=0.6, random_state=args.seed)\n",
        "print(news_df.shape)"
      ],
      "metadata": {
        "colab": {
          "base_uri": "https://localhost:8080/"
        },
        "id": "7bynh0EYDEUy",
        "outputId": "c26b7a49-84e4-4b71-9077-a5f5b9234ebb"
      },
      "execution_count": null,
      "outputs": [
        {
          "output_type": "stream",
          "name": "stdout",
          "text": [
            "(80659, 5)\n"
          ]
        }
      ]
    },
    {
      "cell_type": "markdown",
      "source": [
        "### Concat"
      ],
      "metadata": {
        "id": "48hpbR9ilB0h"
      }
    },
    {
      "cell_type": "code",
      "source": [
        "train_df = df.sample(frac=0.8, random_state=args.seed)\n",
        "dev_df = df.drop(train_df.index)\n",
        "print(f'{df.shape[0]} =====> train: {train_df.shape[0]} + dev: {dev_df.shape[0]}')"
      ],
      "metadata": {
        "id": "UJSWF0G5gemd",
        "colab": {
          "base_uri": "https://localhost:8080/"
        },
        "outputId": "72552a98-4f31-4afd-cd24-bbadd311d208"
      },
      "execution_count": null,
      "outputs": [
        {
          "output_type": "stream",
          "name": "stdout",
          "text": [
            "12037 =====> train: 9630 + dev: 2407\n"
          ]
        }
      ]
    },
    {
      "cell_type": "code",
      "source": [
        "before = train_df.shape[0]\n",
        "train_df = pd.concat([train_df, news_df])\n",
        "train_df['id'] = train_df['id'].astype(str)\n",
        "print(f'train: {train_df.shape[0]} <===== {before} + {news_df.shape[0]}')"
      ],
      "metadata": {
        "colab": {
          "base_uri": "https://localhost:8080/"
        },
        "id": "LCB_M0NfL3f6",
        "outputId": "4fcf66de-cd67-45a4-dae9-d47970351648"
      },
      "execution_count": null,
      "outputs": [
        {
          "output_type": "stream",
          "name": "stdout",
          "text": [
            "train: 90289 <===== 9630 + 80659\n"
          ]
        }
      ]
    },
    {
      "cell_type": "code",
      "source": [
        "train_df = train_df.drop(['news_categories'], axis=1)\n",
        "dev_df = dev_df.drop(['news_categories'], axis=1)\n",
        "print(train_df.shape)\n",
        "print(dev_df.shape)"
      ],
      "metadata": {
        "colab": {
          "base_uri": "https://localhost:8080/"
        },
        "id": "hsmfJAuNnaAZ",
        "outputId": "4258f746-e83d-4498-95d2-044c7d9d3385"
      },
      "execution_count": null,
      "outputs": [
        {
          "output_type": "stream",
          "name": "stdout",
          "text": [
            "(90289, 4)\n",
            "(2407, 4)\n"
          ]
        }
      ]
    },
    {
      "cell_type": "code",
      "source": [
        "train_dataset = Dataset.from_pandas(train_df)\n",
        "dev_dataset = Dataset.from_pandas(dev_df)"
      ],
      "metadata": {
        "id": "wuj8BBY7g2G0"
      },
      "execution_count": null,
      "outputs": []
    },
    {
      "cell_type": "code",
      "source": [
        "print(\"Number of Train Samples:\", len(train_dataset))\n",
        "print(\"Number of Dev Samples:\", len(dev_dataset))\n",
        "print(train_dataset[0])\n",
        "print(dev_dataset[0])"
      ],
      "metadata": {
        "colab": {
          "base_uri": "https://localhost:8080/"
        },
        "id": "VyGKBHMUhFmt",
        "outputId": "a4895761-9809-42d9-8d43-63419ce56700"
      },
      "execution_count": null,
      "outputs": [
        {
          "output_type": "stream",
          "name": "stdout",
          "text": [
            "Number of Train Samples: 90289\n",
            "Number of Dev Samples: 2407\n",
            "{'id': '71a97d4e2e6041c3b6f4822e262af3a5', 'answers': {'answer_start': [1241], 'text': ['예약 번호']}, 'context': '세부퍼시픽은 신종 코로나바이러스 감염증(코로나19)로 인한 항공 여행에 대한 불안감을 해소하고 승객의 여행 편의를 높이기 위해 2020년 12월 31일까지 여행하는 승객 대상 유연한 여행 정책을 연장 적용한다고 발표했다. 세부퍼시픽 마케팅 및 고객 경험 담당 부사장인 캔디스 이요그(Candice Iyog)는 “세부퍼시픽은 코로나19로 인해 전 세계적으로 불확실성이 가중되는 상황에서 여행에 대한 우려를 완화시키기 위해 승객들의 목소리를 경청하며 정책을 보완하고 개선해 나가고 있습니다. 이에 따라 연장된 유연한 여행 정책이 승객들의 여행 계획에 조금이나마 도움이 되기를 바랍니다”라고 전했다. 금 번 연장된 여행 정책은 아래와 같이 적용된다. - 2년 유효기간의 트래블 펀드 트래블 펀드란 기존 항공권 예약을 위해 지불했던 총 금액을 현금으로 환불 받지 않고 온라인 상에 저장해 둘 수 있는 가상 지갑으로 항공편이 취소되었거나 여행 계획을 취소하려는 승객이 취할 수 있는 옵션이다. 2년 유효기간을 갖는 트래블 펀드는 최대 12개월 이내 항공편 예약시 트래블 펀드를 사용할 수 있으며 이를 통해 최대 2023년까지의 항공편에 트래블 펀드 사용이 가능하다. 유효기간 동안 승객들은 트래블 펀드를 이용하여 추후 새로운 항공권을 예약하거나 추가수하물, 옆좌석 구매 등 부가 서비스를 이용할 때 사용할 수 있다. 현재 여행 날짜가 미정인 승객들이 원하는 때 사용이 가능한 편리한 옵션으로 트래블 펀드 금액을 이미 소지하고 있는 고객의 경우 2년의 유효기간이 소급 적용되거나 트래블 펀드가 생성된 날로부터 2년이 적용된다. - 무제한 예약 변경 가능 세부퍼시픽의 승객은 재예약 또는 변경수수료를 지불하지 않고 항공편을 무제한 예약 변경할 수 있다. 이는 신종코로나바이러스로 인해 각 국의 여행 규정과 제한사항이 시시각각 변하고 있는 상황에서 여행객들이 여행관리를 보다 편리하고 유연하게 할 수 있게 하기 위한 목적으로서 선택한 여행 날짜에 따라 최소한의 요금 차액이 적용될 수 있다. - 취소된 항공편의 승객을 위한 옵션 전액 환불 또는 항공권에 상응하는 금액을 유효기간 2년의 트래블 펀드로 전환하여 추후 여행이 확정될 때 사용할 수 있다. 취소된 항공편의 승객은 원래 여행 날짜로부터 90이내 날짜의 항공편으로 변경하는 경우 수수료나 운임 차액 적용 없이 무제한으로 재예약이 가능하다 상기 옵션은 세부퍼시픽 웹 사이트의 ‘예약관리’ 메뉴를 통해 이용할 수 있다. Getgo 계정이 있는 경우에는 로그인을, 없는 경우에는 예약 번호만 입력하면 온라인을 통해 편리한 예약 변경 및 관리를 할 수 있으며 항공권 출발시간 2시간 전까지 필요한 변경 조치를 취할 수 있다. 또한 모든 세부퍼시픽의 승객은 웹사이트를 통해 연락처 정보와 주소를 쉽게 업데이트 할 수 있다. 여행사를 통해 항공편을 예약 한 경우 해당 여행사를 통해 조정해야 한다. 한편, 캔디스 이요그 부사장은 \"우리는 여행이 곧 재개될 것으로 기대하며 여전히 ‘우리 모두가 다시 여행하는 날’(#EveryJuanWillFlyAgain)을 위해 준비하고 있습니다.\"라고 전했으며 현재, 세부퍼시픽은 승객과 직원의 안전을 지키기 위해 전 세계 항공 표준에 따라 강화 된 위생, 예방 조치를 지속적으로 시행하고 있다. 여기에는 비대면 탑승 절차, 모든 항공기 및 시설에 대한 철저한 청소 및 소독 절차, 승객과 승무원의 마스크 및 안면 보호대 필수 착용, 세부퍼시픽 대면 직원에 대한 신속한 항체 검사가 포함된다.', 'question': '웹 사이트 아이디가 없어도 예약 변경을 하기 위해서 알고 있어야 하는 것은?', '__index_level_0__': 9432}\n",
            "{'id': '67c85e4f86ae43939b807684537c909c', 'answers': {'answer_start': [1422], 'text': ['삼보테크놀로지']}, 'context': '부산시와 (재)부산정보산업진흥원(원장 이인숙)이 ‘2020~2021년 지역SW서비스사업화 지원사업’ 공모사업에 4개 과제가 선정되어 본격적인 사업 착수에 나선다. 과학기술정보통신부가 주관하는 ‘지역SW서비스사업화 지원사업’은 강소SW기업 및 초기 스타트업의 SW서비스 사업화 지원과 신시장 진출 지원을 통해 기업 경쟁력 강화와 지역경제 활성화를 도모하는 사업이다. 올해부터 2개년으로 진행되며, 국비와 시비, 민자 등 2년간 약 37억원의 예산이 투입된다. 앞서 진흥원은 부산의 미래 먹거리산업인 스마트해양, 지능형기계, 지능정보서비스 분야로 사전 수요조사를 진행했고, 평가를 통해 선정된 5개 과제를 공모사업에 신청했다. 그 결과 부산의 4개 과제가 최종 선정되는 쾌거를 거뒀다. 당 사업은 전국 진흥기관을 대상으로 공모를 시작해, 총 17개 지역에서 42개 과제가 선정되었으며, 4개 과제가 선정된 곳은 부산과 강원지역 뿐이다. 금번 선정된 과제들은 ‘인공지능융합센서와 서보 이송 로봇을 이용한 전단보강재의 자동용접시스템 개발’ 등 총 4개 과제다. 부산시가 지원하고, 부산정보산업진흥원과 지역기업, 대학, 연구소 등이 컨소시엄을 구성하여 기술개발 및 사업화 지원을 추진한다. 2개의 Track으로 구분되는 이번사업은 Track 1(SW중소기업)에서 ㈜에이아이플랫폼, 엔컴(주), Track 2(스타트업)에서는 ㈜토즈, 삼보테크놀로지를 지원한다. ○ ‘Track 1‘의 (주)에이아이플랫폼이 주관기업으로 진행하는 <인공지능 기반 망막 내 아밀로이드 플라크 영상 분석을 통한 치매조기진단 플랫폼 상용화>는 치매 확진의 원인이 되는 중요 단백질(아밀로이드 플라크)을 자체개발 관측장비로 진단한다. 이를 통해 치매를 조기 발견하여, 각종 경제적 비용과 치료 및 예방 등 사회적 문제를 해 결하고 시민들이 쉽게 접근 가능한 실효성 있는 치매관리체계 개발을 목표로 한다. ○ 엔컴(주)이 주관기업으로 참여하는 <AI영상분석 기반 가공철근 생산성 향상 시스템 기술개발 및 사업화>는 산업안전, 환경규제, 생산체계의 변화로 침체된 부산 핵심 산업인 철강업 활성화에 나선다. 실시간으로 절곡되어 나오는 가공철근의 형상을 인식하고 불량 형상 판단 시 적합한 교정 값을 절곡설비에 전달함으로써, 무중단 생산이 가능한 영상분석 기술과 생산설비 자동화 제어기술을 개발한다. ○ ‘Track 2’의 ㈜토즈는 자립기반이 약한 국내 중소형 조선소의 산업기술 변화에 혁신적인 대응을 위해 <가상현실 기반 원격 다자간 선박 및 해양구조물 사전 검사 시스템>을 개발한다. 선박 건조 前, 설계 단계에서 설계자 뿐만 아니라 생산관리자, 품질관리자, 선급검사관, 선주감독관 등의 이해관계자가 공동으로 가상의 환경에서 선박 및 해양구조물의 자재 배치와 간섭, 작업성, 설계 오작 등에 대한 검사를 진행할 수 있는 기술을 확보하여 조선소의 업무효율을 극대화 할 예정이다. ○ 삼보테크놀로지는 재래식 건설 부자재의 시공성, 안전성, 내구성 등의 문제점을 보완하여 시민 안전과 건설근로자의 환경개선, 생산성 및 수익성 향상을 위해 <인공지능융합센서와 새들형 토치 서보 이송 로봇을 이용한 고속 SRD 전단보강재 자동용접시스템>을 개발한다. 로봇응용 SRD 용접자동화 설비를 제작하고, 용접 모니터링 및 품질검사 소프트웨어를 개발하여 건설분야에 4차산업 대비 지능형 생산자동화 기반기술을 확보할 예정이다. (재)부산정보산업진흥원 이인숙 원장은 “이번 코로나19 사태로 인해 부산 기업들이 매출과 고용유지, 자재수급 등에 큰 타격을 입었지만, 지역SW서비스사업화 지원사업을 통해 지역과 기업차원에서 기반을 다지는 계기가 됐으면 좋겠다‘며 ”진흥원은 어려운 사태를 대비해 지역 기업들을 지원할 수 있는 다른 방편을 계속 모색 중이며, 더욱 성장해 나갈 수 있도록 적극 지원하겠다“고 전했다.', 'question': '지능형 생산자동화 기반기술을 개발중인 스타트업은?', '__index_level_0__': 1}\n"
          ]
        }
      ]
    },
    {
      "cell_type": "code",
      "source": [
        "del df, news_df\n",
        "import gc\n",
        "gc.collect()"
      ],
      "metadata": {
        "colab": {
          "base_uri": "https://localhost:8080/"
        },
        "id": "e7i7VoDMqlMc",
        "outputId": "b830a51b-125b-4dc8-df20-9058319bee15"
      },
      "execution_count": null,
      "outputs": [
        {
          "output_type": "execute_result",
          "data": {
            "text/plain": [
              "5673"
            ]
          },
          "metadata": {},
          "execution_count": 31
        }
      ]
    },
    {
      "cell_type": "markdown",
      "source": [
        "## Preprocessing the dataset"
      ],
      "metadata": {
        "id": "0ReLitX9fNsE"
      }
    },
    {
      "cell_type": "code",
      "source": [
        "pad_on_right = tokenizer.padding_side == \"right\""
      ],
      "metadata": {
        "id": "pxHaP2d6m04T"
      },
      "execution_count": null,
      "outputs": []
    },
    {
      "cell_type": "code",
      "source": [
        "def prepare_train_features(examples):\n",
        "    # Some of the questions have lots of whitespace on the left, which is not useful and will make the\n",
        "    # truncation of the context fail (the tokenized question will take a lots of space). So we remove that\n",
        "    # left whitespace\n",
        "    examples[\"question\"] = [q.lstrip() for q in examples[\"question\"]]\n",
        "\n",
        "    # Tokenize our examples with truncation and padding, but keep the overflows using a stride. This results\n",
        "    # in one example possible giving several features when a context is long, each of those features having a\n",
        "    # context that overlaps a bit the context of the previous feature.\n",
        "    tokenized_examples = tokenizer(\n",
        "        examples[\"question\" if pad_on_right else \"context\"],\n",
        "        examples[\"context\" if pad_on_right else \"question\"],\n",
        "        truncation=\"only_second\" if pad_on_right else \"only_first\",\n",
        "        max_length=args.max_length,\n",
        "        stride=args.doc_stride,\n",
        "        return_overflowing_tokens=True,\n",
        "        return_offsets_mapping=True,\n",
        "        padding=\"max_length\",\n",
        "    )\n",
        "\n",
        "    # Since one example might give us several features if it has a long context, we need a map from a feature to\n",
        "    # its corresponding example. This key gives us just that.\n",
        "    sample_mapping = tokenized_examples.pop(\"overflow_to_sample_mapping\")\n",
        "    # The offset mappings will give us a map from token to character position in the original context. This will\n",
        "    # help us compute the start_positions and end_positions.\n",
        "    offset_mapping = tokenized_examples.pop(\"offset_mapping\")\n",
        "\n",
        "    # Let's label those examples!\n",
        "    tokenized_examples[\"start_positions\"] = []\n",
        "    tokenized_examples[\"end_positions\"] = []\n",
        "\n",
        "    for i, offsets in enumerate(offset_mapping):\n",
        "        # We will label impossible answers with the index of the CLS token.\n",
        "        input_ids = tokenized_examples[\"input_ids\"][i]\n",
        "        cls_index = input_ids.index(tokenizer.cls_token_id)\n",
        "\n",
        "        # Grab the sequence corresponding to that example (to know what is the context and what is the question).\n",
        "        sequence_ids = tokenized_examples.sequence_ids(i)\n",
        "\n",
        "        # One example can give several spans, this is the index of the example containing this span of text.\n",
        "        sample_index = sample_mapping[i]\n",
        "        answers = examples[\"answers\"][sample_index]\n",
        "        # If no answers are given, set the cls_index as answer.\n",
        "        if len(answers[\"answer_start\"]) == 0:\n",
        "            tokenized_examples[\"start_positions\"].append(cls_index)\n",
        "            tokenized_examples[\"end_positions\"].append(cls_index)\n",
        "        else:\n",
        "            # Start/end character index of the answer in the text.\n",
        "            start_char = answers[\"answer_start\"][0]\n",
        "            end_char = start_char + len(answers[\"text\"][0])\n",
        "\n",
        "            # Start token index of the current span in the text.\n",
        "            token_start_index = 0\n",
        "            while sequence_ids[token_start_index] != (1 if pad_on_right else 0):\n",
        "                token_start_index += 1\n",
        "\n",
        "            # End token index of the current span in the text.\n",
        "            token_end_index = len(input_ids) - 1\n",
        "            while sequence_ids[token_end_index] != (1 if pad_on_right else 0):\n",
        "                token_end_index -= 1\n",
        "\n",
        "            # Detect if the answer is out of the span (in which case this feature is labeled with the CLS index).\n",
        "            if not (offsets[token_start_index][0] <= start_char and offsets[token_end_index][1] >= end_char):\n",
        "                tokenized_examples[\"start_positions\"].append(cls_index)\n",
        "                tokenized_examples[\"end_positions\"].append(cls_index)\n",
        "            else:\n",
        "                # Otherwise move the token_start_index and token_end_index to the two ends of the answer.\n",
        "                # Note: we could go after the last offset if the answer is the last word (edge case).\n",
        "                while token_start_index < len(offsets) and offsets[token_start_index][0] <= start_char:\n",
        "                    token_start_index += 1\n",
        "                tokenized_examples[\"start_positions\"].append(token_start_index - 1)\n",
        "                while offsets[token_end_index][1] >= end_char:\n",
        "                    token_end_index -= 1\n",
        "                tokenized_examples[\"end_positions\"].append(token_end_index + 1)\n",
        "\n",
        "    return tokenized_examples"
      ],
      "metadata": {
        "id": "D17AuF-am_0y"
      },
      "execution_count": null,
      "outputs": []
    },
    {
      "cell_type": "code",
      "source": [
        "train_tokenized_dataset = train_dataset.map(prepare_train_features, batched=True, remove_columns=train_dataset.column_names)\n",
        "dev_tokenized_dataset = dev_dataset.map(prepare_train_features, batched=True, remove_columns=dev_dataset.column_names)"
      ],
      "metadata": {
        "colab": {
          "base_uri": "https://localhost:8080/",
          "height": 81,
          "referenced_widgets": [
            "c5c45cfc24124055acbab0b89aa0c190",
            "b72b37bbad83427e9dc0228a780aead7",
            "f8fee6ef7d914e4993c20cf8599a7198",
            "212d2a4c8ddb4c518c67aaf6fa29e9d1",
            "d6bae11cdee64c8387d384973909919f",
            "2692284ec13b4b7ca78a37e373c2042a",
            "662f03085bd44c92a6b1865b8b63988b",
            "55a29f0d0a214b049364901d7029df4a",
            "3620c6cfa622451d893b1abeb7d2d839",
            "9705004e3b09408c911f1598fd3bd251",
            "d1f4043be5bd4ace9e299aaf10758d4a",
            "1ca789fa5aa5443a9f3d0168e2335797",
            "04e032aaf8364cb381610ea5d1e39f2c",
            "d4535ebf7f9c4635a3c94618e9b2541f",
            "d6eedfa119e945ec8561291d9da4b7e8",
            "e31e4a0bbc464f7ca4da36eb141ba313",
            "a7f67f57344e46a29e1ac76e62c839f2",
            "e1b328cac1c34698a0d7947897de5b8f",
            "5b11284bb8a24381be4b5dcb04afb022",
            "ca2a0b30c4664f1fbb82637adc152aa0",
            "a586dbada7754d358bc50a1e29ec3387",
            "493081fa27c34a749bdfea20a7029b7c"
          ]
        },
        "id": "wNdLUW_VnhwQ",
        "outputId": "380ae49b-4979-4d07-82b9-52a63e97197b"
      },
      "execution_count": null,
      "outputs": [
        {
          "output_type": "display_data",
          "data": {
            "text/plain": [
              "  0%|          | 0/91 [00:00<?, ?ba/s]"
            ],
            "application/vnd.jupyter.widget-view+json": {
              "version_major": 2,
              "version_minor": 0,
              "model_id": "c5c45cfc24124055acbab0b89aa0c190"
            }
          },
          "metadata": {}
        },
        {
          "output_type": "display_data",
          "data": {
            "text/plain": [
              "  0%|          | 0/3 [00:00<?, ?ba/s]"
            ],
            "application/vnd.jupyter.widget-view+json": {
              "version_major": 2,
              "version_minor": 0,
              "model_id": "1ca789fa5aa5443a9f3d0168e2335797"
            }
          },
          "metadata": {}
        }
      ]
    },
    {
      "cell_type": "markdown",
      "source": [
        "# 2️⃣ Training & Fine-tuning the model"
      ],
      "metadata": {
        "id": "WXj8jILJ-lWV"
      }
    },
    {
      "cell_type": "code",
      "source": [
        "training_args = TrainingArguments(\n",
        "    f\"{args.name}-finetuned-klue\",\n",
        "    evaluation_strategy=\"epoch\",\n",
        "    save_strategy='epoch',\n",
        "    logging_strategy='epoch',\n",
        "    learning_rate=args.lr,\n",
        "    per_device_train_batch_size=args.batch_size.train // args.accumulation,\n",
        "    per_device_eval_batch_size=args.batch_size.dev // args.accumulation,\n",
        "    num_train_epochs=args.epochs,\n",
        "    gradient_accumulation_steps=args.accumulation, # Number of updates steps to accumulate the gradients for, before performing a backward/update pass.\n",
        "    fp16=True, # Whether to use fp16 16-bit (mixed) precision training instead of 32-bit training.\n",
        "    weight_decay=0.01,\n",
        "    report_to = 'wandb',\n",
        "    load_best_model_at_end = True,\n",
        "    seed=args.seed\n",
        ")"
      ],
      "metadata": {
        "id": "dqQ_o-ijoV_E"
      },
      "execution_count": null,
      "outputs": []
    },
    {
      "cell_type": "code",
      "source": [
        "training_args"
      ],
      "metadata": {
        "colab": {
          "base_uri": "https://localhost:8080/"
        },
        "id": "Jx9HtVB2pHnL",
        "outputId": "0bb73afe-4c32-48bb-c377-1e2afab96758"
      },
      "execution_count": null,
      "outputs": [
        {
          "output_type": "execute_result",
          "data": {
            "text/plain": [
              "TrainingArguments(\n",
              "_n_gpu=1,\n",
              "adafactor=False,\n",
              "adam_beta1=0.9,\n",
              "adam_beta2=0.999,\n",
              "adam_epsilon=1e-08,\n",
              "auto_find_batch_size=False,\n",
              "bf16=False,\n",
              "bf16_full_eval=False,\n",
              "data_seed=None,\n",
              "dataloader_drop_last=False,\n",
              "dataloader_num_workers=0,\n",
              "dataloader_pin_memory=True,\n",
              "ddp_bucket_cap_mb=None,\n",
              "ddp_find_unused_parameters=None,\n",
              "ddp_timeout=1800,\n",
              "debug=[],\n",
              "deepspeed=None,\n",
              "disable_tqdm=False,\n",
              "do_eval=True,\n",
              "do_predict=False,\n",
              "do_train=False,\n",
              "eval_accumulation_steps=None,\n",
              "eval_delay=0,\n",
              "eval_steps=None,\n",
              "evaluation_strategy=epoch,\n",
              "fp16=True,\n",
              "fp16_backend=auto,\n",
              "fp16_full_eval=False,\n",
              "fp16_opt_level=O1,\n",
              "fsdp=[],\n",
              "fsdp_min_num_params=0,\n",
              "fsdp_transformer_layer_cls_to_wrap=None,\n",
              "full_determinism=False,\n",
              "gradient_accumulation_steps=32,\n",
              "gradient_checkpointing=False,\n",
              "greater_is_better=False,\n",
              "group_by_length=False,\n",
              "half_precision_backend=auto,\n",
              "hub_model_id=None,\n",
              "hub_private_repo=False,\n",
              "hub_strategy=every_save,\n",
              "hub_token=<HUB_TOKEN>,\n",
              "ignore_data_skip=False,\n",
              "include_inputs_for_metrics=False,\n",
              "jit_mode_eval=False,\n",
              "label_names=None,\n",
              "label_smoothing_factor=0.0,\n",
              "learning_rate=1e-05,\n",
              "length_column_name=length,\n",
              "load_best_model_at_end=True,\n",
              "local_rank=-1,\n",
              "log_level=passive,\n",
              "log_level_replica=passive,\n",
              "log_on_each_node=True,\n",
              "logging_dir=kobigbird-bert-base_lr1e-05_ep30_max1024_317-finetuned-klue/runs/Jan10_06-19-05_10e296dc2b66,\n",
              "logging_first_step=False,\n",
              "logging_nan_inf_filter=True,\n",
              "logging_steps=500,\n",
              "logging_strategy=epoch,\n",
              "lr_scheduler_type=linear,\n",
              "max_grad_norm=1.0,\n",
              "max_steps=-1,\n",
              "metric_for_best_model=loss,\n",
              "mp_parameters=,\n",
              "no_cuda=False,\n",
              "num_train_epochs=30,\n",
              "optim=adamw_hf,\n",
              "optim_args=None,\n",
              "output_dir=kobigbird-bert-base_lr1e-05_ep30_max1024_317-finetuned-klue,\n",
              "overwrite_output_dir=False,\n",
              "past_index=-1,\n",
              "per_device_eval_batch_size=16,\n",
              "per_device_train_batch_size=16,\n",
              "prediction_loss_only=False,\n",
              "push_to_hub=False,\n",
              "push_to_hub_model_id=None,\n",
              "push_to_hub_organization=None,\n",
              "push_to_hub_token=<PUSH_TO_HUB_TOKEN>,\n",
              "ray_scope=last,\n",
              "remove_unused_columns=True,\n",
              "report_to=['wandb'],\n",
              "resume_from_checkpoint=None,\n",
              "run_name=kobigbird-bert-base_lr1e-05_ep30_max1024_317-finetuned-klue,\n",
              "save_on_each_node=False,\n",
              "save_steps=500,\n",
              "save_strategy=epoch,\n",
              "save_total_limit=None,\n",
              "seed=42,\n",
              "sharded_ddp=[],\n",
              "skip_memory_metrics=True,\n",
              "tf32=None,\n",
              "torchdynamo=None,\n",
              "tpu_metrics_debug=False,\n",
              "tpu_num_cores=None,\n",
              "use_ipex=False,\n",
              "use_legacy_prediction_loop=False,\n",
              "use_mps_device=False,\n",
              "warmup_ratio=0.0,\n",
              "warmup_steps=0,\n",
              "weight_decay=0.01,\n",
              "xpu_backend=None,\n",
              ")"
            ]
          },
          "metadata": {},
          "execution_count": 36
        }
      ]
    },
    {
      "cell_type": "code",
      "source": [
        "data_collator = default_data_collator"
      ],
      "metadata": {
        "id": "KURT-wp2pBT9"
      },
      "execution_count": null,
      "outputs": []
    },
    {
      "cell_type": "code",
      "source": [
        "optimizer = torch.optim.AdamW(model.parameters(), lr=args.lr, weight_decay=0.01)\n",
        "scheduler = get_cosine_schedule_with_warmup(optimizer=optimizer, num_warmup_steps=2000, num_training_steps=60000)\n",
        "optimizers = optimizer, scheduler"
      ],
      "metadata": {
        "id": "YyB8EfFnqwt5"
      },
      "execution_count": null,
      "outputs": []
    },
    {
      "cell_type": "code",
      "source": [
        "trainer = Trainer(\n",
        "    model,\n",
        "    training_args,\n",
        "    train_dataset=train_tokenized_dataset,\n",
        "    eval_dataset=dev_tokenized_dataset,\n",
        "    data_collator=data_collator,\n",
        "    tokenizer=tokenizer,\n",
        "    optimizers=optimizers,\n",
        "    callbacks=[EarlyStoppingCallback(early_stopping_patience=5)] # https://huggingface.co/docs/transformers/main_classes/callback#transformers.EarlyStoppingCallback\n",
        ")"
      ],
      "metadata": {
        "id": "9k8m7rbCpErP",
        "colab": {
          "base_uri": "https://localhost:8080/"
        },
        "outputId": "0379d9f9-a6b3-4a67-8a42-16d621c03d45"
      },
      "execution_count": null,
      "outputs": [
        {
          "output_type": "stream",
          "name": "stderr",
          "text": [
            "Using cuda_amp half precision backend\n"
          ]
        }
      ]
    },
    {
      "cell_type": "code",
      "source": [
        "trainer.train()"
      ],
      "metadata": {
        "colab": {
          "base_uri": "https://localhost:8080/",
          "height": 1000
        },
        "id": "6W6poC8TpxV7",
        "outputId": "4c4b3eae-1e19-49f9-c8f3-36a104cf1ae7"
      },
      "execution_count": null,
      "outputs": [
        {
          "metadata": {
            "tags": null
          },
          "name": "stderr",
          "output_type": "stream",
          "text": [
            "***** Running training *****\n",
            "  Num examples = 90729\n",
            "  Num Epochs = 30\n",
            "  Instantaneous batch size per device = 16\n",
            "  Total train batch size (w. parallel, distributed & accumulation) = 512\n",
            "  Gradient Accumulation steps = 32\n",
            "  Total optimization steps = 5310\n",
            "  Number of trainable parameters = 117888770\n",
            "Automatic Weights & Biases logging enabled, to disable set os.environ[\"WANDB_DISABLED\"] = \"true\"\n"
          ]
        },
        {
          "data": {
            "text/html": [
              "\n",
              "    <div>\n",
              "      \n",
              "      <progress value='573' max='5310' style='width:300px; height:20px; vertical-align: middle;'></progress>\n",
              "      [ 573/5310 3:36:25 < 29:55:27, 0.04 it/s, Epoch 3.23/30]\n",
              "    </div>\n",
              "    <table border=\"1\" class=\"dataframe\">\n",
              "  <thead>\n",
              " <tr style=\"text-align: left;\">\n",
              "      <th>Epoch</th>\n",
              "      <th>Training Loss</th>\n",
              "      <th>Validation Loss</th>\n",
              "    </tr>\n",
              "  </thead>\n",
              "  <tbody>\n",
              "    <tr>\n",
              "      <td>0</td>\n",
              "      <td>6.587000</td>\n",
              "      <td>5.772328</td>\n",
              "    </tr>\n",
              "    <tr>\n",
              "      <td>1</td>\n",
              "      <td>4.002500</td>\n",
              "      <td>2.903503</td>\n",
              "    </tr>\n",
              "    <tr>\n",
              "      <td>2</td>\n",
              "      <td>1.646700</td>\n",
              "      <td>1.691074</td>\n",
              "    </tr>\n",
              "  </tbody>\n",
              "</table><p>"
            ],
            "text/plain": [
              "<IPython.core.display.HTML object>"
            ]
          },
          "metadata": {},
          "output_type": "display_data"
        },
        {
          "metadata": {
            "tags": null
          },
          "name": "stderr",
          "output_type": "stream",
          "text": [
            "***** Running Evaluation *****\n",
            "  Num examples = 2442\n",
            "  Batch size = 16\n",
            "Saving model checkpoint to kobigbird-bert-base_lr1e-05_ep30_max1024_317-finetuned-klue/checkpoint-177\n",
            "Configuration saved in kobigbird-bert-base_lr1e-05_ep30_max1024_317-finetuned-klue/checkpoint-177/config.json\n",
            "Model weights saved in kobigbird-bert-base_lr1e-05_ep30_max1024_317-finetuned-klue/checkpoint-177/pytorch_model.bin\n",
            "tokenizer config file saved in kobigbird-bert-base_lr1e-05_ep30_max1024_317-finetuned-klue/checkpoint-177/tokenizer_config.json\n",
            "Special tokens file saved in kobigbird-bert-base_lr1e-05_ep30_max1024_317-finetuned-klue/checkpoint-177/special_tokens_map.json\n",
            "***** Running Evaluation *****\n",
            "  Num examples = 2442\n",
            "  Batch size = 16\n",
            "Saving model checkpoint to kobigbird-bert-base_lr1e-05_ep30_max1024_317-finetuned-klue/checkpoint-354\n",
            "Configuration saved in kobigbird-bert-base_lr1e-05_ep30_max1024_317-finetuned-klue/checkpoint-354/config.json\n",
            "Model weights saved in kobigbird-bert-base_lr1e-05_ep30_max1024_317-finetuned-klue/checkpoint-354/pytorch_model.bin\n",
            "tokenizer config file saved in kobigbird-bert-base_lr1e-05_ep30_max1024_317-finetuned-klue/checkpoint-354/tokenizer_config.json\n",
            "Special tokens file saved in kobigbird-bert-base_lr1e-05_ep30_max1024_317-finetuned-klue/checkpoint-354/special_tokens_map.json\n",
            "***** Running Evaluation *****\n",
            "  Num examples = 2442\n",
            "  Batch size = 16\n",
            "Saving model checkpoint to kobigbird-bert-base_lr1e-05_ep30_max1024_317-finetuned-klue/checkpoint-531\n",
            "Configuration saved in kobigbird-bert-base_lr1e-05_ep30_max1024_317-finetuned-klue/checkpoint-531/config.json\n",
            "Model weights saved in kobigbird-bert-base_lr1e-05_ep30_max1024_317-finetuned-klue/checkpoint-531/pytorch_model.bin\n",
            "tokenizer config file saved in kobigbird-bert-base_lr1e-05_ep30_max1024_317-finetuned-klue/checkpoint-531/tokenizer_config.json\n",
            "Special tokens file saved in kobigbird-bert-base_lr1e-05_ep30_max1024_317-finetuned-klue/checkpoint-531/special_tokens_map.json\n"
          ]
        },
        {
          "output_type": "display_data",
          "data": {
            "text/plain": [
              "<IPython.core.display.HTML object>"
            ],
            "text/html": [
              "\n",
              "    <div>\n",
              "      \n",
              "      <progress value='2478' max='5310' style='width:300px; height:20px; vertical-align: middle;'></progress>\n",
              "      [2478/5310 15:39:28 < 17:54:33, 0.04 it/s, Epoch 13/30]\n",
              "    </div>\n",
              "    <table border=\"1\" class=\"dataframe\">\n",
              "  <thead>\n",
              " <tr style=\"text-align: left;\">\n",
              "      <th>Epoch</th>\n",
              "      <th>Training Loss</th>\n",
              "      <th>Validation Loss</th>\n",
              "    </tr>\n",
              "  </thead>\n",
              "  <tbody>\n",
              "    <tr>\n",
              "      <td>0</td>\n",
              "      <td>6.587000</td>\n",
              "      <td>5.772328</td>\n",
              "    </tr>\n",
              "    <tr>\n",
              "      <td>1</td>\n",
              "      <td>4.002500</td>\n",
              "      <td>2.903503</td>\n",
              "    </tr>\n",
              "    <tr>\n",
              "      <td>2</td>\n",
              "      <td>1.646700</td>\n",
              "      <td>1.691074</td>\n",
              "    </tr>\n",
              "    <tr>\n",
              "      <td>3</td>\n",
              "      <td>1.105100</td>\n",
              "      <td>1.388731</td>\n",
              "    </tr>\n",
              "    <tr>\n",
              "      <td>4</td>\n",
              "      <td>0.917000</td>\n",
              "      <td>1.232406</td>\n",
              "    </tr>\n",
              "    <tr>\n",
              "      <td>5</td>\n",
              "      <td>0.806900</td>\n",
              "      <td>1.123801</td>\n",
              "    </tr>\n",
              "    <tr>\n",
              "      <td>6</td>\n",
              "      <td>0.721200</td>\n",
              "      <td>1.078335</td>\n",
              "    </tr>\n",
              "    <tr>\n",
              "      <td>7</td>\n",
              "      <td>0.650500</td>\n",
              "      <td>1.027110</td>\n",
              "    </tr>\n",
              "    <tr>\n",
              "      <td>8</td>\n",
              "      <td>0.590100</td>\n",
              "      <td>1.017393</td>\n",
              "    </tr>\n",
              "    <tr>\n",
              "      <td>9</td>\n",
              "      <td>0.529800</td>\n",
              "      <td>1.024204</td>\n",
              "    </tr>\n",
              "    <tr>\n",
              "      <td>10</td>\n",
              "      <td>0.473500</td>\n",
              "      <td>1.057063</td>\n",
              "    </tr>\n",
              "    <tr>\n",
              "      <td>11</td>\n",
              "      <td>0.417700</td>\n",
              "      <td>1.125399</td>\n",
              "    </tr>\n",
              "    <tr>\n",
              "      <td>12</td>\n",
              "      <td>0.363900</td>\n",
              "      <td>1.231005</td>\n",
              "    </tr>\n",
              "    <tr>\n",
              "      <td>13</td>\n",
              "      <td>0.316100</td>\n",
              "      <td>1.267221</td>\n",
              "    </tr>\n",
              "  </tbody>\n",
              "</table><p>"
            ]
          },
          "metadata": {}
        },
        {
          "output_type": "stream",
          "name": "stderr",
          "text": [
            "***** Running Evaluation *****\n",
            "  Num examples = 2442\n",
            "  Batch size = 16\n",
            "Saving model checkpoint to kobigbird-bert-base_lr1e-05_ep30_max1024_317-finetuned-klue/checkpoint-708\n",
            "Configuration saved in kobigbird-bert-base_lr1e-05_ep30_max1024_317-finetuned-klue/checkpoint-708/config.json\n",
            "Model weights saved in kobigbird-bert-base_lr1e-05_ep30_max1024_317-finetuned-klue/checkpoint-708/pytorch_model.bin\n",
            "tokenizer config file saved in kobigbird-bert-base_lr1e-05_ep30_max1024_317-finetuned-klue/checkpoint-708/tokenizer_config.json\n",
            "Special tokens file saved in kobigbird-bert-base_lr1e-05_ep30_max1024_317-finetuned-klue/checkpoint-708/special_tokens_map.json\n",
            "***** Running Evaluation *****\n",
            "  Num examples = 2442\n",
            "  Batch size = 16\n",
            "Saving model checkpoint to kobigbird-bert-base_lr1e-05_ep30_max1024_317-finetuned-klue/checkpoint-885\n",
            "Configuration saved in kobigbird-bert-base_lr1e-05_ep30_max1024_317-finetuned-klue/checkpoint-885/config.json\n",
            "Model weights saved in kobigbird-bert-base_lr1e-05_ep30_max1024_317-finetuned-klue/checkpoint-885/pytorch_model.bin\n",
            "tokenizer config file saved in kobigbird-bert-base_lr1e-05_ep30_max1024_317-finetuned-klue/checkpoint-885/tokenizer_config.json\n",
            "Special tokens file saved in kobigbird-bert-base_lr1e-05_ep30_max1024_317-finetuned-klue/checkpoint-885/special_tokens_map.json\n",
            "***** Running Evaluation *****\n",
            "  Num examples = 2442\n",
            "  Batch size = 16\n",
            "Saving model checkpoint to kobigbird-bert-base_lr1e-05_ep30_max1024_317-finetuned-klue/checkpoint-1062\n",
            "Configuration saved in kobigbird-bert-base_lr1e-05_ep30_max1024_317-finetuned-klue/checkpoint-1062/config.json\n",
            "Model weights saved in kobigbird-bert-base_lr1e-05_ep30_max1024_317-finetuned-klue/checkpoint-1062/pytorch_model.bin\n",
            "tokenizer config file saved in kobigbird-bert-base_lr1e-05_ep30_max1024_317-finetuned-klue/checkpoint-1062/tokenizer_config.json\n",
            "Special tokens file saved in kobigbird-bert-base_lr1e-05_ep30_max1024_317-finetuned-klue/checkpoint-1062/special_tokens_map.json\n",
            "***** Running Evaluation *****\n",
            "  Num examples = 2442\n",
            "  Batch size = 16\n",
            "Saving model checkpoint to kobigbird-bert-base_lr1e-05_ep30_max1024_317-finetuned-klue/checkpoint-1239\n",
            "Configuration saved in kobigbird-bert-base_lr1e-05_ep30_max1024_317-finetuned-klue/checkpoint-1239/config.json\n",
            "Model weights saved in kobigbird-bert-base_lr1e-05_ep30_max1024_317-finetuned-klue/checkpoint-1239/pytorch_model.bin\n",
            "tokenizer config file saved in kobigbird-bert-base_lr1e-05_ep30_max1024_317-finetuned-klue/checkpoint-1239/tokenizer_config.json\n",
            "Special tokens file saved in kobigbird-bert-base_lr1e-05_ep30_max1024_317-finetuned-klue/checkpoint-1239/special_tokens_map.json\n",
            "***** Running Evaluation *****\n",
            "  Num examples = 2442\n",
            "  Batch size = 16\n",
            "Saving model checkpoint to kobigbird-bert-base_lr1e-05_ep30_max1024_317-finetuned-klue/checkpoint-1416\n",
            "Configuration saved in kobigbird-bert-base_lr1e-05_ep30_max1024_317-finetuned-klue/checkpoint-1416/config.json\n",
            "Model weights saved in kobigbird-bert-base_lr1e-05_ep30_max1024_317-finetuned-klue/checkpoint-1416/pytorch_model.bin\n",
            "tokenizer config file saved in kobigbird-bert-base_lr1e-05_ep30_max1024_317-finetuned-klue/checkpoint-1416/tokenizer_config.json\n",
            "Special tokens file saved in kobigbird-bert-base_lr1e-05_ep30_max1024_317-finetuned-klue/checkpoint-1416/special_tokens_map.json\n",
            "***** Running Evaluation *****\n",
            "  Num examples = 2442\n",
            "  Batch size = 16\n",
            "Saving model checkpoint to kobigbird-bert-base_lr1e-05_ep30_max1024_317-finetuned-klue/checkpoint-1593\n",
            "Configuration saved in kobigbird-bert-base_lr1e-05_ep30_max1024_317-finetuned-klue/checkpoint-1593/config.json\n",
            "Model weights saved in kobigbird-bert-base_lr1e-05_ep30_max1024_317-finetuned-klue/checkpoint-1593/pytorch_model.bin\n",
            "tokenizer config file saved in kobigbird-bert-base_lr1e-05_ep30_max1024_317-finetuned-klue/checkpoint-1593/tokenizer_config.json\n",
            "Special tokens file saved in kobigbird-bert-base_lr1e-05_ep30_max1024_317-finetuned-klue/checkpoint-1593/special_tokens_map.json\n",
            "***** Running Evaluation *****\n",
            "  Num examples = 2442\n",
            "  Batch size = 16\n",
            "Saving model checkpoint to kobigbird-bert-base_lr1e-05_ep30_max1024_317-finetuned-klue/checkpoint-1770\n",
            "Configuration saved in kobigbird-bert-base_lr1e-05_ep30_max1024_317-finetuned-klue/checkpoint-1770/config.json\n",
            "Model weights saved in kobigbird-bert-base_lr1e-05_ep30_max1024_317-finetuned-klue/checkpoint-1770/pytorch_model.bin\n",
            "tokenizer config file saved in kobigbird-bert-base_lr1e-05_ep30_max1024_317-finetuned-klue/checkpoint-1770/tokenizer_config.json\n",
            "Special tokens file saved in kobigbird-bert-base_lr1e-05_ep30_max1024_317-finetuned-klue/checkpoint-1770/special_tokens_map.json\n",
            "***** Running Evaluation *****\n",
            "  Num examples = 2442\n",
            "  Batch size = 16\n",
            "Saving model checkpoint to kobigbird-bert-base_lr1e-05_ep30_max1024_317-finetuned-klue/checkpoint-1947\n",
            "Configuration saved in kobigbird-bert-base_lr1e-05_ep30_max1024_317-finetuned-klue/checkpoint-1947/config.json\n",
            "Model weights saved in kobigbird-bert-base_lr1e-05_ep30_max1024_317-finetuned-klue/checkpoint-1947/pytorch_model.bin\n",
            "tokenizer config file saved in kobigbird-bert-base_lr1e-05_ep30_max1024_317-finetuned-klue/checkpoint-1947/tokenizer_config.json\n",
            "Special tokens file saved in kobigbird-bert-base_lr1e-05_ep30_max1024_317-finetuned-klue/checkpoint-1947/special_tokens_map.json\n",
            "***** Running Evaluation *****\n",
            "  Num examples = 2442\n",
            "  Batch size = 16\n",
            "Saving model checkpoint to kobigbird-bert-base_lr1e-05_ep30_max1024_317-finetuned-klue/checkpoint-2124\n",
            "Configuration saved in kobigbird-bert-base_lr1e-05_ep30_max1024_317-finetuned-klue/checkpoint-2124/config.json\n",
            "Model weights saved in kobigbird-bert-base_lr1e-05_ep30_max1024_317-finetuned-klue/checkpoint-2124/pytorch_model.bin\n",
            "tokenizer config file saved in kobigbird-bert-base_lr1e-05_ep30_max1024_317-finetuned-klue/checkpoint-2124/tokenizer_config.json\n",
            "Special tokens file saved in kobigbird-bert-base_lr1e-05_ep30_max1024_317-finetuned-klue/checkpoint-2124/special_tokens_map.json\n",
            "***** Running Evaluation *****\n",
            "  Num examples = 2442\n",
            "  Batch size = 16\n",
            "Saving model checkpoint to kobigbird-bert-base_lr1e-05_ep30_max1024_317-finetuned-klue/checkpoint-2301\n",
            "Configuration saved in kobigbird-bert-base_lr1e-05_ep30_max1024_317-finetuned-klue/checkpoint-2301/config.json\n",
            "Model weights saved in kobigbird-bert-base_lr1e-05_ep30_max1024_317-finetuned-klue/checkpoint-2301/pytorch_model.bin\n",
            "tokenizer config file saved in kobigbird-bert-base_lr1e-05_ep30_max1024_317-finetuned-klue/checkpoint-2301/tokenizer_config.json\n",
            "Special tokens file saved in kobigbird-bert-base_lr1e-05_ep30_max1024_317-finetuned-klue/checkpoint-2301/special_tokens_map.json\n",
            "***** Running Evaluation *****\n",
            "  Num examples = 2442\n",
            "  Batch size = 16\n",
            "Saving model checkpoint to kobigbird-bert-base_lr1e-05_ep30_max1024_317-finetuned-klue/checkpoint-2478\n",
            "Configuration saved in kobigbird-bert-base_lr1e-05_ep30_max1024_317-finetuned-klue/checkpoint-2478/config.json\n",
            "Model weights saved in kobigbird-bert-base_lr1e-05_ep30_max1024_317-finetuned-klue/checkpoint-2478/pytorch_model.bin\n",
            "tokenizer config file saved in kobigbird-bert-base_lr1e-05_ep30_max1024_317-finetuned-klue/checkpoint-2478/tokenizer_config.json\n",
            "Special tokens file saved in kobigbird-bert-base_lr1e-05_ep30_max1024_317-finetuned-klue/checkpoint-2478/special_tokens_map.json\n",
            "\n",
            "\n",
            "Training completed. Do not forget to share your model on huggingface.co/models =)\n",
            "\n",
            "\n",
            "Loading best model from kobigbird-bert-base_lr1e-05_ep30_max1024_317-finetuned-klue/checkpoint-1593 (score: 1.0173927545547485).\n"
          ]
        },
        {
          "output_type": "execute_result",
          "data": {
            "text/plain": [
              "TrainOutput(global_step=2478, training_loss=1.3662782719868436, metrics={'train_runtime': 56394.7939, 'train_samples_per_second': 48.265, 'train_steps_per_second': 0.094, 'total_flos': 7.0066795075729e+17, 'train_loss': 1.3662782719868436, 'epoch': 14.0})"
            ]
          },
          "metadata": {},
          "execution_count": 40
        }
      ]
    },
    {
      "cell_type": "code",
      "source": [
        "trainer.save_model(f\"{args.name}-finetuned-klue\")"
      ],
      "metadata": {
        "id": "jI-4xjQMpzvc",
        "colab": {
          "base_uri": "https://localhost:8080/"
        },
        "outputId": "5c961cf1-0e85-4dea-a286-fb62cfb65f44"
      },
      "execution_count": null,
      "outputs": [
        {
          "output_type": "stream",
          "name": "stderr",
          "text": [
            "Saving model checkpoint to kobigbird-bert-base_lr1e-05_ep30_max1024_317-finetuned-klue\n",
            "Configuration saved in kobigbird-bert-base_lr1e-05_ep30_max1024_317-finetuned-klue/config.json\n",
            "Model weights saved in kobigbird-bert-base_lr1e-05_ep30_max1024_317-finetuned-klue/pytorch_model.bin\n",
            "tokenizer config file saved in kobigbird-bert-base_lr1e-05_ep30_max1024_317-finetuned-klue/tokenizer_config.json\n",
            "Special tokens file saved in kobigbird-bert-base_lr1e-05_ep30_max1024_317-finetuned-klue/special_tokens_map.json\n"
          ]
        }
      ]
    },
    {
      "cell_type": "code",
      "source": [
        "def plot_dict(dict_arrays, start_step=0, step_size=1, use_title=None, points_values=False, points_round=3,\n",
        "              use_xlabel=None, use_xticks=True, use_rotation_xticks=0, xticks_labels=None, use_ylabel=None,\n",
        "              style_sheet='ggplot', use_grid=True, use_linestyles=None, font_size=None, width=3, height=1, magnify=1.2,\n",
        "              use_dpi=50, path=None, show_plot=True):\n",
        "    # Check if `dict_arrays` is the correct format.\n",
        "    if not isinstance(dict_arrays, dict):\n",
        "        # Raise value error.\n",
        "        raise ValueError(\"`dict_arrays` needs to be a dictionary of values!\")\n",
        "\n",
        "    # Check each label\n",
        "    for label, array in dict_arrays.items():\n",
        "        # Check if format is correct.\n",
        "        if not isinstance(label, str):\n",
        "            # Raise value error.\n",
        "            raise ValueError(\"`dict_arrays` needs string keys!\")\n",
        "        if not isinstance(array, list) or isinstance(array, np.ndarray):\n",
        "            # Raise value error.\n",
        "            raise ValueError(\"`dict_arrays` needs lists values!\")\n",
        "\n",
        "    # Make sure style sheet is correct.\n",
        "    if style_sheet in plt.style.available:\n",
        "        # Set style of plot\n",
        "        plt.style.use(style_sheet)\n",
        "    else:\n",
        "        # Style is not correct.\n",
        "        raise ValueError(\"`style_sheet=%s` is not in the supported styles: %s\" % (str(style_sheet),\n",
        "                                                                                  str(plt.style.available)))\n",
        "\n",
        "    # all linestyles.\n",
        "    linestyles = ['-', '--', '-.', ':']\n",
        "\n",
        "    # Make sure `font_size` is set right.\n",
        "    if (font_size is not None) and (font_size <= 0):\n",
        "        # Raise value error -  is not correct.\n",
        "        raise ValueError(f'`font_size` needs to be positive number! Invalid value {font_size}')\n",
        "\n",
        "    # Font variables dictionary. Keep it in this format for future updates.\n",
        "    font_dict = dict(\n",
        "        family='DejaVu Sans',\n",
        "        color='black',\n",
        "        weight='normal',\n",
        "        size=font_size,\n",
        "    )\n",
        "\n",
        "    # Single plot figure.\n",
        "    plt.subplot(1, 2, 1)\n",
        "\n",
        "    # Use maximum length of steps. In case each arrya has different lengths.\n",
        "    max_steps = []\n",
        "\n",
        "    # Plot each array.\n",
        "    for index, (use_label, array) in enumerate(dict_arrays.items()):\n",
        "        # Set steps plotted on x-axis - we can use step if 1 unit has different value.\n",
        "        if start_step > 0:\n",
        "            # Offset all steps by start_step.\n",
        "            steps = np.array(range(0, len(array))) * step_size + start_step\n",
        "            max_steps = steps if len(max_steps) < len(steps) else max_steps\n",
        "        else:\n",
        "            steps = np.array(range(1, len(array) + 1)) * step_size\n",
        "            max_steps = steps if len(max_steps) < len(steps) else max_steps\n",
        "\n",
        "        # Plot array as a single line.\n",
        "        plt.plot(steps, array, label=use_label)\n",
        "\n",
        "    # Set horizontal axis name.\n",
        "    plt.xlabel(use_xlabel, fontdict=font_dict)\n",
        "\n",
        "    # Use x ticks with steps or labels.\n",
        "    plt.xticks(max_steps, xticks_labels, rotation=use_rotation_xticks) if use_xticks else None\n",
        "\n",
        "    # Set vertical axis name.\n",
        "    plt.ylabel(use_ylabel, fontdict=font_dict)\n",
        "\n",
        "    # Adjust both axis labels font size at same time.\n",
        "    plt.tick_params(labelsize=font_dict['size'])\n",
        "\n",
        "    # Place legend best position.\n",
        "    plt.legend(loc='best', fontsize=font_dict['size'])\n",
        "\n",
        "    # Set title of figure.\n",
        "    plt.title(use_title, fontdict=font_dict)\n",
        "\n",
        "    # Display grid depending on `use_grid`.\n",
        "    plt.grid(use_grid)\n",
        "\n",
        "    # Make figure nice.\n",
        "    plt.tight_layout()\n",
        "\n",
        "    # Get figure object from plot.\n",
        "    fig = plt.gcf()\n",
        "\n",
        "    # Get size of figure.\n",
        "    figsize = fig.get_size_inches()\n",
        "\n",
        "    # Change size depending on height and width variables.\n",
        "    figsize = [figsize[0] * width * magnify, figsize[1] * height * magnify]\n",
        "\n",
        "    # Set the new figure size with magnify.\n",
        "    fig.set_size_inches(figsize)\n",
        "\n",
        "    # Show plot.\n",
        "    plt.show() if show_plot is True else None\n",
        "\n",
        "    return"
      ],
      "metadata": {
        "id": "Et5hDaiQ7HyO"
      },
      "execution_count": null,
      "outputs": []
    },
    {
      "cell_type": "code",
      "source": [
        "# Keep track of train and evaluate loss.\n",
        "loss_history = {'train_loss':[], 'eval_loss':[]}\n",
        " \n",
        "# Keep track of train and evaluate perplexity.\n",
        "# This is a metric useful to track for language models.\n",
        "perplexity_history = {'train_perplexity':[], 'eval_perplexity':[]}\n",
        " \n",
        "# Loop through each log history.\n",
        "for log_history in trainer.state.log_history:\n",
        " \n",
        "  if 'loss' in log_history.keys():\n",
        "    # Deal with trianing loss.\n",
        "    loss_history['train_loss'].append(log_history['loss'])\n",
        "    #perplexity_history['train_perplexity'].append(math.exp(log_history['loss']))\n",
        "     \n",
        "  elif 'eval_loss' in log_history.keys():\n",
        "    # Deal with eval loss.\n",
        "    loss_history['eval_loss'].append(log_history['eval_loss'])\n",
        "    #perplexity_history['eval_perplexity'].append(math.exp(log_history['eval_loss']))\n",
        " \n",
        "# Plot Losses.\n",
        "plot_dict(loss_history, start_step=training_args.logging_steps, \n",
        "          step_size=training_args.logging_steps, use_title='Loss', \n",
        "          use_xlabel='Train Steps', use_ylabel='Loss', magnify=2)\n",
        " \n",
        "print()\n",
        " \n",
        "'''# Plot Perplexities.\n",
        "plot_dict(perplexity_history, start_step=training_args.logging_steps, \n",
        "          step_size=training_args.logging_steps, use_title='Perplexity', \n",
        "          use_xlabel='Train Steps', use_ylabel='Perplexity', magnify=2)'''"
      ],
      "metadata": {
        "id": "5FhMtOtM8F9n",
        "colab": {
          "base_uri": "https://localhost:8080/",
          "height": 575
        },
        "outputId": "e9aa35a0-b2df-490b-e2c2-970607fb40a1"
      },
      "execution_count": null,
      "outputs": [
        {
          "output_type": "display_data",
          "data": {
            "text/plain": [
              "<Figure size 2592x576 with 1 Axes>"
            ],
            "image/png": "[encoded data removed]"
          },
          "metadata": {}
        },
        {
          "output_type": "stream",
          "name": "stdout",
          "text": [
            "\n"
          ]
        },
        {
          "output_type": "execute_result",
          "data": {
            "text/plain": [
              "\"# Plot Perplexities.\\nplot_dict(perplexity_history, start_step=training_args.logging_steps, \\n          step_size=training_args.logging_steps, use_title='Perplexity', \\n          use_xlabel='Train Steps', use_ylabel='Perplexity', magnify=2)\""
            ],
            "application/vnd.google.colaboratory.intrinsic+json": {
              "type": "string"
            }
          },
          "metadata": {},
          "execution_count": 43
        }
      ]
    },
    {
      "cell_type": "markdown",
      "source": [
        "# 3️⃣ Evaluation"
      ],
      "metadata": {
        "id": "4kj3LBSi-rQk"
      }
    },
    {
      "cell_type": "code",
      "source": [
        "pad_on_right = tokenizer.padding_side == \"right\""
      ],
      "metadata": {
        "id": "sf-WzvizFbpQ"
      },
      "execution_count": null,
      "outputs": []
    },
    {
      "cell_type": "code",
      "source": [
        "def prepare_validation_features(examples):\n",
        "    # Some of the questions have lots of whitespace on the left, which is not useful and will make the\n",
        "    # truncation of the context fail (the tokenized question will take a lots of space). So we remove that\n",
        "    # left whitespace\n",
        "    examples[\"question\"] = [q.lstrip() for q in examples[\"question\"]]\n",
        "\n",
        "    # Tokenize our examples with truncation and maybe padding, but keep the overflows using a stride. This results\n",
        "    # in one example possible giving several features when a context is long, each of those features having a\n",
        "    # context that overlaps a bit the context of the previous feature.\n",
        "    tokenized_examples = tokenizer(\n",
        "        examples[\"question\" if pad_on_right else \"context\"],\n",
        "        examples[\"context\" if pad_on_right else \"question\"],\n",
        "        truncation=\"only_second\" if pad_on_right else \"only_first\",\n",
        "        max_length=args.max_length,\n",
        "        stride=args.doc_stride,\n",
        "        return_overflowing_tokens=True,\n",
        "        return_offsets_mapping=True,\n",
        "        padding=\"max_length\",\n",
        "    )\n",
        "\n",
        "    # Since one example might give us several features if it has a long context, we need a map from a feature to\n",
        "    # its corresponding example. This key gives us just that.\n",
        "    sample_mapping = tokenized_examples.pop(\"overflow_to_sample_mapping\")\n",
        "\n",
        "    # We keep the example_id that gave us this feature and we will store the offset mappings.\n",
        "    tokenized_examples[\"example_id\"] = []\n",
        "\n",
        "    for i in range(len(tokenized_examples[\"input_ids\"])):\n",
        "        # Grab the sequence corresponding to that example (to know what is the context and what is the question).\n",
        "        sequence_ids = tokenized_examples.sequence_ids(i)\n",
        "        context_index = 1 if pad_on_right else 0\n",
        "\n",
        "        # One example can give several spans, this is the index of the example containing this span of text.\n",
        "        sample_index = sample_mapping[i]\n",
        "        tokenized_examples[\"example_id\"].append(examples[\"id\"][sample_index])\n",
        "\n",
        "        # Set to None the offset_mapping that are not part of the context so it's easy to determine if a token\n",
        "        # position is part of the context or not.\n",
        "        tokenized_examples[\"offset_mapping\"][i] = [\n",
        "            (o if sequence_ids[k] == context_index else None)\n",
        "            for k, o in enumerate(tokenized_examples[\"offset_mapping\"][i])\n",
        "        ]\n",
        "\n",
        "    return tokenized_examples"
      ],
      "metadata": {
        "id": "udAv3Ot6y71a"
      },
      "execution_count": null,
      "outputs": []
    },
    {
      "cell_type": "code",
      "source": [
        "validation_features = dev_dataset.map(\n",
        "    prepare_validation_features,\n",
        "    batched=True,\n",
        "    remove_columns=dev_dataset.column_names\n",
        ")"
      ],
      "metadata": {
        "colab": {
          "base_uri": "https://localhost:8080/",
          "height": 49,
          "referenced_widgets": [
            "1a54e683dc8a4090a46688cfc5a48d6d",
            "9591082a493542a39698ed993c8caade",
            "f736681bf3954568aed6afbf9b1b98ad",
            "9ba2e06b36334a96b7bee5b236c062a3",
            "c9c21778a8424721a22e72f3130c128b",
            "1eff2f5330a6428c8afab90e6d9880fc",
            "68835cd181ad4809a20d9253f9da0fe8",
            "3c6d6efb85cf4db7b7772ca298705ce2",
            "86e0ec84887e4a978905d33f4deaab71",
            "d2ad8575d0024418ba468a426fc24266",
            "fcd06347ac70455bafaa4f16414edc18"
          ]
        },
        "id": "opskRwAJzAbj",
        "outputId": "7229f619-5912-47e5-874e-b1482344d5d5"
      },
      "execution_count": null,
      "outputs": [
        {
          "output_type": "display_data",
          "data": {
            "text/plain": [
              "  0%|          | 0/3 [00:00<?, ?ba/s]"
            ],
            "application/vnd.jupyter.widget-view+json": {
              "version_major": 2,
              "version_minor": 0,
              "model_id": "1a54e683dc8a4090a46688cfc5a48d6d"
            }
          },
          "metadata": {}
        }
      ]
    },
    {
      "cell_type": "code",
      "source": [
        "raw_predictions = trainer.predict(validation_features)"
      ],
      "metadata": {
        "colab": {
          "base_uri": "https://localhost:8080/",
          "height": 114
        },
        "id": "SPhxaB4W0A9p",
        "outputId": "f42172f2-ed8b-43d8-c0f7-38a189d5be6d"
      },
      "execution_count": null,
      "outputs": [
        {
          "output_type": "stream",
          "name": "stderr",
          "text": [
            "The following columns in the test set don't have a corresponding argument in `BigBirdForQuestionAnswering.forward` and have been ignored: example_id, offset_mapping. If example_id, offset_mapping are not expected by `BigBirdForQuestionAnswering.forward`,  you can safely ignore this message.\n",
            "***** Running Prediction *****\n",
            "  Num examples = 2442\n",
            "  Batch size = 16\n"
          ]
        },
        {
          "output_type": "display_data",
          "data": {
            "text/plain": [
              "<IPython.core.display.HTML object>"
            ],
            "text/html": []
          },
          "metadata": {}
        }
      ]
    },
    {
      "cell_type": "code",
      "source": [
        "with open(f'output/raw_predictions-{args.name}-finetuned-klue.pkl', 'wb') as fd:\n",
        "    pickle.dump(raw_predictions, fd)"
      ],
      "metadata": {
        "id": "sETIkKvxQQyx"
      },
      "execution_count": null,
      "outputs": []
    },
    {
      "cell_type": "markdown",
      "source": [
        "## Postprocessing"
      ],
      "metadata": {
        "id": "FEAkIiboCaq_"
      }
    },
    {
      "cell_type": "code",
      "source": [
        "def postprocess_qa_predictions(examples, features, raw_predictions, n_best_size = 20, max_answer_length = 30):\n",
        "    all_start_logits, all_end_logits = raw_predictions\n",
        "    # Build a map example to its corresponding features.\n",
        "    example_id_to_index = {k: i for i, k in enumerate(examples[\"id\"])}\n",
        "    features_per_example = defaultdict(list)\n",
        "    for i, feature in enumerate(features):\n",
        "        features_per_example[example_id_to_index[feature[\"example_id\"]]].append(i)\n",
        "\n",
        "    # The dictionaries we have to fill.\n",
        "    predictions = OrderedDict()\n",
        "\n",
        "    # Logging.\n",
        "    print(f\"Post-processing {len(examples)} example predictions split into {len(features)} features.\")\n",
        "\n",
        "    # Let's loop over all the examples!\n",
        "    for example_index, example in enumerate(tqdm(examples)):\n",
        "        # Those are the indices of the features associated to the current example.\n",
        "        feature_indices = features_per_example[example_index]\n",
        "\n",
        "        min_null_score = None # Only used if squad_v2 is True.\n",
        "        valid_answers = []\n",
        "        \n",
        "        context = example[\"context\"]\n",
        "        # Looping through all the features associated to the current example.\n",
        "        for feature_index in feature_indices:\n",
        "            # We grab the predictions of the model for this feature.\n",
        "            start_logits = all_start_logits[feature_index]\n",
        "            end_logits = all_end_logits[feature_index]\n",
        "            # This is what will allow us to map some the positions in our logits to span of texts in the original\n",
        "            # context.\n",
        "            offset_mapping = features[feature_index][\"offset_mapping\"]\n",
        "\n",
        "            # Update minimum null prediction.\n",
        "            cls_index = features[feature_index][\"input_ids\"].index(tokenizer.cls_token_id)\n",
        "            feature_null_score = start_logits[cls_index] + end_logits[cls_index]\n",
        "            if min_null_score is None or min_null_score < feature_null_score:\n",
        "                min_null_score = feature_null_score\n",
        "\n",
        "            # Go through all possibilities for the `n_best_size` greater start and end logits.\n",
        "            start_indexes = np.argsort(start_logits)[-1 : -n_best_size - 1 : -1].tolist()\n",
        "            end_indexes = np.argsort(end_logits)[-1 : -n_best_size - 1 : -1].tolist()\n",
        "            for start_index in start_indexes:\n",
        "                for end_index in end_indexes:\n",
        "                    # Don't consider out-of-scope answers, either because the indices are out of bounds or correspond\n",
        "                    # to part of the input_ids that are not in the context.\n",
        "                    if (\n",
        "                        start_index >= len(offset_mapping)\n",
        "                        or end_index >= len(offset_mapping)\n",
        "                        or offset_mapping[start_index] is None\n",
        "                        or offset_mapping[end_index] is None\n",
        "                    ):\n",
        "                        continue\n",
        "                    # Don't consider answers with a length that is either < 0 or > max_answer_length.\n",
        "                    if end_index < start_index or end_index - start_index + 1 > max_answer_length:\n",
        "                        continue\n",
        "\n",
        "                    start_char = offset_mapping[start_index][0]\n",
        "                    end_char = offset_mapping[end_index][1]\n",
        "                    valid_answers.append(\n",
        "                        {\n",
        "                            \"score\": start_logits[start_index] + end_logits[end_index],\n",
        "                            \"text\": context[start_char: end_char]\n",
        "                        }\n",
        "                    )\n",
        "        \n",
        "        if len(valid_answers) > 0:\n",
        "            best_answer = sorted(valid_answers, key=lambda x: x[\"score\"], reverse=True)[0]\n",
        "        else:\n",
        "            # In the very rare edge case we have not a single non-null prediction, we create a fake prediction to avoid\n",
        "            # failure.\n",
        "            best_answer = {\"text\": \"\", \"score\": 0.0}\n",
        "        \n",
        "        # Let's pick our final answer: the best one or the null answer (only for squad_v2)\n",
        "        if not squad_v2:\n",
        "            predictions[example[\"id\"]] = best_answer[\"text\"]\n",
        "        else:\n",
        "            answer = best_answer[\"text\"] if best_answer[\"score\"] > min_null_score else \"\"\n",
        "            predictions[example[\"id\"]] = answer\n",
        "\n",
        "    return predictions"
      ],
      "metadata": {
        "id": "BhaYcRwOCc91"
      },
      "execution_count": null,
      "outputs": []
    },
    {
      "cell_type": "code",
      "source": [
        "squad_v2 = False\n",
        "\n",
        "print(args.n_best_size)\n",
        "print(args.max_answer_length)"
      ],
      "metadata": {
        "id": "iT1PagzFD8_X",
        "colab": {
          "base_uri": "https://localhost:8080/"
        },
        "outputId": "542d135d-6338-4d82-93ad-51e0439d5490"
      },
      "execution_count": null,
      "outputs": [
        {
          "output_type": "stream",
          "name": "stdout",
          "text": [
            "10\n",
            "10\n"
          ]
        }
      ]
    },
    {
      "cell_type": "code",
      "source": [
        "final_predictions = postprocess_qa_predictions(dev_dataset, validation_features, raw_predictions.predictions, n_best_size = args.n_best_size, max_answer_length = args.max_answer_length)"
      ],
      "metadata": {
        "id": "Pz0X2xx9CWdk"
      },
      "execution_count": null,
      "outputs": []
    },
    {
      "cell_type": "markdown",
      "source": [
        "## Evaluation"
      ],
      "metadata": {
        "id": "qdSg7hWXJfZ-"
      }
    },
    {
      "cell_type": "code",
      "source": [
        "metric = load_metric(\"squad_v2\" if squad_v2 else \"squad\")"
      ],
      "metadata": {
        "id": "bmMcsCLmCUIc"
      },
      "execution_count": null,
      "outputs": []
    },
    {
      "cell_type": "code",
      "source": [
        "if squad_v2:\n",
        "    formatted_predictions = [{\"id\": k, \"prediction_text\": v, \"no_answer_probability\": 0.0} for k, v in final_predictions.items()]\n",
        "else:\n",
        "    formatted_predictions = [{\"id\": k, \"prediction_text\": v} for k, v in final_predictions.items()]\n",
        "references = [{\"id\": ex[\"id\"], \"answers\": ex[\"answers\"]} for ex in dev_dataset]\n",
        "metric.compute(predictions=formatted_predictions, references=references)"
      ],
      "metadata": {
        "id": "WANC2bfLCPj4"
      },
      "execution_count": null,
      "outputs": []
    },
    {
      "cell_type": "code",
      "source": [
        "predictions_text = pd.DataFrame.from_dict(formatted_predictions)['prediction_text']\n",
        "references_text = pd.DataFrame.from_dict(references)['answers'].map(lambda x: x['text'][0])\n",
        "distances = []\n",
        "\n",
        "for i, k in zip(predictions_text, references_text):\n",
        "    distances.append(distance(i, k))\n",
        "\n",
        "print(np.mean(distances))"
      ],
      "metadata": {
        "colab": {
          "base_uri": "https://localhost:8080/"
        },
        "id": "nFwq1wBWM0X3",
        "outputId": "a26f2baa-56f6-4035-d33b-0af45b5023d3"
      },
      "execution_count": null,
      "outputs": [
        {
          "output_type": "stream",
          "name": "stdout",
          "text": [
            "1.5882841711674283\n"
          ]
        }
      ]
    },
    {
      "cell_type": "markdown",
      "source": [
        "## Error analysis"
      ],
      "metadata": {
        "id": "obMgbCI-JNRB"
      }
    },
    {
      "cell_type": "code",
      "source": [
        "dev_df['predictions_text'] = list(predictions_text)\n",
        "dev_df['distance'] = distances"
      ],
      "metadata": {
        "id": "D3TehE3ZG1gg"
      },
      "execution_count": null,
      "outputs": []
    },
    {
      "cell_type": "code",
      "source": [
        "distance_threshold = 10\n",
        "\n",
        "mask = dev_df.distance >= distance_threshold\n",
        "dev_df_error = dev_df.loc[mask, :]\n",
        "\n",
        "dev_df_error"
      ],
      "metadata": {
        "colab": {
          "base_uri": "https://localhost:8080/",
          "height": 641
        },
        "id": "cK35D4gsFrH5",
        "outputId": "a2909e2a-404e-434b-d3ca-ee226866a9b4"
      },
      "execution_count": null,
      "outputs": [
        {
          "output_type": "execute_result",
          "data": {
            "text/plain": [
              "                                     id  \\\n",
              "5      8d0e83b1227748fe94aabf5600f62f3b   \n",
              "13     00a98de27a63414d9af4713431daa51c   \n",
              "666    a19dca75831448248f2c25e091551aa4   \n",
              "707    ba37e78d712d41bf946a1ed6f162a4ad   \n",
              "717    de4a35439ea14b89b1e548892e16e483   \n",
              "...                                 ...   \n",
              "11837  de4562062fcd492bbb40d71f40cf31ec   \n",
              "11890  875e86bcb89a48d595f9326c42f7dbbd   \n",
              "11973  82ce283b320a4685a21a8fc9daec88b0   \n",
              "12012  844ecad528494dc3876bab263abde6d2   \n",
              "12020  57d6bcb225934bae9c85c62521c4926a   \n",
              "\n",
              "                                                 answers  \\\n",
              "5       {'answer_start': [661], 'text': ['환경오염이 심한 지역']}   \n",
              "13               {'answer_start': [119], 'text': ['TV']}   \n",
              "666    {'answer_start': [899], 'text': ['Monster Movi...   \n",
              "707              {'answer_start': [775], 'text': ['일본']}   \n",
              "717            {'answer_start': [124], 'text': ['진료과장']}   \n",
              "...                                                  ...   \n",
              "11837   {'answer_start': [453], 'text': ['일개미들이 가져온 잎']}   \n",
              "11890   {'answer_start': [754], 'text': ['카이스트 AI 대학원']}   \n",
              "11973           {'answer_start': [757], 'text': ['500']}   \n",
              "12012            {'answer_start': [582], 'text': ['맥주']}   \n",
              "12020  {'answer_start': [365], 'text': ['징역 또는 금고의 형을...   \n",
              "\n",
              "                                                 context  \\\n",
              "5      “앞으로 5년 안에 아시아 친환경·신재생에너지 투자의 황금기가 도래할 것입니다.”기...   \n",
              "13     삼성전자가 경영난을 겪고 있는 일본 샤프에 출자해 지분 3%를 확보한다. 일본에서 ...   \n",
              "666    캔의 뿌리는 이르민 슈미트 의 1966년 뉴욕 여행에서 시작되었다. 슈미트는 스티브...   \n",
              "707    “일본 철강업체들의 텃밭인 태국에서 가동 3년 만에 흑자를 일궈냈습니다.”지난 17...   \n",
              "717    대림성모병원(병원장 김성원)은 오는 29일 오후 3시부터 본관 12층 회의실에서 ‘...   \n",
              "...                                                  ...   \n",
              "11837  같은 가위개미인 에크로머멕스속과 닮은 점이 매우 많고 유전적으로도 유사하다. 보통의...   \n",
              "11890  인공지능 기업 슈퍼브에이아이가 한국정보통신기술협회(TTA)의 데이터 검사 사업자로 ...   \n",
              "11973  유닛8200은 의무복무(남자 3년, 여자 2년)를 해야 하는 이스라엘 젊은이들이 가...   \n",
              "12012  패스트파이브(공동대표 박지웅, 김대일)가 설립 2주년을 맞아 그 동안 성장 과정이 ...   \n",
              "12020  청와대는 26일 수감 중인 기업인 가석방 문제와 관련해 “(가석방 결정은) 법무부 ...   \n",
              "\n",
              "                                         question   predictions_text  distance  \n",
              "5                정부에게 환경과 관련해서 우선적으로 원조 받고 있는 곳은?                 중국        11  \n",
              "13     삼성전자가 이번 투자로 샤프에서 공급받으려는 부품은 어떤 가전제품의 것인가?  60인치 이상 대형 LCD TV        15  \n",
              "666                      Yoo Doo Right이 수록된 앨범명은?         Delay 1968        12  \n",
              "707                  태국인들은 어느 나라의 자동차를 가장 많이 타는가?   도요타와 혼다, 닛산 등 일본        14  \n",
              "717                 척추압박골절 건강강좌에서 강연을 하는 사람의 직책은?   척추신경외과 이승준 진료과장이        12  \n",
              "...                                           ...                ...       ...  \n",
              "11837                         아타속이 먹는 균이 길러지는 곳은?                  잎        10  \n",
              "11890               2020 NeurIPS에서 뽑힌 논문을 작성한 곳은?            슈퍼브에이아이        11  \n",
              "11973                    작년에 맥시밈에 참여하도록 뽑힌 인원 수는?    1400여명이 지원해 500        12  \n",
              "12012               패스트파이브에서 회원들이 공짜로 마실 수 있는 술은?      로스팅 커피와 수제 맥주        11  \n",
              "12020                         가석방 대상이 될 수 있는 자격은?             모범 수형자        32  \n",
              "\n",
              "[91 rows x 6 columns]"
            ],
            "text/html": [
              "\n",
              "  <div id=\"df-feac761b-baca-4b1c-8c47-a49f2a1d9200\">\n",
              "    <div class=\"colab-df-container\">\n",
              "      <div>\n",
              "<style scoped>\n",
              "    .dataframe tbody tr th:only-of-type {\n",
              "        vertical-align: middle;\n",
              "    }\n",
              "\n",
              "    .dataframe tbody tr th {\n",
              "        vertical-align: top;\n",
              "    }\n",
              "\n",
              "    .dataframe thead th {\n",
              "        text-align: right;\n",
              "    }\n",
              "</style>\n",
              "<table border=\"1\" class=\"dataframe\">\n",
              "  <thead>\n",
              "    <tr style=\"text-align: right;\">\n",
              "      <th></th>\n",
              "      <th>id</th>\n",
              "      <th>answers</th>\n",
              "      <th>context</th>\n",
              "      <th>question</th>\n",
              "      <th>predictions_text</th>\n",
              "      <th>distance</th>\n",
              "    </tr>\n",
              "  </thead>\n",
              "  <tbody>\n",
              "    <tr>\n",
              "      <th>5</th>\n",
              "      <td>8d0e83b1227748fe94aabf5600f62f3b</td>\n",
              "      <td>{'answer_start': [661], 'text': ['환경오염이 심한 지역']}</td>\n",
              "      <td>“앞으로 5년 안에 아시아 친환경·신재생에너지 투자의 황금기가 도래할 것입니다.”기...</td>\n",
              "      <td>정부에게 환경과 관련해서 우선적으로 원조 받고 있는 곳은?</td>\n",
              "      <td>중국</td>\n",
              "      <td>11</td>\n",
              "    </tr>\n",
              "    <tr>\n",
              "      <th>13</th>\n",
              "      <td>00a98de27a63414d9af4713431daa51c</td>\n",
              "      <td>{'answer_start': [119], 'text': ['TV']}</td>\n",
              "      <td>삼성전자가 경영난을 겪고 있는 일본 샤프에 출자해 지분 3%를 확보한다. 일본에서 ...</td>\n",
              "      <td>삼성전자가 이번 투자로 샤프에서 공급받으려는 부품은 어떤 가전제품의 것인가?</td>\n",
              "      <td>60인치 이상 대형 LCD TV</td>\n",
              "      <td>15</td>\n",
              "    </tr>\n",
              "    <tr>\n",
              "      <th>666</th>\n",
              "      <td>a19dca75831448248f2c25e091551aa4</td>\n",
              "      <td>{'answer_start': [899], 'text': ['Monster Movi...</td>\n",
              "      <td>캔의 뿌리는 이르민 슈미트 의 1966년 뉴욕 여행에서 시작되었다. 슈미트는 스티브...</td>\n",
              "      <td>Yoo Doo Right이 수록된 앨범명은?</td>\n",
              "      <td>Delay 1968</td>\n",
              "      <td>12</td>\n",
              "    </tr>\n",
              "    <tr>\n",
              "      <th>707</th>\n",
              "      <td>ba37e78d712d41bf946a1ed6f162a4ad</td>\n",
              "      <td>{'answer_start': [775], 'text': ['일본']}</td>\n",
              "      <td>“일본 철강업체들의 텃밭인 태국에서 가동 3년 만에 흑자를 일궈냈습니다.”지난 17...</td>\n",
              "      <td>태국인들은 어느 나라의 자동차를 가장 많이 타는가?</td>\n",
              "      <td>도요타와 혼다, 닛산 등 일본</td>\n",
              "      <td>14</td>\n",
              "    </tr>\n",
              "    <tr>\n",
              "      <th>717</th>\n",
              "      <td>de4a35439ea14b89b1e548892e16e483</td>\n",
              "      <td>{'answer_start': [124], 'text': ['진료과장']}</td>\n",
              "      <td>대림성모병원(병원장 김성원)은 오는 29일 오후 3시부터 본관 12층 회의실에서 ‘...</td>\n",
              "      <td>척추압박골절 건강강좌에서 강연을 하는 사람의 직책은?</td>\n",
              "      <td>척추신경외과 이승준 진료과장이</td>\n",
              "      <td>12</td>\n",
              "    </tr>\n",
              "    <tr>\n",
              "      <th>...</th>\n",
              "      <td>...</td>\n",
              "      <td>...</td>\n",
              "      <td>...</td>\n",
              "      <td>...</td>\n",
              "      <td>...</td>\n",
              "      <td>...</td>\n",
              "    </tr>\n",
              "    <tr>\n",
              "      <th>11837</th>\n",
              "      <td>de4562062fcd492bbb40d71f40cf31ec</td>\n",
              "      <td>{'answer_start': [453], 'text': ['일개미들이 가져온 잎']}</td>\n",
              "      <td>같은 가위개미인 에크로머멕스속과 닮은 점이 매우 많고 유전적으로도 유사하다. 보통의...</td>\n",
              "      <td>아타속이 먹는 균이 길러지는 곳은?</td>\n",
              "      <td>잎</td>\n",
              "      <td>10</td>\n",
              "    </tr>\n",
              "    <tr>\n",
              "      <th>11890</th>\n",
              "      <td>875e86bcb89a48d595f9326c42f7dbbd</td>\n",
              "      <td>{'answer_start': [754], 'text': ['카이스트 AI 대학원']}</td>\n",
              "      <td>인공지능 기업 슈퍼브에이아이가 한국정보통신기술협회(TTA)의 데이터 검사 사업자로 ...</td>\n",
              "      <td>2020 NeurIPS에서 뽑힌 논문을 작성한 곳은?</td>\n",
              "      <td>슈퍼브에이아이</td>\n",
              "      <td>11</td>\n",
              "    </tr>\n",
              "    <tr>\n",
              "      <th>11973</th>\n",
              "      <td>82ce283b320a4685a21a8fc9daec88b0</td>\n",
              "      <td>{'answer_start': [757], 'text': ['500']}</td>\n",
              "      <td>유닛8200은 의무복무(남자 3년, 여자 2년)를 해야 하는 이스라엘 젊은이들이 가...</td>\n",
              "      <td>작년에 맥시밈에 참여하도록 뽑힌 인원 수는?</td>\n",
              "      <td>1400여명이 지원해 500</td>\n",
              "      <td>12</td>\n",
              "    </tr>\n",
              "    <tr>\n",
              "      <th>12012</th>\n",
              "      <td>844ecad528494dc3876bab263abde6d2</td>\n",
              "      <td>{'answer_start': [582], 'text': ['맥주']}</td>\n",
              "      <td>패스트파이브(공동대표 박지웅, 김대일)가 설립 2주년을 맞아 그 동안 성장 과정이 ...</td>\n",
              "      <td>패스트파이브에서 회원들이 공짜로 마실 수 있는 술은?</td>\n",
              "      <td>로스팅 커피와 수제 맥주</td>\n",
              "      <td>11</td>\n",
              "    </tr>\n",
              "    <tr>\n",
              "      <th>12020</th>\n",
              "      <td>57d6bcb225934bae9c85c62521c4926a</td>\n",
              "      <td>{'answer_start': [365], 'text': ['징역 또는 금고의 형을...</td>\n",
              "      <td>청와대는 26일 수감 중인 기업인 가석방 문제와 관련해 “(가석방 결정은) 법무부 ...</td>\n",
              "      <td>가석방 대상이 될 수 있는 자격은?</td>\n",
              "      <td>모범 수형자</td>\n",
              "      <td>32</td>\n",
              "    </tr>\n",
              "  </tbody>\n",
              "</table>\n",
              "<p>91 rows × 6 columns</p>\n",
              "</div>\n",
              "      <button class=\"colab-df-convert\" onclick=\"convertToInteractive('df-feac761b-baca-4b1c-8c47-a49f2a1d9200')\"\n",
              "              title=\"Convert this dataframe to an interactive table.\"\n",
              "              style=\"display:none;\">\n",
              "        \n",
              "  <svg xmlns=\"http://www.w3.org/2000/svg\" height=\"24px\"viewBox=\"0 0 24 24\"\n",
              "       width=\"24px\">\n",
              "    <path d=\"M0 0h24v24H0V0z\" fill=\"none\"/>\n",
              "    <path d=\"M18.56 5.44l.94 2.06.94-2.06 2.06-.94-2.06-.94-.94-2.06-.94 2.06-2.06.94zm-11 1L8.5 8.5l.94-2.06 2.06-.94-2.06-.94L8.5 2.5l-.94 2.06-2.06.94zm10 10l.94 2.06.94-2.06 2.06-.94-2.06-.94-.94-2.06-.94 2.06-2.06.94z\"/><path d=\"M17.41 7.96l-1.37-1.37c-.4-.4-.92-.59-1.43-.59-.52 0-1.04.2-1.43.59L10.3 9.45l-7.72 7.72c-.78.78-.78 2.05 0 2.83L4 21.41c.39.39.9.59 1.41.59.51 0 1.02-.2 1.41-.59l7.78-7.78 2.81-2.81c.8-.78.8-2.07 0-2.86zM5.41 20L4 18.59l7.72-7.72 1.47 1.35L5.41 20z\"/>\n",
              "  </svg>\n",
              "      </button>\n",
              "      \n",
              "  <style>\n",
              "    .colab-df-container {\n",
              "      display:flex;\n",
              "      flex-wrap:wrap;\n",
              "      gap: 12px;\n",
              "    }\n",
              "\n",
              "    .colab-df-convert {\n",
              "      background-color: #E8F0FE;\n",
              "      border: none;\n",
              "      border-radius: 50%;\n",
              "      cursor: pointer;\n",
              "      display: none;\n",
              "      fill: #1967D2;\n",
              "      height: 32px;\n",
              "      padding: 0 0 0 0;\n",
              "      width: 32px;\n",
              "    }\n",
              "\n",
              "    .colab-df-convert:hover {\n",
              "      background-color: #E2EBFA;\n",
              "      box-shadow: 0px 1px 2px rgba(60, 64, 67, 0.3), 0px 1px 3px 1px rgba(60, 64, 67, 0.15);\n",
              "      fill: #174EA6;\n",
              "    }\n",
              "\n",
              "    [theme=dark] .colab-df-convert {\n",
              "      background-color: #3B4455;\n",
              "      fill: #D2E3FC;\n",
              "    }\n",
              "\n",
              "    [theme=dark] .colab-df-convert:hover {\n",
              "      background-color: #434B5C;\n",
              "      box-shadow: 0px 1px 3px 1px rgba(0, 0, 0, 0.15);\n",
              "      filter: drop-shadow(0px 1px 2px rgba(0, 0, 0, 0.3));\n",
              "      fill: #FFFFFF;\n",
              "    }\n",
              "  </style>\n",
              "\n",
              "      <script>\n",
              "        const buttonEl =\n",
              "          document.querySelector('#df-feac761b-baca-4b1c-8c47-a49f2a1d9200 button.colab-df-convert');\n",
              "        buttonEl.style.display =\n",
              "          google.colab.kernel.accessAllowed ? 'block' : 'none';\n",
              "\n",
              "        async function convertToInteractive(key) {\n",
              "          const element = document.querySelector('#df-feac761b-baca-4b1c-8c47-a49f2a1d9200');\n",
              "          const dataTable =\n",
              "            await google.colab.kernel.invokeFunction('convertToInteractive',\n",
              "                                                     [key], {});\n",
              "          if (!dataTable) return;\n",
              "\n",
              "          const docLinkHtml = 'Like what you see? Visit the ' +\n",
              "            '<a target=\"_blank\" href=https://colab.research.google.com/notebooks/data_table.ipynb>data table notebook</a>'\n",
              "            + ' to learn more about interactive tables.';\n",
              "          element.innerHTML = '';\n",
              "          dataTable['output_type'] = 'display_data';\n",
              "          await google.colab.output.renderOutput(dataTable, element);\n",
              "          const docLink = document.createElement('div');\n",
              "          docLink.innerHTML = docLinkHtml;\n",
              "          element.appendChild(docLink);\n",
              "        }\n",
              "      </script>\n",
              "    </div>\n",
              "  </div>\n",
              "  "
            ]
          },
          "metadata": {},
          "execution_count": 74
        }
      ]
    },
    {
      "cell_type": "code",
      "source": [
        "dev_df_error.to_csv(f\"output/error_case-{args.name}.csv\", index=False)"
      ],
      "metadata": {
        "id": "3r-UhufVIisB"
      },
      "execution_count": null,
      "outputs": []
    },
    {
      "cell_type": "markdown",
      "source": [
        "# 4️⃣ Submission"
      ],
      "metadata": {
        "id": "-RjjFC7BzT9d"
      }
    },
    {
      "cell_type": "code",
      "source": [
        "def read_test(path):\n",
        "    path = Path(path)\n",
        "    with open(path, 'rb') as f:\n",
        "        data = json.load(f)\n",
        "\n",
        "    ids = []\n",
        "    contexts = []\n",
        "    questions = []\n",
        "    answers = []\n",
        "    for group in data['data']:\n",
        "        for passage in group['paragraphs']:\n",
        "            context = passage['context']\n",
        "            for qa in passage['qas']:\n",
        "                id = qa[\"guid\"]\n",
        "                question = qa['question']\n",
        "                answer = qa['answers']\n",
        "                contexts.append(context)\n",
        "                questions.append(question)\n",
        "                answers.append(answer)\n",
        "                ids.append(id)\n",
        "\n",
        "    return ids, contexts, questions, answers"
      ],
      "metadata": {
        "id": "NRtZfcbn-d0v"
      },
      "execution_count": null,
      "outputs": []
    },
    {
      "cell_type": "code",
      "source": [
        "file_path =  'input/test.json'\n",
        "\n",
        "ids, contexts, questions, answers = read_test(file_path)\n",
        "\n",
        "test_df = pd.DataFrame(\n",
        "    list(zip(ids , answers, contexts, questions)),\n",
        "    columns =['id','answers', 'context','question'])\n",
        "test_df"
      ],
      "metadata": {
        "id": "o3y9PoRQ-qrT"
      },
      "execution_count": null,
      "outputs": []
    },
    {
      "cell_type": "code",
      "source": [
        "test_dataset = Dataset.from_pandas(test_df)\n",
        "print(\"Number of Test Samples:\", len(test_dataset))"
      ],
      "metadata": {
        "colab": {
          "base_uri": "https://localhost:8080/"
        },
        "id": "gjbD4eCV-00D",
        "outputId": "0aa75eaa-65fb-4b99-8ab2-8acf566edd7f"
      },
      "execution_count": null,
      "outputs": [
        {
          "output_type": "stream",
          "name": "stdout",
          "text": [
            "Number of Test Samples: 4008\n"
          ]
        }
      ]
    },
    {
      "cell_type": "code",
      "source": [
        "test_features = test_dataset.map(\n",
        "    prepare_validation_features,\n",
        "    batched=True,\n",
        "    remove_columns=test_dataset.column_names\n",
        ")"
      ],
      "metadata": {
        "colab": {
          "base_uri": "https://localhost:8080/",
          "height": 49,
          "referenced_widgets": [
            "b75a6e2230294b91a461ab08035a495c",
            "2d950ab68f7c453ea93cb69129009886",
            "371f365e4f2b465bb02fca269e5a8e2c",
            "49b87f4b324846a7919f13e6ec218346",
            "d20d71cbb68e4260bd85fb2a297ba77f",
            "9ad301db8e234ed1a50f16039e4b515a",
            "630cedd0fe37427fb4aeeee70cfdf4e3",
            "60822ba6f8364299b7c9da0e12d2f17d",
            "a6f963c2950f421a8284c3a2768aa7ed",
            "c6cc5e36468e420492a1e4411841e483",
            "4f9921b8ccbb4efaac58667f2abc7a5a"
          ]
        },
        "id": "oH3E8607ISCY",
        "outputId": "a3e17e12-0945-4da5-aa17-6ea5e2dcc7b0"
      },
      "execution_count": null,
      "outputs": [
        {
          "output_type": "display_data",
          "data": {
            "text/plain": [
              "  0%|          | 0/5 [00:00<?, ?ba/s]"
            ],
            "application/vnd.jupyter.widget-view+json": {
              "version_major": 2,
              "version_minor": 0,
              "model_id": "b75a6e2230294b91a461ab08035a495c"
            }
          },
          "metadata": {}
        }
      ]
    },
    {
      "cell_type": "code",
      "source": [
        "test_raw_predictions = trainer.predict(test_features)"
      ],
      "metadata": {
        "colab": {
          "base_uri": "https://localhost:8080/",
          "height": 114
        },
        "id": "B6-N7IfjIJNR",
        "outputId": "13d6d00b-8076-4d95-e4bc-98fa3c301fc8"
      },
      "execution_count": null,
      "outputs": [
        {
          "output_type": "stream",
          "name": "stderr",
          "text": [
            "The following columns in the test set don't have a corresponding argument in `BigBirdForQuestionAnswering.forward` and have been ignored: example_id, offset_mapping. If example_id, offset_mapping are not expected by `BigBirdForQuestionAnswering.forward`,  you can safely ignore this message.\n",
            "***** Running Prediction *****\n",
            "  Num examples = 4073\n",
            "  Batch size = 16\n"
          ]
        },
        {
          "output_type": "display_data",
          "data": {
            "text/plain": [
              "<IPython.core.display.HTML object>"
            ],
            "text/html": []
          },
          "metadata": {}
        }
      ]
    },
    {
      "cell_type": "code",
      "source": [
        "with open(f'output/test_raw_predictions-{args.name}-finetuned-klue.pkl', 'wb') as fd:\n",
        "    pickle.dump(test_raw_predictions, fd)"
      ],
      "metadata": {
        "id": "cMdn6HeoDL1s"
      },
      "execution_count": null,
      "outputs": []
    },
    {
      "cell_type": "code",
      "source": [
        "test_final_predictions = postprocess_qa_predictions(test_dataset, test_features, test_raw_predictions.predictions, n_best_size = args.n_best_size, max_answer_length = args.max_answer_length)"
      ],
      "metadata": {
        "id": "Errr0aKMIyOg"
      },
      "execution_count": null,
      "outputs": []
    },
    {
      "cell_type": "code",
      "source": [
        "test_formatted_predictions = [{\"Id\": k, \"Predicted\": v} for k, v in test_final_predictions.items()]"
      ],
      "metadata": {
        "id": "xi_SD06lJLAS"
      },
      "execution_count": null,
      "outputs": []
    },
    {
      "cell_type": "code",
      "source": [
        "pd.DataFrame.from_dict(test_formatted_predictions)"
      ],
      "metadata": {
        "colab": {
          "base_uri": "https://localhost:8080/",
          "height": 423
        },
        "id": "FfQB9bTUKlsk",
        "outputId": "fb10d376-e8b1-4260-c0c4-d43bc11ec8ad"
      },
      "execution_count": null,
      "outputs": [
        {
          "output_type": "execute_result",
          "data": {
            "text/plain": [
              "                                    Id      Predicted\n",
              "0     d14cb73158624cf094c546d856fd3c80        뉴 740Li\n",
              "1     906631384e91493ebe1c7f34aea6f241      독일 뒤셀도르프로\n",
              "2     35e61dcb479643448a2cb7d326ae50a6     링크트인과 페이스북\n",
              "3     075e761b370040cb9041eecd39afc27c     링크트인과 페이스북\n",
              "4     e67ed38f3dd944be94d5b4c53731f334           마드리드\n",
              "...                                ...            ...\n",
              "4003  05fcb8054dc44dab8683579c2cf5e465  400만엔에서 200만엔\n",
              "4004  cc7f826b66724ce9b39e3a974ca15661             중동\n",
              "4005  3282034aa41e4fab980851ffd4a868dd         아시아~유럽\n",
              "4006  0a73550b36df4baf82ac2f98619d22e7            10일\n",
              "4007  dfe6ef25f84f461e89e54d370e4521d5        벨기에 브뤼셀\n",
              "\n",
              "[4008 rows x 2 columns]"
            ],
            "text/html": [
              "\n",
              "  <div id=\"df-23a3c6a5-e1a5-4c69-96e6-b85d5647fd9e\">\n",
              "    <div class=\"colab-df-container\">\n",
              "      <div>\n",
              "<style scoped>\n",
              "    .dataframe tbody tr th:only-of-type {\n",
              "        vertical-align: middle;\n",
              "    }\n",
              "\n",
              "    .dataframe tbody tr th {\n",
              "        vertical-align: top;\n",
              "    }\n",
              "\n",
              "    .dataframe thead th {\n",
              "        text-align: right;\n",
              "    }\n",
              "</style>\n",
              "<table border=\"1\" class=\"dataframe\">\n",
              "  <thead>\n",
              "    <tr style=\"text-align: right;\">\n",
              "      <th></th>\n",
              "      <th>Id</th>\n",
              "      <th>Predicted</th>\n",
              "    </tr>\n",
              "  </thead>\n",
              "  <tbody>\n",
              "    <tr>\n",
              "      <th>0</th>\n",
              "      <td>d14cb73158624cf094c546d856fd3c80</td>\n",
              "      <td>뉴 740Li</td>\n",
              "    </tr>\n",
              "    <tr>\n",
              "      <th>1</th>\n",
              "      <td>906631384e91493ebe1c7f34aea6f241</td>\n",
              "      <td>독일 뒤셀도르프로</td>\n",
              "    </tr>\n",
              "    <tr>\n",
              "      <th>2</th>\n",
              "      <td>35e61dcb479643448a2cb7d326ae50a6</td>\n",
              "      <td>링크트인과 페이스북</td>\n",
              "    </tr>\n",
              "    <tr>\n",
              "      <th>3</th>\n",
              "      <td>075e761b370040cb9041eecd39afc27c</td>\n",
              "      <td>링크트인과 페이스북</td>\n",
              "    </tr>\n",
              "    <tr>\n",
              "      <th>4</th>\n",
              "      <td>e67ed38f3dd944be94d5b4c53731f334</td>\n",
              "      <td>마드리드</td>\n",
              "    </tr>\n",
              "    <tr>\n",
              "      <th>...</th>\n",
              "      <td>...</td>\n",
              "      <td>...</td>\n",
              "    </tr>\n",
              "    <tr>\n",
              "      <th>4003</th>\n",
              "      <td>05fcb8054dc44dab8683579c2cf5e465</td>\n",
              "      <td>400만엔에서 200만엔</td>\n",
              "    </tr>\n",
              "    <tr>\n",
              "      <th>4004</th>\n",
              "      <td>cc7f826b66724ce9b39e3a974ca15661</td>\n",
              "      <td>중동</td>\n",
              "    </tr>\n",
              "    <tr>\n",
              "      <th>4005</th>\n",
              "      <td>3282034aa41e4fab980851ffd4a868dd</td>\n",
              "      <td>아시아~유럽</td>\n",
              "    </tr>\n",
              "    <tr>\n",
              "      <th>4006</th>\n",
              "      <td>0a73550b36df4baf82ac2f98619d22e7</td>\n",
              "      <td>10일</td>\n",
              "    </tr>\n",
              "    <tr>\n",
              "      <th>4007</th>\n",
              "      <td>dfe6ef25f84f461e89e54d370e4521d5</td>\n",
              "      <td>벨기에 브뤼셀</td>\n",
              "    </tr>\n",
              "  </tbody>\n",
              "</table>\n",
              "<p>4008 rows × 2 columns</p>\n",
              "</div>\n",
              "      <button class=\"colab-df-convert\" onclick=\"convertToInteractive('df-23a3c6a5-e1a5-4c69-96e6-b85d5647fd9e')\"\n",
              "              title=\"Convert this dataframe to an interactive table.\"\n",
              "              style=\"display:none;\">\n",
              "        \n",
              "  <svg xmlns=\"http://www.w3.org/2000/svg\" height=\"24px\"viewBox=\"0 0 24 24\"\n",
              "       width=\"24px\">\n",
              "    <path d=\"M0 0h24v24H0V0z\" fill=\"none\"/>\n",
              "    <path d=\"M18.56 5.44l.94 2.06.94-2.06 2.06-.94-2.06-.94-.94-2.06-.94 2.06-2.06.94zm-11 1L8.5 8.5l.94-2.06 2.06-.94-2.06-.94L8.5 2.5l-.94 2.06-2.06.94zm10 10l.94 2.06.94-2.06 2.06-.94-2.06-.94-.94-2.06-.94 2.06-2.06.94z\"/><path d=\"M17.41 7.96l-1.37-1.37c-.4-.4-.92-.59-1.43-.59-.52 0-1.04.2-1.43.59L10.3 9.45l-7.72 7.72c-.78.78-.78 2.05 0 2.83L4 21.41c.39.39.9.59 1.41.59.51 0 1.02-.2 1.41-.59l7.78-7.78 2.81-2.81c.8-.78.8-2.07 0-2.86zM5.41 20L4 18.59l7.72-7.72 1.47 1.35L5.41 20z\"/>\n",
              "  </svg>\n",
              "      </button>\n",
              "      \n",
              "  <style>\n",
              "    .colab-df-container {\n",
              "      display:flex;\n",
              "      flex-wrap:wrap;\n",
              "      gap: 12px;\n",
              "    }\n",
              "\n",
              "    .colab-df-convert {\n",
              "      background-color: #E8F0FE;\n",
              "      border: none;\n",
              "      border-radius: 50%;\n",
              "      cursor: pointer;\n",
              "      display: none;\n",
              "      fill: #1967D2;\n",
              "      height: 32px;\n",
              "      padding: 0 0 0 0;\n",
              "      width: 32px;\n",
              "    }\n",
              "\n",
              "    .colab-df-convert:hover {\n",
              "      background-color: #E2EBFA;\n",
              "      box-shadow: 0px 1px 2px rgba(60, 64, 67, 0.3), 0px 1px 3px 1px rgba(60, 64, 67, 0.15);\n",
              "      fill: #174EA6;\n",
              "    }\n",
              "\n",
              "    [theme=dark] .colab-df-convert {\n",
              "      background-color: #3B4455;\n",
              "      fill: #D2E3FC;\n",
              "    }\n",
              "\n",
              "    [theme=dark] .colab-df-convert:hover {\n",
              "      background-color: #434B5C;\n",
              "      box-shadow: 0px 1px 3px 1px rgba(0, 0, 0, 0.15);\n",
              "      filter: drop-shadow(0px 1px 2px rgba(0, 0, 0, 0.3));\n",
              "      fill: #FFFFFF;\n",
              "    }\n",
              "  </style>\n",
              "\n",
              "      <script>\n",
              "        const buttonEl =\n",
              "          document.querySelector('#df-23a3c6a5-e1a5-4c69-96e6-b85d5647fd9e button.colab-df-convert');\n",
              "        buttonEl.style.display =\n",
              "          google.colab.kernel.accessAllowed ? 'block' : 'none';\n",
              "\n",
              "        async function convertToInteractive(key) {\n",
              "          const element = document.querySelector('#df-23a3c6a5-e1a5-4c69-96e6-b85d5647fd9e');\n",
              "          const dataTable =\n",
              "            await google.colab.kernel.invokeFunction('convertToInteractive',\n",
              "                                                     [key], {});\n",
              "          if (!dataTable) return;\n",
              "\n",
              "          const docLinkHtml = 'Like what you see? Visit the ' +\n",
              "            '<a target=\"_blank\" href=https://colab.research.google.com/notebooks/data_table.ipynb>data table notebook</a>'\n",
              "            + ' to learn more about interactive tables.';\n",
              "          element.innerHTML = '';\n",
              "          dataTable['output_type'] = 'display_data';\n",
              "          await google.colab.output.renderOutput(dataTable, element);\n",
              "          const docLink = document.createElement('div');\n",
              "          docLink.innerHTML = docLinkHtml;\n",
              "          element.appendChild(docLink);\n",
              "        }\n",
              "      </script>\n",
              "    </div>\n",
              "  </div>\n",
              "  "
            ]
          },
          "metadata": {},
          "execution_count": 75
        }
      ]
    },
    {
      "cell_type": "code",
      "source": [
        "df = pd.DataFrame.from_dict(test_formatted_predictions)\n",
        "\n",
        "os.makedirs('output', exist_ok=True)\n",
        "df.to_csv(f'output/submission-{args.name}.csv', index = False, header=True)"
      ],
      "metadata": {
        "id": "KQDULuHVKQB6"
      },
      "execution_count": null,
      "outputs": []
    },
    {
      "cell_type": "code",
      "source": [
        "pd.read_csv('input/baseline.csv')"
      ],
      "metadata": {
        "id": "CxLtGwZlL0uo"
      },
      "execution_count": null,
      "outputs": []
    },
    {
      "cell_type": "code",
      "source": [
        "pd.read_csv(f'output/submission-{args.name}.csv')"
      ],
      "metadata": {
        "colab": {
          "base_uri": "https://localhost:8080/",
          "height": 423
        },
        "id": "OJbsxABuLikT",
        "outputId": "0c7c4025-f16e-4136-cdb8-9eaf1616f5bf"
      },
      "execution_count": null,
      "outputs": [
        {
          "data": {
            "text/html": [
              "\n",
              "  <div id=\"df-e0706e3a-5710-48ad-9ea9-5680fc1eeef5\">\n",
              "    <div class=\"colab-df-container\">\n",
              "      <div>\n",
              "<style scoped>\n",
              "    .dataframe tbody tr th:only-of-type {\n",
              "        vertical-align: middle;\n",
              "    }\n",
              "\n",
              "    .dataframe tbody tr th {\n",
              "        vertical-align: top;\n",
              "    }\n",
              "\n",
              "    .dataframe thead th {\n",
              "        text-align: right;\n",
              "    }\n",
              "</style>\n",
              "<table border=\"1\" class=\"dataframe\">\n",
              "  <thead>\n",
              "    <tr style=\"text-align: right;\">\n",
              "      <th></th>\n",
              "      <th>Id</th>\n",
              "      <th>Predicted</th>\n",
              "    </tr>\n",
              "  </thead>\n",
              "  <tbody>\n",
              "    <tr>\n",
              "      <th>0</th>\n",
              "      <td>d14cb73158624cf094c546d856fd3c80</td>\n",
              "      <td>뉴 740Li</td>\n",
              "    </tr>\n",
              "    <tr>\n",
              "      <th>1</th>\n",
              "      <td>906631384e91493ebe1c7f34aea6f241</td>\n",
              "      <td>독일 뒤셀도르프로</td>\n",
              "    </tr>\n",
              "    <tr>\n",
              "      <th>2</th>\n",
              "      <td>35e61dcb479643448a2cb7d326ae50a6</td>\n",
              "      <td>링크트인과 페이스북</td>\n",
              "    </tr>\n",
              "    <tr>\n",
              "      <th>3</th>\n",
              "      <td>075e761b370040cb9041eecd39afc27c</td>\n",
              "      <td>링크트인과 페이스북</td>\n",
              "    </tr>\n",
              "    <tr>\n",
              "      <th>4</th>\n",
              "      <td>e67ed38f3dd944be94d5b4c53731f334</td>\n",
              "      <td>마드리드</td>\n",
              "    </tr>\n",
              "    <tr>\n",
              "      <th>...</th>\n",
              "      <td>...</td>\n",
              "      <td>...</td>\n",
              "    </tr>\n",
              "    <tr>\n",
              "      <th>4003</th>\n",
              "      <td>05fcb8054dc44dab8683579c2cf5e465</td>\n",
              "      <td>400만엔에서 200만엔</td>\n",
              "    </tr>\n",
              "    <tr>\n",
              "      <th>4004</th>\n",
              "      <td>cc7f826b66724ce9b39e3a974ca15661</td>\n",
              "      <td>중동</td>\n",
              "    </tr>\n",
              "    <tr>\n",
              "      <th>4005</th>\n",
              "      <td>3282034aa41e4fab980851ffd4a868dd</td>\n",
              "      <td>아시아~유럽</td>\n",
              "    </tr>\n",
              "    <tr>\n",
              "      <th>4006</th>\n",
              "      <td>0a73550b36df4baf82ac2f98619d22e7</td>\n",
              "      <td>10일</td>\n",
              "    </tr>\n",
              "    <tr>\n",
              "      <th>4007</th>\n",
              "      <td>dfe6ef25f84f461e89e54d370e4521d5</td>\n",
              "      <td>벨기에 브뤼셀</td>\n",
              "    </tr>\n",
              "  </tbody>\n",
              "</table>\n",
              "<p>4008 rows × 2 columns</p>\n",
              "</div>\n",
              "      <button class=\"colab-df-convert\" onclick=\"convertToInteractive('df-e0706e3a-5710-48ad-9ea9-5680fc1eeef5')\"\n",
              "              title=\"Convert this dataframe to an interactive table.\"\n",
              "              style=\"display:none;\">\n",
              "        \n",
              "  <svg xmlns=\"http://www.w3.org/2000/svg\" height=\"24px\"viewBox=\"0 0 24 24\"\n",
              "       width=\"24px\">\n",
              "    <path d=\"M0 0h24v24H0V0z\" fill=\"none\"/>\n",
              "    <path d=\"M18.56 5.44l.94 2.06.94-2.06 2.06-.94-2.06-.94-.94-2.06-.94 2.06-2.06.94zm-11 1L8.5 8.5l.94-2.06 2.06-.94-2.06-.94L8.5 2.5l-.94 2.06-2.06.94zm10 10l.94 2.06.94-2.06 2.06-.94-2.06-.94-.94-2.06-.94 2.06-2.06.94z\"/><path d=\"M17.41 7.96l-1.37-1.37c-.4-.4-.92-.59-1.43-.59-.52 0-1.04.2-1.43.59L10.3 9.45l-7.72 7.72c-.78.78-.78 2.05 0 2.83L4 21.41c.39.39.9.59 1.41.59.51 0 1.02-.2 1.41-.59l7.78-7.78 2.81-2.81c.8-.78.8-2.07 0-2.86zM5.41 20L4 18.59l7.72-7.72 1.47 1.35L5.41 20z\"/>\n",
              "  </svg>\n",
              "      </button>\n",
              "      \n",
              "  <style>\n",
              "    .colab-df-container {\n",
              "      display:flex;\n",
              "      flex-wrap:wrap;\n",
              "      gap: 12px;\n",
              "    }\n",
              "\n",
              "    .colab-df-convert {\n",
              "      background-color: #E8F0FE;\n",
              "      border: none;\n",
              "      border-radius: 50%;\n",
              "      cursor: pointer;\n",
              "      display: none;\n",
              "      fill: #1967D2;\n",
              "      height: 32px;\n",
              "      padding: 0 0 0 0;\n",
              "      width: 32px;\n",
              "    }\n",
              "\n",
              "    .colab-df-convert:hover {\n",
              "      background-color: #E2EBFA;\n",
              "      box-shadow: 0px 1px 2px rgba(60, 64, 67, 0.3), 0px 1px 3px 1px rgba(60, 64, 67, 0.15);\n",
              "      fill: #174EA6;\n",
              "    }\n",
              "\n",
              "    [theme=dark] .colab-df-convert {\n",
              "      background-color: #3B4455;\n",
              "      fill: #D2E3FC;\n",
              "    }\n",
              "\n",
              "    [theme=dark] .colab-df-convert:hover {\n",
              "      background-color: #434B5C;\n",
              "      box-shadow: 0px 1px 3px 1px rgba(0, 0, 0, 0.15);\n",
              "      filter: drop-shadow(0px 1px 2px rgba(0, 0, 0, 0.3));\n",
              "      fill: #FFFFFF;\n",
              "    }\n",
              "  </style>\n",
              "\n",
              "      <script>\n",
              "        const buttonEl =\n",
              "          document.querySelector('#df-e0706e3a-5710-48ad-9ea9-5680fc1eeef5 button.colab-df-convert');\n",
              "        buttonEl.style.display =\n",
              "          google.colab.kernel.accessAllowed ? 'block' : 'none';\n",
              "\n",
              "        async function convertToInteractive(key) {\n",
              "          const element = document.querySelector('#df-e0706e3a-5710-48ad-9ea9-5680fc1eeef5');\n",
              "          const dataTable =\n",
              "            await google.colab.kernel.invokeFunction('convertToInteractive',\n",
              "                                                     [key], {});\n",
              "          if (!dataTable) return;\n",
              "\n",
              "          const docLinkHtml = 'Like what you see? Visit the ' +\n",
              "            '<a target=\"_blank\" href=https://colab.research.google.com/notebooks/data_table.ipynb>data table notebook</a>'\n",
              "            + ' to learn more about interactive tables.';\n",
              "          element.innerHTML = '';\n",
              "          dataTable['output_type'] = 'display_data';\n",
              "          await google.colab.output.renderOutput(dataTable, element);\n",
              "          const docLink = document.createElement('div');\n",
              "          docLink.innerHTML = docLinkHtml;\n",
              "          element.appendChild(docLink);\n",
              "        }\n",
              "      </script>\n",
              "    </div>\n",
              "  </div>\n",
              "  "
            ],
            "text/plain": [
              "                                    Id      Predicted\n",
              "0     d14cb73158624cf094c546d856fd3c80        뉴 740Li\n",
              "1     906631384e91493ebe1c7f34aea6f241      독일 뒤셀도르프로\n",
              "2     35e61dcb479643448a2cb7d326ae50a6     링크트인과 페이스북\n",
              "3     075e761b370040cb9041eecd39afc27c     링크트인과 페이스북\n",
              "4     e67ed38f3dd944be94d5b4c53731f334           마드리드\n",
              "...                                ...            ...\n",
              "4003  05fcb8054dc44dab8683579c2cf5e465  400만엔에서 200만엔\n",
              "4004  cc7f826b66724ce9b39e3a974ca15661             중동\n",
              "4005  3282034aa41e4fab980851ffd4a868dd         아시아~유럽\n",
              "4006  0a73550b36df4baf82ac2f98619d22e7            10일\n",
              "4007  dfe6ef25f84f461e89e54d370e4521d5        벨기에 브뤼셀\n",
              "\n",
              "[4008 rows x 2 columns]"
            ]
          },
          "execution_count": 69,
          "metadata": {},
          "output_type": "execute_result"
        }
      ]
    },
    {
      "cell_type": "code",
      "source": [
        "args.name"
      ],
      "metadata": {
        "colab": {
          "base_uri": "https://localhost:8080/",
          "height": 36
        },
        "id": "cRDvXR1fCDfK",
        "outputId": "beebc68a-8d93-41a1-c2c6-3c45f38c894b"
      },
      "execution_count": null,
      "outputs": [
        {
          "output_type": "execute_result",
          "data": {
            "text/plain": [
              "'kobigbird-bert-base_lr1e-05_ep30_max1024_317'"
            ],
            "application/vnd.google.colaboratory.intrinsic+json": {
              "type": "string"
            }
          },
          "metadata": {},
          "execution_count": 70
        }
      ]
    },
    {
      "cell_type": "markdown",
      "source": [
        "# References\n",
        "\n",
        "- https://github.com/huggingface/notebooks/blob/main/examples/question_answering.ipynb\n",
        "- https://github.com/gmihaila/ml_things/blob/master/src/ml_things/plot_functions.py\n",
        "- https://www.topbots.com/pretrain-transformers-models-in-pytorch/"
      ],
      "metadata": {
        "id": "9dTwwX2hv8s2"
      }
    }
  ]
}